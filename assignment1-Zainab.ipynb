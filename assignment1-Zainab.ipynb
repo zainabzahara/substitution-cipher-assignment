{
 "cells": [
  {
   "cell_type": "markdown",
   "id": "00172a96",
   "metadata": {},
   "source": [
    "# Substitution Ciphers"
   ]
  },
  {
   "cell_type": "code",
   "execution_count": 56,
   "id": "082b70d2-197b-4c55-9092-4c1cb02a6298",
   "metadata": {},
   "outputs": [],
   "source": [
    "# import modules"
   ]
  },
  {
   "cell_type": "markdown",
   "id": "c20a9001-f4fd-401f-922b-db8347ff36fe",
   "metadata": {},
   "source": [
    "## Introduction"
   ]
  },
  {
   "cell_type": "markdown",
   "id": "88c571e3-d03d-4506-a411-67663dc6ff9f",
   "metadata": {},
   "source": [
    "This assignment provides a **hands-on walkthrough** for **implementing encryption and decryption schemes for a substitution cipher**. It not only covers the code structure for both encryption and decryption but also includes practical tasks for decrypting ciphertext files. These tasks are designed to challenge and enhance your understanding of cryptographic concepts, making it an excellent learning opportunity for beginners in cryptography. While decrypting the ciphertext files can be challenging, especially for someone who doesn't have a prior experience, it offers valuable experience in analyzing and breaking substitution ciphers using frequency analysis and manual mapping techniques."
   ]
  },
  {
   "cell_type": "markdown",
   "id": "6a297866",
   "metadata": {},
   "source": [
    "## Caesar Cipher"
   ]
  },
  {
   "cell_type": "markdown",
   "id": "b53b1655",
   "metadata": {},
   "source": [
    "In **Caesar Cipher encryption**, we **fix a shift value** and then **shift each letter** in the plaintext by that amount in the alphabet. The result is the **Caesar-encrypted ciphertext** while keeping non-alphabetic characters unchanged.\n",
    "\n",
    "In **Caesar Cipher decryption**, we take the encrypted ciphertext and **shift each letter backward** by the fixed shift value in the alphabet. This reverses the encryption process, restoring the original plaintext while keeping non-alphabetic characters unchanged."
   ]
  },
  {
   "cell_type": "markdown",
   "id": "b29aef0d-75ee-4da1-b058-09fea1bb9c0a",
   "metadata": {},
   "source": [
    "### Encryption"
   ]
  },
  {
   "cell_type": "code",
   "execution_count": null,
   "id": "43b53968-3fbb-4ac1-a373-6b29c4845f08",
   "metadata": {},
   "outputs": [],
   "source": [
    "def caesar_encrypt(plaintext, shift=0):\n",
    "    ''' Encrypt `plaintext` (str) as a caesar cipher with a given `shift` (int) \n",
    "    '''\n",
    "    plain_text = \"\".join(plaintext)\n",
    "    indexes = []\n",
    "    alphabet = \"abcdefghijklmnopqrstuvwxyz\"\n",
    "    for i, letter in enumerate(plain_text):\n",
    "        #print(i, letter)\n",
    "        indexes.append(i)\n",
    "    ciphertext = []\n",
    "    for char in plain_text:\n",
    "        if char in alphabet:\n",
    "            original_index = alphabet.index(char)  \n",
    "            new_index = (original_index + shift) % 26\n",
    "            ciphertext.append(alphabet[new_index])\n",
    "        else:\n",
    "            ciphertext.append(char)  \n",
    "    ciphertext = \"\".join(ciphertext)\n",
    "    print(\"Original Text:  \", plain_text)\n",
    "    print(\"Encrypted Text: \", ciphertext)\n",
    "    return ciphertext"
   ]
  },
  {
   "cell_type": "code",
   "execution_count": null,
   "id": "9eb77216-0505-4a29-a8e8-458e273a91f4",
   "metadata": {},
   "outputs": [
    {
     "name": "stdout",
     "output_type": "stream",
     "text": [
      "Original Text:   hello!\n",
      "Encrypted Text:  lipps!\n",
      "hello! -> lipps!\n"
     ]
    }
   ],
   "source": [
    "plaintext = 'hello!' \n",
    "ciphertext = caesar_encrypt(plaintext, shift=4)\n",
    "\n",
    "print(plaintext, '->', ciphertext) # expected output 'hello! -> lipps!'"
   ]
  },
  {
   "cell_type": "markdown",
   "id": "d79da87f-6130-427e-9104-9619e3b7b5e4",
   "metadata": {},
   "source": [
    "### Decryption"
   ]
  },
  {
   "cell_type": "code",
   "execution_count": null,
   "id": "a5b0d026",
   "metadata": {},
   "outputs": [],
   "source": [
    "def caesar_decrypt(ciphertext, shift=0):\n",
    "    ''' Decrypt `ciphertext` (str) as a caesar cipher with a given `shift` (int) \n",
    "    '''\n",
    "    # code here\n",
    "    alphabet = \"abcdefghijklmnopqrstuvwxyz\"\n",
    "    plaintext = []\n",
    "\n",
    "    for char in ciphertext:\n",
    "        if char in alphabet: \n",
    "            original_index = alphabet.index(char)\n",
    "            new_index = (original_index - shift) % 26\n",
    "            plaintext.append(alphabet[new_index])\n",
    "        else:\n",
    "            plaintext.append(char)\n",
    "\n",
    "    plaintext = \"\".join(plaintext)\n",
    "\n",
    "    # Print results\n",
    "    print(\"Encrypted Text: \", ciphertext)\n",
    "    print(\"Decrypted Text: \", plaintext)    \n",
    "    return plaintext"
   ]
  },
  {
   "cell_type": "code",
   "execution_count": 60,
   "id": "4317bf77",
   "metadata": {},
   "outputs": [
    {
     "name": "stdout",
     "output_type": "stream",
     "text": [
      "Encrypted Text:  lipps!\n",
      "Decrypted Text:  hello!\n",
      "lipps! -> hello!\n"
     ]
    }
   ],
   "source": [
    "# code snippet to test the implementation of the decryption function\n",
    "ciphertext = 'lipps!' # 'hello!' encoded with shift=4\n",
    "plaintext = caesar_decrypt(ciphertext, shift=4)\n",
    "\n",
    "print(ciphertext, '->', plaintext)  # expected output 'lipps! -> hello!'"
   ]
  },
  {
   "cell_type": "markdown",
   "id": "6bf38609",
   "metadata": {},
   "source": [
    "### Ciphertext"
   ]
  },
  {
   "cell_type": "code",
   "execution_count": 61,
   "id": "09746945-d53e-47eb-8bf2-0079a150ecdc",
   "metadata": {},
   "outputs": [
    {
     "data": {
      "text/plain": [
       "'jgew (alsdasf sfv dslaf: jges, hjgfgmfuwv [ˈjgːes] ) ak lzw ushalsd ualq gx alsdq. al ak sdkg lzw ushalsd gx lzw dsrag jwyagf, lzw uwfljw gx lzw ewljghgdalsf ualq gx jgew ushalsd, sfv s khwuasd ugemfw (emfauahsdalq) fsewv ugemfw va jges ushalsdw. oalz 2,860,009 jwkavwflk af 1,285 ce2 (496.1 ki ea), jgew ak lzw ugmfljq\\'k egkl hghmdslwv ugemfw sfv lzw lzajv egkl hghmdgmk ualq af lzw wmjghwsf mfagf tq hghmdslagf oalzaf ualq daealk. lzw ewljghgdalsf ualq gx jgew, oalz s hghmdslagf gx 4,355,725 jwkavwflk, ak lzw egkl hghmdgmk ewljghgdalsf ualq af alsdq. alk ewljghgdalsf sjws ak lzw lzajv-egkl hghmdgmk oalzaf alsdq. jgew ak dguslwv af lzw uwfljsd-owklwjf hgjlagf gx lzw alsdasf hwfafkmds, oalzaf dsrag (dslame), sdgfy lzw kzgjwk gx lzw latwj nsddwq. nslausf ualq (lzw kesddwkl ugmfljq af lzw ogjdv sfv zwsvimsjlwjk gx lzw ogjdvoavw uslzgdau uzmjuz mfvwj lzw ygnwjfsfuw gx lzw zgdq kww) ak sf afvwhwfvwfl ugmfljq afkavw lzw ualq tgmfvsjawk gx jgew, lzw gfdq wpaklafy wpsehdw gx s ugmfljq oalzaf s ualq. jgew ak gxlwf jwxwjjwv lg sk lzw ualq gx kwnwf zaddk vmw lg alk ywgyjshzau dguslagf, sfv sdkg sk lzw \"wlwjfsd ualq\". jgew ak ywfwjsddq ugfkavwjwv lg tw lzw ujsvdw gx owklwjf uanadarslagf sfv owklwjf uzjaklasf umdlmjw, sfv lzw uwfljw gx lzw uslzgdau uzmjuz.\\njgew\\'k zaklgjq khsfk 28 uwflmjawk. ozadw jgesf eqlzgdgyq vslwk lzw xgmfvafy gx jgew sl sjgmfv 753 tu, lzw kalw zsk twwf afzstalwv xgj emuz dgfywj, escafy al s esbgj zmesf kwlldwewfl xgj gnwj lzjww eaddwffas sfv gfw gx lzw gdvwkl ugflafmgmkdq guumhawv ualawk af wmjghw. lzw ualq\\'k wsjdq hghmdslagf gjayafslwv xjge s eap gx dslafk, wljmkusfk, sfv kstafwk. wnwflmsddq, lzw ualq kmuuwkkanwdq twusew lzw ushalsd gx lzw jgesf cafyvge, lzw jgesf jwhmtdau sfv lzw jgesf wehajw, sfv ak jwysjvwv tq esfq sk lzw xajkl-wnwj aehwjasd ualq sfv ewljghgdak. al osk xajkl usddwv lzw wlwjfsd ualq (dslaf: mjtk swlwjfs; alsdasf: ds uallà wlwjfs) tq lzw jgesf hgwl latmddmk af lzw 1kl uwflmjq tu, sfv lzw wphjwkkagf osk sdkg lscwf mh tq gnav, najyad, sfv danq. jgew ak sdkg usddwv ushml emfva (ushalsd gx lzw ogjdv).\\nsxlwj lzw xsdd gx lzw wehajw af lzw owkl, ozauz esjcwv lzw twyaffafy gx lzw eavvdw sywk, jgew kdgodq xwdd mfvwj lzw hgdalausd ugfljgd gx lzw hshsuq, sfv af lzw 8lz uwflmjq, al twusew lzw ushalsd gx lzw hshsd klslwk, ozauz dsklwv mflad 1870. twyaffafy oalz lzw jwfsakksfuw, sdegkl sdd hghwk kafuw fauzgdsk n (1447–1455) hmjkmwv s ugzwjwfl sjuzalwulmjsd sfv mjtsf hjgyjseew gnwj xgmj zmfvjwv qwsjk, saewv sl escafy lzw ualq lzw sjlaklau sfv umdlmjsd uwfljw gx lzw ogjdv. af lzak osq, jgew xajkl twusew gfw gx lzw esbgj uwfljwk gx lzw jwfsakksfuw sfv lzwf twusew lzw tajlzhdsuw gx tglz lzw tsjgimw klqdw sfv fwgudskkauake. xsegmk sjlaklk, hsaflwjk, kumdhlgjk, sfv sjuzalwulk esvw jgew lzw uwfljw gx lzwaj sulanalq, ujwslafy esklwjhawuwk lzjgmyzgml lzw ualq. af 1871, jgew twusew lzw ushalsd gx lzw cafyvge gx alsdq, ozauz, af 1946, twusew lzw alsdasf jwhmtdau.\\naf 2019, jgew osk lzw 14lz egkl nakalwv ualq af lzw ogjdv, oalz 8.6 eaddagf lgmjaklk, lzw lzajv egkl nakalwv ualq af lzw wmjghwsf mfagf, sfv lzw egkl hghmdsj lgmjakl vwklafslagf af alsdq. alk zaklgjau uwfljw ak daklwv tq mfwkug sk s ogjdv zwjalsyw kalw. lzw zgkl ualq xgj lzw 1960 kmeewj gdqehauk, jgew ak sdkg lzw kwsl gx kwnwjsd khwuasdakwv sywfuawk gx lzw mfalwv fslagfk, kmuz sk lzw xggv sfv syjaumdlmjw gjysfarslagf (xsg), lzw ogjdv xggv hjgyjseew (oxh), lzw aflwjfslagfsd xmfv xgj syjaumdlmjsd vwnwdghewfl (axsv) sfv lzw mf kqklwe fwlogjc gf jmjsd vwnwdghewfl sfv xggv kwumjalq. lzw ualq sdkg zgklk lzw wmjghwsf mfagf (wm) vwdwyslagf lg lzw mfalwv fslagfk (mf) sfv lzw kwujwlsjasl gx lzw hsjdasewflsjq skkwetdq gx lzw mfagf xgj lzw ewvalwjjsfwsf (mxe) sk owdd sk lzw zwsvimsjlwjk gx kwnwjsd alsdasf emdlafslagfsd ugehsfawk, kmuz sk wfa, wfwd, lae, dwgfsjvg, sfv tsfck kmuz sk tfd. fmewjgmk ugehsfawk sjw tskwv oalzaf jgew\\'k wmj tmkafwkk vakljaul, kmuz sk lzw dmpmjq xskzagf zgmkw xwfva dguslwv af lzw hsdsrrg vwdds uanadlà alsdasfs. lzw hjwkwfuw gx jwfgofwv aflwjfslagfsd tjsfvk af lzw ualq zsk esvw jgew sf aehgjlsfl uwfljw gx xskzagf sfv vwkayf, sfv lzw uafwuallà klmvagk zsnw twwf lzw kwl gx esfq susvweq sosjv–oaffafy egnawk.'"
      ]
     },
     "execution_count": 61,
     "metadata": {},
     "output_type": "execute_result"
    }
   ],
   "source": [
    "# Load ciphertext\n",
    "with open(file='ciphertext_caesar.txt', encoding='utf-8') as f:\n",
    "    txt = f.read()\n",
    "txt #just for checking whther it was correctly reading or not!"
   ]
  },
  {
   "cell_type": "markdown",
   "id": "36d3498f",
   "metadata": {},
   "source": [
    "### Brute Force Attack"
   ]
  },
  {
   "cell_type": "markdown",
   "id": "1c3d1d7c-d12a-4104-8eae-c3ec454069ea",
   "metadata": {},
   "source": [
    "Describe the procedure necessary to break the Caesar Cipher  \n",
    "  \n",
    "A brute force attack is a trial-and-error method used to crack a cryptographic system by trying all possible keys or passwords until the correct one is found.  \n",
    "In our case: we can use the possible 26 shift values (English alphabets), and look for the correct decryption.\n",
    "\n",
    "**How Does It Work**\n",
    "\n",
    "1.  The attacker tries every possible key in the key space.\n",
    "2.  Once the correct key is found, the encrypted message can be decrypted.\n",
    "\n",
    "Since the Caesar cipher is just a shift cipher (each letter is shifted by a fixed number of places in the alphabet), there are only 25 possible keys (excluding the trivial shift of 0). This makes it highly vulnerable to brute force attacks."
   ]
  },
  {
   "cell_type": "code",
   "execution_count": null,
   "id": "de080a59-7b09-44b7-82a3-ab3bfc76d0ca",
   "metadata": {},
   "outputs": [
    {
     "name": "stdout",
     "output_type": "stream",
     "text": [
      "Shift 1: ifdv (zkrczre reu crkze: ifdr, gifefletvu [qifydr] ) zj kyv trgzkrc tzkp fw zkrcp. zk zj rcjf kyv trgzkrc fw kyv crqzf ivxzfe, kyv tvekiv fw kyv dvkifgfczkre tzkp fw ifdv trgzkrc, reu r jgvtzrc tfdlev (dleztzgrczkp) erdvu tfdlev uz ifdr trgzkrcv. nzky 2,860,009 ivjzuvekj ze 1,285 bd2 (496.1 jh dz), ifdv zj kyv tflekip'j dfjk gfglcrkvu tfdlev reu kyv kyziu dfjk gfglcflj tzkp ze kyv vlifgvre lezfe sp gfglcrkzfe nzkyze tzkp czdzkj. kyv dvkifgfczkre tzkp fw ifdv, nzky r gfglcrkzfe fw 4,355,725 ivjzuvekj, zj kyv dfjk gfglcflj dvkifgfczkre tzkp ze zkrcp. zkj dvkifgfczkre rivr zj kyv kyziu-dfjk gfglcflj nzkyze zkrcp. ifdv zj cftrkvu ze kyv tvekirc-nvjkvie gfikzfe fw kyv zkrczre gvezejlcr, nzkyze crqzf (crkzld), rcfex kyv jyfivj fw kyv kzsvi mrccvp. mrkztre tzkp (kyv jdrccvjk tflekip ze kyv nficu reu yvruhlrikvij fw kyv nficunzuv trkyfczt tylity leuvi kyv xfmvieretv fw kyv yfcp jvv) zj re zeuvgveuvek tflekip zejzuv kyv tzkp sfleurizvj fw ifdv, kyv fecp vozjkzex vordgcv fw r tflekip nzkyze r tzkp. ifdv zj fwkve ivwviivu kf rj kyv tzkp fw jvmve yzccj ulv kf zkj xvfxirgyzt cftrkzfe, reu rcjf rj kyv \"vkvierc tzkp\". ifdv zj xvevirccp tfejzuvivu kf sv kyv tirucv fw nvjkvie tzmzczqrkzfe reu nvjkvie tyizjkzre tlckliv, reu kyv tvekiv fw kyv trkyfczt tylity.\n",
      "ifdv'j yzjkfip jgrej 28 tveklizvj. nyzcv ifdre dpkyfcfxp urkvj kyv wfleuzex fw ifdv rk rifleu 753 st, kyv jzkv yrj svve zeyrszkvu wfi dlty cfexvi, drbzex zk r drafi yldre jvkkcvdvek wfi fmvi kyivv dzccveezr reu fev fw kyv fcuvjk tfekzelfljcp fttlgzvu tzkzvj ze vlifgv. kyv tzkp'j vricp gfglcrkzfe fizxzerkvu wifd r dzo fw crkzej, vkiljtrej, reu jrszevj. vmveklrccp, kyv tzkp jlttvjjzmvcp svtrdv kyv trgzkrc fw kyv ifdre bzexufd, kyv ifdre ivglsczt reu kyv ifdre vdgziv, reu zj ivxriuvu sp drep rj kyv wzijk-vmvi zdgvizrc tzkp reu dvkifgfczj. zk nrj wzijk trccvu kyv vkvierc tzkp (crkze: lisj rvkvier; zkrczre: cr tzkkw vkvier) sp kyv ifdre gfvk kzslcclj ze kyv 1jk tveklip st, reu kyv vogivjjzfe nrj rcjf krbve lg sp fmzu, mzixzc, reu czmp. ifdv zj rcjf trccvu trglk dleuz (trgzkrc fw kyv nficu).\n",
      "rwkvi kyv wrcc fw kyv vdgziv ze kyv nvjk, nyzty dribvu kyv svxzeezex fw kyv dzuucv rxvj, ifdv jcfncp wvcc leuvi kyv gfczkztrc tfekifc fw kyv grgrtp, reu ze kyv 8ky tveklip, zk svtrdv kyv trgzkrc fw kyv grgrc jkrkvj, nyzty crjkvu lekzc 1870. svxzeezex nzky kyv iverzjjretv, rcdfjk rcc gfgvj jzetv eztyfcrj m (1447–1455) glijlvu r tfyvivek rityzkvtklirc reu lisre gifxirddv fmvi wfli yleuivu pvrij, rzdvu rk drbzex kyv tzkp kyv rikzjkzt reu tlcklirc tvekiv fw kyv nficu. ze kyzj nrp, ifdv wzijk svtrdv fev fw kyv drafi tvekivj fw kyv iverzjjretv reu kyve svtrdv kyv szikygcrtv fw sfky kyv srifhlv jkpcv reu evftcrjjztzjd. wrdflj rikzjkj, grzekvij, jtlcgkfij, reu rityzkvtkj druv ifdv kyv tvekiv fw kyvzi rtkzmzkp, tivrkzex drjkvigzvtvj kyiflxyflk kyv tzkp. ze 1871, ifdv svtrdv kyv trgzkrc fw kyv bzexufd fw zkrcp, nyzty, ze 1946, svtrdv kyv zkrczre ivglsczt.\n",
      "ze 2019, ifdv nrj kyv 14ky dfjk mzjzkvu tzkp ze kyv nficu, nzky 8.6 dzcczfe kflizjkj, kyv kyziu dfjk mzjzkvu tzkp ze kyv vlifgvre lezfe, reu kyv dfjk gfglcri kflizjk uvjkzerkzfe ze zkrcp. zkj yzjkfizt tvekiv zj czjkvu sp levjtf rj r nficu yvizkrxv jzkv. kyv yfjk tzkp wfi kyv 1960 jlddvi fcpdgztj, ifdv zj rcjf kyv jvrk fw jvmvirc jgvtzrczjvu rxvetzvj fw kyv lezkvu erkzfej, jlty rj kyv wffu reu rxiztlckliv fixrezqrkzfe (wrf), kyv nficu wffu gifxirddv (nwg), kyv zekvierkzferc wleu wfi rxiztlcklirc uvmvcfgdvek (zwru) reu kyv le jpjkvd evknfib fe ilirc uvmvcfgdvek reu wffu jvtlizkp. kyv tzkp rcjf yfjkj kyv vlifgvre lezfe (vl) uvcvxrkzfe kf kyv lezkvu erkzfej (le) reu kyv jvtivkrizrk fw kyv griczrdvekrip rjjvdscp fw kyv lezfe wfi kyv dvuzkviirevre (lwd) rj nvcc rj kyv yvruhlrikvij fw jvmvirc zkrczre dlckzerkzferc tfdgrezvj, jlty rj vez, vevc, kzd, cvferiuf, reu srebj jlty rj sec. eldviflj tfdgrezvj riv srjvu nzkyze ifdv'j vli sljzevjj uzjkiztk, jlty rj kyv clolip wrjyzfe yfljv wveuz cftrkvu ze kyv grcrqqf uvccr tzmzckw zkrczrer. kyv givjvetv fw ivefnevu zekvierkzferc sireuj ze kyv tzkp yrj druv ifdv re zdgfikrek tvekiv fw wrjyzfe reu uvjzxe, reu kyv tzevtzkkw jkluzfj yrmv svve kyv jvk fw drep rtruvdp rnriu–nzeezex dfmzvj.\n",
      "\n",
      "Shift 2: hecu (yjqbyqd qdt bqjyd: hecq, fhedekdsut [phexcq] ) yi jxu sqfyjqb syjo ev yjqbo. yj yi qbie jxu sqfyjqb ev jxu bqpye huwyed, jxu sudjhu ev jxu cujhefebyjqd syjo ev hecu sqfyjqb, qdt q ifusyqb seckdu (ckdysyfqbyjo) dqcut seckdu ty hecq sqfyjqbu. myjx 2,860,009 huiytudji yd 1,285 ac2 (496.1 ig cy), hecu yi jxu sekdjho'i ceij fefkbqjut seckdu qdt jxu jxyht ceij fefkbeki syjo yd jxu ukhefuqd kdyed ro fefkbqjyed myjxyd syjo bycyji. jxu cujhefebyjqd syjo ev hecu, myjx q fefkbqjyed ev 4,355,725 huiytudji, yi jxu ceij fefkbeki cujhefebyjqd syjo yd yjqbo. yji cujhefebyjqd qhuq yi jxu jxyht-ceij fefkbeki myjxyd yjqbo. hecu yi besqjut yd jxu sudjhqb-muijuhd fehjyed ev jxu yjqbyqd fudydikbq, myjxyd bqpye (bqjykc), qbedw jxu ixehui ev jxu jyruh lqbbuo. lqjysqd syjo (jxu icqbbuij sekdjho yd jxu mehbt qdt xuqtgkqhjuhi ev jxu mehbtmytu sqjxebys sxkhsx kdtuh jxu weluhdqdsu ev jxu xebo iuu) yi qd ydtufudtudj sekdjho ydiytu jxu syjo rekdtqhyui ev hecu, jxu edbo unyijydw unqcfbu ev q sekdjho myjxyd q syjo. hecu yi evjud huvuhhut je qi jxu syjo ev iulud xybbi tku je yji wuewhqfxys besqjyed, qdt qbie qi jxu \"ujuhdqb syjo\". hecu yi wuduhqbbo sediytuhut je ru jxu shqtbu ev muijuhd sylybypqjyed qdt muijuhd sxhyijyqd skbjkhu, qdt jxu sudjhu ev jxu sqjxebys sxkhsx.\n",
      "hecu'i xyijeho ifqdi 28 sudjkhyui. mxybu hecqd cojxebewo tqjui jxu vekdtydw ev hecu qj qhekdt 753 rs, jxu iyju xqi ruud ydxqryjut veh cksx bedwuh, cqaydw yj q cqzeh xkcqd iujjbucudj veh eluh jxhuu cybbuddyq qdt edu ev jxu ebtuij sedjydkekibo esskfyut syjyui yd ukhefu. jxu syjo'i uqhbo fefkbqjyed ehywydqjut vhec q cyn ev bqjydi, ujhkisqdi, qdt iqrydui. uludjkqbbo, jxu syjo ikssuiiylubo rusqcu jxu sqfyjqb ev jxu hecqd aydwtec, jxu hecqd hufkrbys qdt jxu hecqd ucfyhu, qdt yi huwqhtut ro cqdo qi jxu vyhij-uluh ycfuhyqb syjo qdt cujhefebyi. yj mqi vyhij sqbbut jxu ujuhdqb syjo (bqjyd: khri qujuhdq; yjqbyqd: bq syjjv ujuhdq) ro jxu hecqd feuj jyrkbbki yd jxu 1ij sudjkho rs, qdt jxu unfhuiiyed mqi qbie jqaud kf ro elyt, lyhwyb, qdt bylo. hecu yi qbie sqbbut sqfkj ckdty (sqfyjqb ev jxu mehbt).\n",
      "qvjuh jxu vqbb ev jxu ucfyhu yd jxu muij, mxysx cqhaut jxu ruwyddydw ev jxu cyttbu qwui, hecu ibembo vubb kdtuh jxu febyjysqb sedjheb ev jxu fqfqso, qdt yd jxu 8jx sudjkho, yj rusqcu jxu sqfyjqb ev jxu fqfqb ijqjui, mxysx bqijut kdjyb 1870. ruwyddydw myjx jxu hudqyiiqdsu, qbceij qbb fefui iydsu dysxebqi l (1447–1455) fkhikut q sexuhudj qhsxyjusjkhqb qdt khrqd fhewhqccu eluh vekh xkdthut ouqhi, qycut qj cqaydw jxu syjo jxu qhjyijys qdt skbjkhqb sudjhu ev jxu mehbt. yd jxyi mqo, hecu vyhij rusqcu edu ev jxu cqzeh sudjhui ev jxu hudqyiiqdsu qdt jxud rusqcu jxu ryhjxfbqsu ev rejx jxu rqhegku ijobu qdt duesbqiiysyic. vqceki qhjyiji, fqydjuhi, iskbfjehi, qdt qhsxyjusji cqtu hecu jxu sudjhu ev jxuyh qsjylyjo, shuqjydw cqijuhfyusui jxhekwxekj jxu syjo. yd 1871, hecu rusqcu jxu sqfyjqb ev jxu aydwtec ev yjqbo, mxysx, yd 1946, rusqcu jxu yjqbyqd hufkrbys.\n",
      "yd 2019, hecu mqi jxu 14jx ceij lyiyjut syjo yd jxu mehbt, myjx 8.6 cybbyed jekhyiji, jxu jxyht ceij lyiyjut syjo yd jxu ukhefuqd kdyed, qdt jxu ceij fefkbqh jekhyij tuijydqjyed yd yjqbo. yji xyijehys sudjhu yi byijut ro kduise qi q mehbt xuhyjqwu iyju. jxu xeij syjo veh jxu 1960 ikccuh ebocfysi, hecu yi qbie jxu iuqj ev iuluhqb ifusyqbyiut qwudsyui ev jxu kdyjut dqjyedi, iksx qi jxu veet qdt qwhyskbjkhu ehwqdypqjyed (vqe), jxu mehbt veet fhewhqccu (mvf), jxu ydjuhdqjyedqb vkdt veh qwhyskbjkhqb tulubefcudj (yvqt) qdt jxu kd ioijuc dujmeha ed hkhqb tulubefcudj qdt veet iuskhyjo. jxu syjo qbie xeiji jxu ukhefuqd kdyed (uk) tubuwqjyed je jxu kdyjut dqjyedi (kd) qdt jxu iushujqhyqj ev jxu fqhbyqcudjqho qiiucrbo ev jxu kdyed veh jxu cutyjuhhqduqd (kvc) qi mubb qi jxu xuqtgkqhjuhi ev iuluhqb yjqbyqd ckbjydqjyedqb secfqdyui, iksx qi udy, udub, jyc, buedqhte, qdt rqdai iksx qi rdb. dkcuheki secfqdyui qhu rqiut myjxyd hecu'i ukh rkiyduii tyijhysj, iksx qi jxu bknkho vqixyed xekiu vudty besqjut yd jxu fqbqppe tubbq sylybjv yjqbyqdq. jxu fhuiudsu ev hudemdut ydjuhdqjyedqb rhqdti yd jxu syjo xqi cqtu hecu qd ycfehjqdj sudjhu ev vqixyed qdt tuiywd, qdt jxu sydusyjjv ijktyei xqlu ruud jxu iuj ev cqdo qsqtuco qmqht–myddydw celyui.\n",
      "\n",
      "Shift 3: gdbt (xipaxpc pcs apixc: gdbp, egdcdjcrts [ogdwbp] ) xh iwt rpexipa rxin du xipan. xi xh pahd iwt rpexipa du iwt apoxd gtvxdc, iwt rtcigt du iwt btigdedaxipc rxin du gdbt rpexipa, pcs p hetrxpa rdbjct (bjcxrxepaxin) cpbts rdbjct sx gdbp rpexipat. lxiw 2,860,009 gthxstcih xc 1,285 zb2 (496.1 hf bx), gdbt xh iwt rdjcign'h bdhi edejapits rdbjct pcs iwt iwxgs bdhi edejadjh rxin xc iwt tjgdetpc jcxdc qn edejapixdc lxiwxc rxin axbxih. iwt btigdedaxipc rxin du gdbt, lxiw p edejapixdc du 4,355,725 gthxstcih, xh iwt bdhi edejadjh btigdedaxipc rxin xc xipan. xih btigdedaxipc pgtp xh iwt iwxgs-bdhi edejadjh lxiwxc xipan. gdbt xh adrpits xc iwt rtcigpa-lthitgc edgixdc du iwt xipaxpc etcxchjap, lxiwxc apoxd (apixjb), padcv iwt hwdgth du iwt ixqtg kpaatn. kpixrpc rxin (iwt hbpaathi rdjcign xc iwt ldgas pcs wtpsfjpgitgh du iwt ldgaslxst rpiwdaxr rwjgrw jcstg iwt vdktgcpcrt du iwt wdan htt) xh pc xcstetcstci rdjcign xchxst iwt rxin qdjcspgxth du gdbt, iwt dcan tmxhixcv tmpbeat du p rdjcign lxiwxc p rxin. gdbt xh duitc gtutggts id ph iwt rxin du htktc wxaah sjt id xih vtdvgpewxr adrpixdc, pcs pahd ph iwt \"titgcpa rxin\". gdbt xh vtctgpaan rdchxstgts id qt iwt rgpsat du lthitgc rxkxaxopixdc pcs lthitgc rwgxhixpc rjaijgt, pcs iwt rtcigt du iwt rpiwdaxr rwjgrw.\n",
      "gdbt'h wxhidgn hepch 28 rtcijgxth. lwxat gdbpc bniwdadvn spith iwt udjcsxcv du gdbt pi pgdjcs 753 qr, iwt hxit wph qttc xcwpqxits udg bjrw adcvtg, bpzxcv xi p bpydg wjbpc htiiatbtci udg dktg iwgtt bxaatccxp pcs dct du iwt dasthi rdcixcjdjhan drrjexts rxixth xc tjgdet. iwt rxin'h tpgan edejapixdc dgxvxcpits ugdb p bxm du apixch, tigjhrpch, pcs hpqxcth. tktcijpaan, iwt rxin hjrrthhxktan qtrpbt iwt rpexipa du iwt gdbpc zxcvsdb, iwt gdbpc gtejqaxr pcs iwt gdbpc tbexgt, pcs xh gtvpgsts qn bpcn ph iwt uxghi-tktg xbetgxpa rxin pcs btigdedaxh. xi lph uxghi rpaats iwt titgcpa rxin (apixc: jgqh ptitgcp; xipaxpc: ap rxiiu titgcp) qn iwt gdbpc edti ixqjaajh xc iwt 1hi rtcijgn qr, pcs iwt tmegthhxdc lph pahd ipztc je qn dkxs, kxgvxa, pcs axkn. gdbt xh pahd rpaats rpeji bjcsx (rpexipa du iwt ldgas).\n",
      "puitg iwt upaa du iwt tbexgt xc iwt lthi, lwxrw bpgzts iwt qtvxccxcv du iwt bxssat pvth, gdbt hadlan utaa jcstg iwt edaxixrpa rdcigda du iwt epeprn, pcs xc iwt 8iw rtcijgn, xi qtrpbt iwt rpexipa du iwt epepa hipith, lwxrw aphits jcixa 1870. qtvxccxcv lxiw iwt gtcpxhhpcrt, pabdhi paa edeth hxcrt cxrwdaph k (1447–1455) ejghjts p rdwtgtci pgrwxitrijgpa pcs jgqpc egdvgpbbt dktg udjg wjcsgts ntpgh, pxbts pi bpzxcv iwt rxin iwt pgixhixr pcs rjaijgpa rtcigt du iwt ldgas. xc iwxh lpn, gdbt uxghi qtrpbt dct du iwt bpydg rtcigth du iwt gtcpxhhpcrt pcs iwtc qtrpbt iwt qxgiweaprt du qdiw iwt qpgdfjt hinat pcs ctdraphhxrxhb. upbdjh pgixhih, epxcitgh, hrjaeidgh, pcs pgrwxitrih bpst gdbt iwt rtcigt du iwtxg prixkxin, rgtpixcv bphitgextrth iwgdjvwdji iwt rxin. xc 1871, gdbt qtrpbt iwt rpexipa du iwt zxcvsdb du xipan, lwxrw, xc 1946, qtrpbt iwt xipaxpc gtejqaxr.\n",
      "xc 2019, gdbt lph iwt 14iw bdhi kxhxits rxin xc iwt ldgas, lxiw 8.6 bxaaxdc idjgxhih, iwt iwxgs bdhi kxhxits rxin xc iwt tjgdetpc jcxdc, pcs iwt bdhi edejapg idjgxhi sthixcpixdc xc xipan. xih wxhidgxr rtcigt xh axhits qn jcthrd ph p ldgas wtgxipvt hxit. iwt wdhi rxin udg iwt 1960 hjbbtg danbexrh, gdbt xh pahd iwt htpi du htktgpa hetrxpaxhts pvtcrxth du iwt jcxits cpixdch, hjrw ph iwt udds pcs pvgxrjaijgt dgvpcxopixdc (upd), iwt ldgas udds egdvgpbbt (lue), iwt xcitgcpixdcpa ujcs udg pvgxrjaijgpa stktadebtci (xups) pcs iwt jc hnhitb ctildgz dc gjgpa stktadebtci pcs udds htrjgxin. iwt rxin pahd wdhih iwt tjgdetpc jcxdc (tj) statvpixdc id iwt jcxits cpixdch (jc) pcs iwt htrgtipgxpi du iwt epgaxpbtcipgn phhtbqan du iwt jcxdc udg iwt btsxitggpctpc (jub) ph ltaa ph iwt wtpsfjpgitgh du htktgpa xipaxpc bjaixcpixdcpa rdbepcxth, hjrw ph tcx, tcta, ixb, atdcpgsd, pcs qpczh hjrw ph qca. cjbtgdjh rdbepcxth pgt qphts lxiwxc gdbt'h tjg qjhxcthh sxhigxri, hjrw ph iwt ajmjgn uphwxdc wdjht utcsx adrpits xc iwt epapood staap rxkxaiu xipaxpcp. iwt egthtcrt du gtcdlcts xcitgcpixdcpa qgpcsh xc iwt rxin wph bpst gdbt pc xbedgipci rtcigt du uphwxdc pcs sthxvc, pcs iwt rxctrxiiu hijsxdh wpkt qttc iwt hti du bpcn prpstbn plpgs–lxccxcv bdkxth.\n",
      "\n",
      "Shift 4: fcas (whozwob obr zohwb: fcao, dfcbcibqsr [nfcvao] ) wg hvs qodwhoz qwhm ct whozm. wh wg ozgc hvs qodwhoz ct hvs zonwc fsuwcb, hvs qsbhfs ct hvs ashfcdczwhob qwhm ct fcas qodwhoz, obr o gdsqwoz qcaibs (aibwqwdozwhm) boasr qcaibs rw fcao qodwhozs. kwhv 2,860,009 fsgwrsbhg wb 1,285 ya2 (496.1 ge aw), fcas wg hvs qcibhfm'g acgh dcdizohsr qcaibs obr hvs hvwfr acgh dcdizcig qwhm wb hvs sifcdsob ibwcb pm dcdizohwcb kwhvwb qwhm zwawhg. hvs ashfcdczwhob qwhm ct fcas, kwhv o dcdizohwcb ct 4,355,725 fsgwrsbhg, wg hvs acgh dcdizcig ashfcdczwhob qwhm wb whozm. whg ashfcdczwhob ofso wg hvs hvwfr-acgh dcdizcig kwhvwb whozm. fcas wg zcqohsr wb hvs qsbhfoz-ksghsfb dcfhwcb ct hvs whozwob dsbwbgizo, kwhvwb zonwc (zohwia), ozcbu hvs gvcfsg ct hvs hwpsf jozzsm. johwqob qwhm (hvs gaozzsgh qcibhfm wb hvs kcfzr obr vsoreiofhsfg ct hvs kcfzrkwrs qohvczwq qvifqv ibrsf hvs ucjsfbobqs ct hvs vczm gss) wg ob wbrsdsbrsbh qcibhfm wbgwrs hvs qwhm pcibrofwsg ct fcas, hvs cbzm slwghwbu sloadzs ct o qcibhfm kwhvwb o qwhm. fcas wg cthsb fstsffsr hc og hvs qwhm ct gsjsb vwzzg ris hc whg uscufodvwq zcqohwcb, obr ozgc og hvs \"shsfboz qwhm\". fcas wg usbsfozzm qcbgwrsfsr hc ps hvs qforzs ct ksghsfb qwjwzwnohwcb obr ksghsfb qvfwghwob qizhifs, obr hvs qsbhfs ct hvs qohvczwq qvifqv.\n",
      "fcas'g vwghcfm gdobg 28 qsbhifwsg. kvwzs fcaob amhvczcum rohsg hvs tcibrwbu ct fcas oh ofcibr 753 pq, hvs gwhs vog pssb wbvopwhsr tcf aiqv zcbusf, aoywbu wh o aoxcf viaob gshhzsasbh tcf cjsf hvfss awzzsbbwo obr cbs ct hvs czrsgh qcbhwbicigzm cqqidwsr qwhwsg wb sifcds. hvs qwhm'g sofzm dcdizohwcb cfwuwbohsr tfca o awl ct zohwbg, shfigqobg, obr gopwbsg. sjsbhiozzm, hvs qwhm giqqsggwjszm psqoas hvs qodwhoz ct hvs fcaob ywburca, hvs fcaob fsdipzwq obr hvs fcaob sadwfs, obr wg fsuofrsr pm aobm og hvs twfgh-sjsf wadsfwoz qwhm obr ashfcdczwg. wh kog twfgh qozzsr hvs shsfboz qwhm (zohwb: ifpg oshsfbo; whozwob: zo qwhht shsfbo) pm hvs fcaob dcsh hwpizzig wb hvs 1gh qsbhifm pq, obr hvs sldfsggwcb kog ozgc hoysb id pm cjwr, jwfuwz, obr zwjm. fcas wg ozgc qozzsr qodih aibrw (qodwhoz ct hvs kcfzr).\n",
      "othsf hvs tozz ct hvs sadwfs wb hvs ksgh, kvwqv aofysr hvs psuwbbwbu ct hvs awrrzs ousg, fcas gzckzm tszz ibrsf hvs dczwhwqoz qcbhfcz ct hvs dodoqm, obr wb hvs 8hv qsbhifm, wh psqoas hvs qodwhoz ct hvs dodoz ghohsg, kvwqv zoghsr ibhwz 1870. psuwbbwbu kwhv hvs fsbowggobqs, ozacgh ozz dcdsg gwbqs bwqvczog j (1447–1455) difgisr o qcvsfsbh ofqvwhsqhifoz obr ifpob dfcufoaas cjsf tcif vibrfsr msofg, owasr oh aoywbu hvs qwhm hvs ofhwghwq obr qizhifoz qsbhfs ct hvs kcfzr. wb hvwg kom, fcas twfgh psqoas cbs ct hvs aoxcf qsbhfsg ct hvs fsbowggobqs obr hvsb psqoas hvs pwfhvdzoqs ct pchv hvs pofceis ghmzs obr bscqzoggwqwga. toacig ofhwghg, dowbhsfg, gqizdhcfg, obr ofqvwhsqhg aors fcas hvs qsbhfs ct hvswf oqhwjwhm, qfsohwbu aoghsfdwsqsg hvfciuvcih hvs qwhm. wb 1871, fcas psqoas hvs qodwhoz ct hvs ywburca ct whozm, kvwqv, wb 1946, psqoas hvs whozwob fsdipzwq.\n",
      "wb 2019, fcas kog hvs 14hv acgh jwgwhsr qwhm wb hvs kcfzr, kwhv 8.6 awzzwcb hcifwghg, hvs hvwfr acgh jwgwhsr qwhm wb hvs sifcdsob ibwcb, obr hvs acgh dcdizof hcifwgh rsghwbohwcb wb whozm. whg vwghcfwq qsbhfs wg zwghsr pm ibsgqc og o kcfzr vsfwhous gwhs. hvs vcgh qwhm tcf hvs 1960 giaasf czmadwqg, fcas wg ozgc hvs gsoh ct gsjsfoz gdsqwozwgsr ousbqwsg ct hvs ibwhsr bohwcbg, giqv og hvs tccr obr oufwqizhifs cfuobwnohwcb (toc), hvs kcfzr tccr dfcufoaas (ktd), hvs wbhsfbohwcboz tibr tcf oufwqizhifoz rsjszcdasbh (wtor) obr hvs ib gmghsa bshkcfy cb fifoz rsjszcdasbh obr tccr gsqifwhm. hvs qwhm ozgc vcghg hvs sifcdsob ibwcb (si) rszsuohwcb hc hvs ibwhsr bohwcbg (ib) obr hvs gsqfshofwoh ct hvs dofzwoasbhofm oggsapzm ct hvs ibwcb tcf hvs asrwhsffobsob (ita) og kszz og hvs vsoreiofhsfg ct gsjsfoz whozwob aizhwbohwcboz qcadobwsg, giqv og sbw, sbsz, hwa, zscbofrc, obr pobyg giqv og pbz. biasfcig qcadobwsg ofs pogsr kwhvwb fcas'g sif pigwbsgg rwghfwqh, giqv og hvs zilifm togvwcb vcigs tsbrw zcqohsr wb hvs dozonnc rszzo qwjwzht whozwobo. hvs dfsgsbqs ct fsbckbsr wbhsfbohwcboz pfobrg wb hvs qwhm vog aors fcas ob wadcfhobh qsbhfs ct togvwcb obr rsgwub, obr hvs qwbsqwhht ghirwcg vojs pssb hvs gsh ct aobm oqorsam okofr–kwbbwbu acjwsg.\n",
      "\n",
      "Shift 5: ebzr (vgnyvna naq yngva: ebzn, cebabhaprq [mebuzn] ) vf gur pncvgny pvgl bs vgnyl. vg vf nyfb gur pncvgny bs gur ynmvb ertvba, gur prager bs gur zrgebcbyvgna pvgl bs ebzr pncvgny, naq n fcrpvny pbzhar (zhavpvcnyvgl) anzrq pbzhar qv ebzn pncvgnyr. jvgu 2,860,009 erfvqragf va 1,285 xz2 (496.1 fd zv), ebzr vf gur pbhagel'f zbfg cbchyngrq pbzhar naq gur guveq zbfg cbchybhf pvgl va gur rhebcrna havba ol cbchyngvba jvguva pvgl yvzvgf. gur zrgebcbyvgna pvgl bs ebzr, jvgu n cbchyngvba bs 4,355,725 erfvqragf, vf gur zbfg cbchybhf zrgebcbyvgna pvgl va vgnyl. vgf zrgebcbyvgna nern vf gur guveq-zbfg cbchybhf jvguva vgnyl. ebzr vf ybpngrq va gur prageny-jrfgrea cbegvba bs gur vgnyvna cravafhyn, jvguva ynmvb (yngvhz), nybat gur fuberf bs gur gvore inyyrl. ingvpna pvgl (gur fznyyrfg pbhagel va gur jbeyq naq urnqdhnegref bs gur jbeyqjvqr pngubyvp puhepu haqre gur tbireanapr bs gur ubyl frr) vf na vaqrcraqrag pbhagel vafvqr gur pvgl obhaqnevrf bs ebzr, gur bayl rkvfgvat rknzcyr bs n pbhagel jvguva n pvgl. ebzr vf bsgra ersreerq gb nf gur pvgl bs frira uvyyf qhr gb vgf trbtencuvp ybpngvba, naq nyfb nf gur \"rgreany pvgl\". ebzr vf trarenyyl pbafvqrerq gb or gur penqyr bs jrfgrea pvivyvmngvba naq jrfgrea puevfgvna phygher, naq gur prager bs gur pngubyvp puhepu.\n",
      "ebzr'f uvfgbel fcnaf 28 praghevrf. juvyr ebzna zlgubybtl qngrf gur sbhaqvat bs ebzr ng nebhaq 753 op, gur fvgr unf orra vaunovgrq sbe zhpu ybatre, znxvat vg n znwbe uhzna frggyrzrag sbe bire guerr zvyyraavn naq bar bs gur byqrfg pbagvahbhfyl bpphcvrq pvgvrf va rhebcr. gur pvgl'f rneyl cbchyngvba bevtvangrq sebz n zvk bs yngvaf, rgehfpnaf, naq fnovarf. riraghnyyl, gur pvgl fhpprffviryl orpnzr gur pncvgny bs gur ebzna xvatqbz, gur ebzna erchoyvp naq gur ebzna rzcver, naq vf ertneqrq ol znal nf gur svefg-rire vzcrevny pvgl naq zrgebcbyvf. vg jnf svefg pnyyrq gur rgreany pvgl (yngva: heof nrgrean; vgnyvna: yn pvggs rgrean) ol gur ebzna cbrg gvohyyhf va gur 1fg praghel op, naq gur rkcerffvba jnf nyfb gnxra hc ol bivq, ivetvy, naq yvil. ebzr vf nyfb pnyyrq pnchg zhaqv (pncvgny bs gur jbeyq).\n",
      "nsgre gur snyy bs gur rzcver va gur jrfg, juvpu znexrq gur ortvaavat bs gur zvqqyr ntrf, ebzr fybjyl sryy haqre gur cbyvgvpny pbageby bs gur cncnpl, naq va gur 8gu praghel, vg orpnzr gur pncvgny bs gur cncny fgngrf, juvpu ynfgrq hagvy 1870. ortvaavat jvgu gur eranvffnapr, nyzbfg nyy cbcrf fvapr avpubynf i (1447–1455) chefhrq n pburerag nepuvgrpgheny naq heona cebtenzzr bire sbhe uhaqerq lrnef, nvzrq ng znxvat gur pvgl gur negvfgvp naq phygheny prager bs gur jbeyq. va guvf jnl, ebzr svefg orpnzr bar bs gur znwbe pragerf bs gur eranvffnapr naq gura orpnzr gur ovegucynpr bs obgu gur onebdhr fglyr naq arbpynffvpvfz. snzbhf negvfgf, cnvagref, fphycgbef, naq nepuvgrpgf znqr ebzr gur prager bs gurve npgvivgl, perngvat znfgrecvrprf guebhtubhg gur pvgl. va 1871, ebzr orpnzr gur pncvgny bs gur xvatqbz bs vgnyl, juvpu, va 1946, orpnzr gur vgnyvna erchoyvp.\n",
      "va 2019, ebzr jnf gur 14gu zbfg ivfvgrq pvgl va gur jbeyq, jvgu 8.6 zvyyvba gbhevfgf, gur guveq zbfg ivfvgrq pvgl va gur rhebcrna havba, naq gur zbfg cbchyne gbhevfg qrfgvangvba va vgnyl. vgf uvfgbevp prager vf yvfgrq ol harfpb nf n jbeyq urevgntr fvgr. gur ubfg pvgl sbe gur 1960 fhzzre bylzcvpf, ebzr vf nyfb gur frng bs frireny fcrpvnyvfrq ntrapvrf bs gur havgrq angvbaf, fhpu nf gur sbbq naq ntevphygher betnavmngvba (snb), gur jbeyq sbbq cebtenzzr (jsc), gur vagreangvbany shaq sbe ntevphygheny qrirybczrag (vsnq) naq gur ha flfgrz argjbex ba eheny qrirybczrag naq sbbq frphevgl. gur pvgl nyfb ubfgf gur rhebcrna havba (rh) qryrtngvba gb gur havgrq angvbaf (ha) naq gur frpergnevng bs gur cneyvnzragnel nffrzoyl bs gur havba sbe gur zrqvgreenarna (hsz) nf jryy nf gur urnqdhnegref bs frireny vgnyvna zhygvangvbany pbzcnavrf, fhpu nf rav, rary, gvz, yrbaneqb, naq onaxf fhpu nf oay. ahzrebhf pbzcnavrf ner onfrq jvguva ebzr'f rhe ohfvarff qvfgevpg, fhpu nf gur yhkhel snfuvba ubhfr sraqv ybpngrq va gur cnynmmb qryyn pvivygs vgnyvnan. gur cerfrapr bs erabjarq vagreangvbany oenaqf va gur pvgl unf znqr ebzr na vzcbegnag prager bs snfuvba naq qrfvta, naq gur pvarpvggs fghqvbf unir orra gur frg bs znal npnqrzl njneq–jvaavat zbivrf.\n",
      "\n",
      "Shift 6: dayq (ufmxumz mzp xmfuz: daym, bdazagzoqp [ldatym] ) ue ftq ombufmx oufk ar ufmxk. uf ue mxea ftq ombufmx ar ftq xmlua dqsuaz, ftq oqzfdq ar ftq yqfdabaxufmz oufk ar dayq ombufmx, mzp m ebqoumx oaygzq (ygzuoubmxufk) zmyqp oaygzq pu daym ombufmxq. iuft 2,860,009 dqeupqzfe uz 1,285 wy2 (496.1 ec yu), dayq ue ftq oagzfdk'e yaef babgxmfqp oaygzq mzp ftq ftudp yaef babgxage oufk uz ftq qgdabqmz gzuaz nk babgxmfuaz iuftuz oufk xuyufe. ftq yqfdabaxufmz oufk ar dayq, iuft m babgxmfuaz ar 4,355,725 dqeupqzfe, ue ftq yaef babgxage yqfdabaxufmz oufk uz ufmxk. ufe yqfdabaxufmz mdqm ue ftq ftudp-yaef babgxage iuftuz ufmxk. dayq ue xaomfqp uz ftq oqzfdmx-iqefqdz badfuaz ar ftq ufmxumz bqzuzegxm, iuftuz xmlua (xmfugy), mxazs ftq etadqe ar ftq funqd hmxxqk. hmfuomz oufk (ftq eymxxqef oagzfdk uz ftq iadxp mzp tqmpcgmdfqde ar ftq iadxpiupq omftaxuo otgdot gzpqd ftq sahqdzmzoq ar ftq taxk eqq) ue mz uzpqbqzpqzf oagzfdk uzeupq ftq oufk nagzpmduqe ar dayq, ftq azxk qjuefuzs qjmybxq ar m oagzfdk iuftuz m oufk. dayq ue arfqz dqrqddqp fa me ftq oufk ar eqhqz tuxxe pgq fa ufe sqasdmbtuo xaomfuaz, mzp mxea me ftq \"qfqdzmx oufk\". dayq ue sqzqdmxxk oazeupqdqp fa nq ftq odmpxq ar iqefqdz ouhuxulmfuaz mzp iqefqdz otduefumz ogxfgdq, mzp ftq oqzfdq ar ftq omftaxuo otgdot.\n",
      "dayq'e tuefadk ebmze 28 oqzfgduqe. ituxq daymz ykftaxask pmfqe ftq ragzpuzs ar dayq mf mdagzp 753 no, ftq eufq tme nqqz uztmnufqp rad ygot xazsqd, ymwuzs uf m ymvad tgymz eqffxqyqzf rad ahqd ftdqq yuxxqzzum mzp azq ar ftq axpqef oazfuzgagexk aoogbuqp oufuqe uz qgdabq. ftq oufk'e qmdxk babgxmfuaz adusuzmfqp rday m yuj ar xmfuze, qfdgeomze, mzp emnuzqe. qhqzfgmxxk, ftq oufk egooqeeuhqxk nqomyq ftq ombufmx ar ftq daymz wuzspay, ftq daymz dqbgnxuo mzp ftq daymz qybudq, mzp ue dqsmdpqp nk ymzk me ftq rudef-qhqd uybqdumx oufk mzp yqfdabaxue. uf ime rudef omxxqp ftq qfqdzmx oufk (xmfuz: gdne mqfqdzm; ufmxumz: xm ouffr qfqdzm) nk ftq daymz baqf fungxxge uz ftq 1ef oqzfgdk no, mzp ftq qjbdqeeuaz ime mxea fmwqz gb nk ahup, hudsux, mzp xuhk. dayq ue mxea omxxqp ombgf ygzpu (ombufmx ar ftq iadxp).\n",
      "mrfqd ftq rmxx ar ftq qybudq uz ftq iqef, ituot ymdwqp ftq nqsuzzuzs ar ftq yuppxq msqe, dayq exaixk rqxx gzpqd ftq baxufuomx oazfdax ar ftq bmbmok, mzp uz ftq 8ft oqzfgdk, uf nqomyq ftq ombufmx ar ftq bmbmx efmfqe, ituot xmefqp gzfux 1870. nqsuzzuzs iuft ftq dqzmueemzoq, mxyaef mxx babqe euzoq zuotaxme h (1447–1455) bgdegqp m oatqdqzf mdotufqofgdmx mzp gdnmz bdasdmyyq ahqd ragd tgzpdqp kqmde, muyqp mf ymwuzs ftq oufk ftq mdfuefuo mzp ogxfgdmx oqzfdq ar ftq iadxp. uz ftue imk, dayq rudef nqomyq azq ar ftq ymvad oqzfdqe ar ftq dqzmueemzoq mzp ftqz nqomyq ftq nudftbxmoq ar naft ftq nmdacgq efkxq mzp zqaoxmeeuouey. rmyage mdfuefe, bmuzfqde, eogxbfade, mzp mdotufqofe ympq dayq ftq oqzfdq ar ftqud mofuhufk, odqmfuzs ymefqdbuqoqe ftdagstagf ftq oufk. uz 1871, dayq nqomyq ftq ombufmx ar ftq wuzspay ar ufmxk, ituot, uz 1946, nqomyq ftq ufmxumz dqbgnxuo.\n",
      "uz 2019, dayq ime ftq 14ft yaef hueufqp oufk uz ftq iadxp, iuft 8.6 yuxxuaz fagduefe, ftq ftudp yaef hueufqp oufk uz ftq qgdabqmz gzuaz, mzp ftq yaef babgxmd fagduef pqefuzmfuaz uz ufmxk. ufe tuefaduo oqzfdq ue xuefqp nk gzqeoa me m iadxp tqdufmsq eufq. ftq taef oufk rad ftq 1960 egyyqd axkybuoe, dayq ue mxea ftq eqmf ar eqhqdmx ebqoumxueqp msqzouqe ar ftq gzufqp zmfuaze, egot me ftq raap mzp msduogxfgdq adsmzulmfuaz (rma), ftq iadxp raap bdasdmyyq (irb), ftq uzfqdzmfuazmx rgzp rad msduogxfgdmx pqhqxabyqzf (urmp) mzp ftq gz ekefqy zqfiadw az dgdmx pqhqxabyqzf mzp raap eqogdufk. ftq oufk mxea taefe ftq qgdabqmz gzuaz (qg) pqxqsmfuaz fa ftq gzufqp zmfuaze (gz) mzp ftq eqodqfmdumf ar ftq bmdxumyqzfmdk meeqynxk ar ftq gzuaz rad ftq yqpufqddmzqmz (gry) me iqxx me ftq tqmpcgmdfqde ar eqhqdmx ufmxumz ygxfuzmfuazmx oaybmzuqe, egot me qzu, qzqx, fuy, xqazmdpa, mzp nmzwe egot me nzx. zgyqdage oaybmzuqe mdq nmeqp iuftuz dayq'e qgd ngeuzqee puefduof, egot me ftq xgjgdk rmetuaz tageq rqzpu xaomfqp uz ftq bmxmlla pqxxm ouhuxfr ufmxumzm. ftq bdqeqzoq ar dqzaizqp uzfqdzmfuazmx ndmzpe uz ftq oufk tme ympq dayq mz uybadfmzf oqzfdq ar rmetuaz mzp pqeusz, mzp ftq ouzqouffr efgpuae tmhq nqqz ftq eqf ar ymzk mompqyk mimdp–iuzzuzs yahuqe.\n",
      "\n",
      "Shift 7: czxp (telwtly lyo wlety: czxl, aczyzfynpo [kczsxl] ) td esp nlatelw ntej zq telwj. te td lwdz esp nlatelw zq esp wlktz cprtzy, esp npyecp zq esp xpeczazwtely ntej zq czxp nlatelw, lyo l dapntlw nzxfyp (xfytntalwtej) ylxpo nzxfyp ot czxl nlatelwp. htes 2,860,009 cpdtopyed ty 1,285 vx2 (496.1 db xt), czxp td esp nzfyecj'd xzde azafwlepo nzxfyp lyo esp estco xzde azafwzfd ntej ty esp pfczaply fytzy mj azafwletzy htesty ntej wtxted. esp xpeczazwtely ntej zq czxp, htes l azafwletzy zq 4,355,725 cpdtopyed, td esp xzde azafwzfd xpeczazwtely ntej ty telwj. ted xpeczazwtely lcpl td esp estco-xzde azafwzfd htesty telwj. czxp td wznlepo ty esp npyeclw-hpdepcy azcetzy zq esp telwtly apytydfwl, htesty wlktz (wletfx), lwzyr esp dszcpd zq esp etmpc glwwpj. gletnly ntej (esp dxlwwpde nzfyecj ty esp hzcwo lyo splobflcepcd zq esp hzcwohtop nleszwtn nsfcns fyopc esp rzgpcylynp zq esp szwj dpp) td ly tyopapyopye nzfyecj tydtop esp ntej mzfyolctpd zq czxp, esp zywj pitdetyr pilxawp zq l nzfyecj htesty l ntej. czxp td zqepy cpqpccpo ez ld esp ntej zq dpgpy stwwd ofp ez ted rpzrclastn wznletzy, lyo lwdz ld esp \"pepcylw ntej\". czxp td rpypclwwj nzydtopcpo ez mp esp nclowp zq hpdepcy ntgtwtkletzy lyo hpdepcy nsctdetly nfwefcp, lyo esp npyecp zq esp nleszwtn nsfcns.\n",
      "czxp'd stdezcj dalyd 28 npyefctpd. hstwp czxly xjeszwzrj olepd esp qzfyotyr zq czxp le lczfyo 753 mn, esp dtep sld mppy tyslmtepo qzc xfns wzyrpc, xlvtyr te l xluzc sfxly dpeewpxpye qzc zgpc escpp xtwwpyytl lyo zyp zq esp zwopde nzyetyfzfdwj znnfatpo ntetpd ty pfczap. esp ntej'd plcwj azafwletzy zctrtylepo qczx l xti zq wletyd, pecfdnlyd, lyo dlmtypd. pgpyeflwwj, esp ntej dfnnpddtgpwj mpnlxp esp nlatelw zq esp czxly vtyrozx, esp czxly cpafmwtn lyo esp czxly pxatcp, lyo td cprlcopo mj xlyj ld esp qtcde-pgpc txapctlw ntej lyo xpeczazwtd. te hld qtcde nlwwpo esp pepcylw ntej (wlety: fcmd lpepcyl; telwtly: wl nteeq pepcyl) mj esp czxly azpe etmfwwfd ty esp 1de npyefcj mn, lyo esp piacpddtzy hld lwdz elvpy fa mj zgto, gtcrtw, lyo wtgj. czxp td lwdz nlwwpo nlafe xfyot (nlatelw zq esp hzcwo).\n",
      "lqepc esp qlww zq esp pxatcp ty esp hpde, hstns xlcvpo esp mprtyytyr zq esp xtoowp lrpd, czxp dwzhwj qpww fyopc esp azwtetnlw nzyeczw zq esp alalnj, lyo ty esp 8es npyefcj, te mpnlxp esp nlatelw zq esp alalw delepd, hstns wldepo fyetw 1870. mprtyytyr htes esp cpyltddlynp, lwxzde lww azapd dtynp ytnszwld g (1447–1455) afcdfpo l nzspcpye lcnstepnefclw lyo fcmly aczrclxxp zgpc qzfc sfyocpo jplcd, ltxpo le xlvtyr esp ntej esp lcetdetn lyo nfwefclw npyecp zq esp hzcwo. ty estd hlj, czxp qtcde mpnlxp zyp zq esp xluzc npyecpd zq esp cpyltddlynp lyo espy mpnlxp esp mtcesawlnp zq mzes esp mlczbfp dejwp lyo ypznwlddtntdx. qlxzfd lcetded, altyepcd, dnfwaezcd, lyo lcnstepned xlop czxp esp npyecp zq esptc lnetgtej, ncpletyr xldepcatpnpd esczfrszfe esp ntej. ty 1871, czxp mpnlxp esp nlatelw zq esp vtyrozx zq telwj, hstns, ty 1946, mpnlxp esp telwtly cpafmwtn.\n",
      "ty 2019, czxp hld esp 14es xzde gtdtepo ntej ty esp hzcwo, htes 8.6 xtwwtzy ezfctded, esp estco xzde gtdtepo ntej ty esp pfczaply fytzy, lyo esp xzde azafwlc ezfctde opdetyletzy ty telwj. ted stdezctn npyecp td wtdepo mj fypdnz ld l hzcwo spctelrp dtep. esp szde ntej qzc esp 1960 dfxxpc zwjxatnd, czxp td lwdz esp dple zq dpgpclw dapntlwtdpo lrpyntpd zq esp fytepo yletzyd, dfns ld esp qzzo lyo lrctnfwefcp zcrlytkletzy (qlz), esp hzcwo qzzo aczrclxxp (hqa), esp tyepcyletzylw qfyo qzc lrctnfwefclw opgpwzaxpye (tqlo) lyo esp fy djdepx ypehzcv zy cfclw opgpwzaxpye lyo qzzo dpnfctej. esp ntej lwdz szded esp pfczaply fytzy (pf) opwprletzy ez esp fytepo yletzyd (fy) lyo esp dpncpelctle zq esp alcwtlxpyelcj lddpxmwj zq esp fytzy qzc esp xpotepcclyply (fqx) ld hpww ld esp splobflcepcd zq dpgpclw telwtly xfwetyletzylw nzxalytpd, dfns ld pyt, pypw, etx, wpzylcoz, lyo mlyvd dfns ld myw. yfxpczfd nzxalytpd lcp mldpo htesty czxp'd pfc mfdtypdd otdectne, dfns ld esp wfifcj qldstzy szfdp qpyot wznlepo ty esp alwlkkz opwwl ntgtweq telwtlyl. esp acpdpynp zq cpyzhypo tyepcyletzylw mclyod ty esp ntej sld xlop czxp ly txazcelye npyecp zq qldstzy lyo opdtry, lyo esp ntypnteeq defotzd slgp mppy esp dpe zq xlyj lnlopxj lhlco–htyytyr xzgtpd.\n",
      "\n",
      "Shift 8: bywo (sdkvskx kxn vkdsx: bywk, zbyxyexmon [jbyrwk] ) sc dro mkzsdkv msdi yp sdkvi. sd sc kvcy dro mkzsdkv yp dro vkjsy boqsyx, dro moxdbo yp dro wodbyzyvsdkx msdi yp bywo mkzsdkv, kxn k czomskv mywexo (wexsmszkvsdi) xkwon mywexo ns bywk mkzsdkvo. gsdr 2,860,009 bocsnoxdc sx 1,285 uw2 (496.1 ca ws), bywo sc dro myexdbi'c wycd zyzevkdon mywexo kxn dro drsbn wycd zyzevyec msdi sx dro oebyzokx exsyx li zyzevkdsyx gsdrsx msdi vswsdc. dro wodbyzyvsdkx msdi yp bywo, gsdr k zyzevkdsyx yp 4,355,725 bocsnoxdc, sc dro wycd zyzevyec wodbyzyvsdkx msdi sx sdkvi. sdc wodbyzyvsdkx kbok sc dro drsbn-wycd zyzevyec gsdrsx sdkvi. bywo sc vymkdon sx dro moxdbkv-gocdobx zybdsyx yp dro sdkvskx zoxsxcevk, gsdrsx vkjsy (vkdsew), kvyxq dro cryboc yp dro dslob fkvvoi. fkdsmkx msdi (dro cwkvvocd myexdbi sx dro gybvn kxn roknaekbdobc yp dro gybvngsno mkdryvsm mrebmr exnob dro qyfobxkxmo yp dro ryvi coo) sc kx sxnozoxnoxd myexdbi sxcsno dro msdi lyexnkbsoc yp bywo, dro yxvi ohscdsxq ohkwzvo yp k myexdbi gsdrsx k msdi. bywo sc ypdox bopobbon dy kc dro msdi yp cofox rsvvc neo dy sdc qoyqbkzrsm vymkdsyx, kxn kvcy kc dro \"odobxkv msdi\". bywo sc qoxobkvvi myxcsnobon dy lo dro mbknvo yp gocdobx msfsvsjkdsyx kxn gocdobx mrbscdskx mevdebo, kxn dro moxdbo yp dro mkdryvsm mrebmr.\n",
      "bywo'c rscdybi czkxc 28 moxdebsoc. grsvo bywkx widryvyqi nkdoc dro pyexnsxq yp bywo kd kbyexn 753 lm, dro csdo rkc loox sxrklsdon pyb wemr vyxqob, wkusxq sd k wktyb rewkx coddvowoxd pyb yfob drboo wsvvoxxsk kxn yxo yp dro yvnocd myxdsxeyecvi ymmezson msdsoc sx oebyzo. dro msdi'c okbvi zyzevkdsyx ybsqsxkdon pbyw k wsh yp vkdsxc, odbecmkxc, kxn cklsxoc. ofoxdekvvi, dro msdi cemmoccsfovi lomkwo dro mkzsdkv yp dro bywkx usxqnyw, dro bywkx bozelvsm kxn dro bywkx owzsbo, kxn sc boqkbnon li wkxi kc dro psbcd-ofob swzobskv msdi kxn wodbyzyvsc. sd gkc psbcd mkvvon dro odobxkv msdi (vkdsx: eblc kodobxk; sdkvskx: vk msddp odobxk) li dro bywkx zyod dslevvec sx dro 1cd moxdebi lm, kxn dro ohzboccsyx gkc kvcy dkuox ez li yfsn, fsbqsv, kxn vsfi. bywo sc kvcy mkvvon mkzed wexns (mkzsdkv yp dro gybvn).\n",
      "kpdob dro pkvv yp dro owzsbo sx dro gocd, grsmr wkbuon dro loqsxxsxq yp dro wsnnvo kqoc, bywo cvygvi povv exnob dro zyvsdsmkv myxdbyv yp dro zkzkmi, kxn sx dro 8dr moxdebi, sd lomkwo dro mkzsdkv yp dro zkzkv cdkdoc, grsmr vkcdon exdsv 1870. loqsxxsxq gsdr dro boxkscckxmo, kvwycd kvv zyzoc csxmo xsmryvkc f (1447–1455) zebceon k myroboxd kbmrsdomdebkv kxn eblkx zbyqbkwwo yfob pyeb rexnbon iokbc, kswon kd wkusxq dro msdi dro kbdscdsm kxn mevdebkv moxdbo yp dro gybvn. sx drsc gki, bywo psbcd lomkwo yxo yp dro wktyb moxdboc yp dro boxkscckxmo kxn drox lomkwo dro lsbdrzvkmo yp lydr dro lkbyaeo cdivo kxn xoymvkccsmscw. pkwyec kbdscdc, zksxdobc, cmevzdybc, kxn kbmrsdomdc wkno bywo dro moxdbo yp drosb kmdsfsdi, mbokdsxq wkcdobzsomoc drbyeqryed dro msdi. sx 1871, bywo lomkwo dro mkzsdkv yp dro usxqnyw yp sdkvi, grsmr, sx 1946, lomkwo dro sdkvskx bozelvsm.\n",
      "sx 2019, bywo gkc dro 14dr wycd fscsdon msdi sx dro gybvn, gsdr 8.6 wsvvsyx dyebscdc, dro drsbn wycd fscsdon msdi sx dro oebyzokx exsyx, kxn dro wycd zyzevkb dyebscd nocdsxkdsyx sx sdkvi. sdc rscdybsm moxdbo sc vscdon li exocmy kc k gybvn robsdkqo csdo. dro rycd msdi pyb dro 1960 cewwob yviwzsmc, bywo sc kvcy dro cokd yp cofobkv czomskvscon kqoxmsoc yp dro exsdon xkdsyxc, cemr kc dro pyyn kxn kqbsmevdebo ybqkxsjkdsyx (pky), dro gybvn pyyn zbyqbkwwo (gpz), dro sxdobxkdsyxkv pexn pyb kqbsmevdebkv nofovyzwoxd (spkn) kxn dro ex cicdow xodgybu yx bebkv nofovyzwoxd kxn pyyn comebsdi. dro msdi kvcy rycdc dro oebyzokx exsyx (oe) novoqkdsyx dy dro exsdon xkdsyxc (ex) kxn dro combodkbskd yp dro zkbvskwoxdkbi kccowlvi yp dro exsyx pyb dro wonsdobbkxokx (epw) kc govv kc dro roknaekbdobc yp cofobkv sdkvskx wevdsxkdsyxkv mywzkxsoc, cemr kc oxs, oxov, dsw, voyxkbny, kxn lkxuc cemr kc lxv. xewobyec mywzkxsoc kbo lkcon gsdrsx bywo'c oeb lecsxocc nscdbsmd, cemr kc dro vehebi pkcrsyx ryeco poxns vymkdon sx dro zkvkjjy novvk msfsvdp sdkvskxk. dro zbocoxmo yp boxygxon sxdobxkdsyxkv lbkxnc sx dro msdi rkc wkno bywo kx swzybdkxd moxdbo yp pkcrsyx kxn nocsqx, kxn dro msxomsddp cdensyc rkfo loox dro cod yp wkxi kmknowi kgkbn–gsxxsxq wyfsoc.\n",
      "\n",
      "Shift 9: axvn (rcjurjw jwm ujcrw: axvj, yaxwxdwlnm [iaxqvj] ) rb cqn ljyrcju lrch xo rcjuh. rc rb jubx cqn ljyrcju xo cqn ujirx anprxw, cqn lnwcan xo cqn vncaxyxurcjw lrch xo axvn ljyrcju, jwm j bynlrju lxvdwn (vdwrlryjurch) wjvnm lxvdwn mr axvj ljyrcjun. frcq 2,860,009 anbrmnwcb rw 1,285 tv2 (496.1 bz vr), axvn rb cqn lxdwcah'b vxbc yxydujcnm lxvdwn jwm cqn cqram vxbc yxyduxdb lrch rw cqn ndaxynjw dwrxw kh yxydujcrxw frcqrw lrch urvrcb. cqn vncaxyxurcjw lrch xo axvn, frcq j yxydujcrxw xo 4,355,725 anbrmnwcb, rb cqn vxbc yxyduxdb vncaxyxurcjw lrch rw rcjuh. rcb vncaxyxurcjw janj rb cqn cqram-vxbc yxyduxdb frcqrw rcjuh. axvn rb uxljcnm rw cqn lnwcaju-fnbcnaw yxacrxw xo cqn rcjurjw ynwrwbduj, frcqrw ujirx (ujcrdv), juxwp cqn bqxanb xo cqn crkna ejuunh. ejcrljw lrch (cqn bvjuunbc lxdwcah rw cqn fxaum jwm qnjmzdjacnab xo cqn fxaumfrmn ljcqxurl lqdalq dwmna cqn pxenawjwln xo cqn qxuh bnn) rb jw rwmnynwmnwc lxdwcah rwbrmn cqn lrch kxdwmjarnb xo axvn, cqn xwuh ngrbcrwp ngjvyun xo j lxdwcah frcqrw j lrch. axvn rb xocnw anonaanm cx jb cqn lrch xo bnenw qruub mdn cx rcb pnxpajyqrl uxljcrxw, jwm jubx jb cqn \"ncnawju lrch\". axvn rb pnwnajuuh lxwbrmnanm cx kn cqn lajmun xo fnbcnaw lrerurijcrxw jwm fnbcnaw lqarbcrjw lducdan, jwm cqn lnwcan xo cqn ljcqxurl lqdalq.\n",
      "axvn'b qrbcxah byjwb 28 lnwcdarnb. fqrun axvjw vhcqxuxph mjcnb cqn oxdwmrwp xo axvn jc jaxdwm 753 kl, cqn brcn qjb knnw rwqjkrcnm oxa vdlq uxwpna, vjtrwp rc j vjsxa qdvjw bnccunvnwc oxa xena cqann vruunwwrj jwm xwn xo cqn xumnbc lxwcrwdxdbuh xlldyrnm lrcrnb rw ndaxyn. cqn lrch'b njauh yxydujcrxw xarprwjcnm oaxv j vrg xo ujcrwb, ncadbljwb, jwm bjkrwnb. nenwcdjuuh, cqn lrch bdllnbbrenuh knljvn cqn ljyrcju xo cqn axvjw trwpmxv, cqn axvjw anydkurl jwm cqn axvjw nvyran, jwm rb anpjamnm kh vjwh jb cqn orabc-nena rvynarju lrch jwm vncaxyxurb. rc fjb orabc ljuunm cqn ncnawju lrch (ujcrw: dakb jncnawj; rcjurjw: uj lrcco ncnawj) kh cqn axvjw yxnc crkduudb rw cqn 1bc lnwcdah kl, jwm cqn ngyanbbrxw fjb jubx cjtnw dy kh xerm, erapru, jwm ureh. axvn rb jubx ljuunm ljydc vdwmr (ljyrcju xo cqn fxaum).\n",
      "jocna cqn ojuu xo cqn nvyran rw cqn fnbc, fqrlq vjatnm cqn knprwwrwp xo cqn vrmmun jpnb, axvn buxfuh onuu dwmna cqn yxurcrlju lxwcaxu xo cqn yjyjlh, jwm rw cqn 8cq lnwcdah, rc knljvn cqn ljyrcju xo cqn yjyju bcjcnb, fqrlq ujbcnm dwcru 1870. knprwwrwp frcq cqn anwjrbbjwln, juvxbc juu yxynb brwln wrlqxujb e (1447–1455) ydabdnm j lxqnanwc jalqrcnlcdaju jwm dakjw yaxpajvvn xena oxda qdwmanm hnjab, jrvnm jc vjtrwp cqn lrch cqn jacrbcrl jwm lducdaju lnwcan xo cqn fxaum. rw cqrb fjh, axvn orabc knljvn xwn xo cqn vjsxa lnwcanb xo cqn anwjrbbjwln jwm cqnw knljvn cqn kracqyujln xo kxcq cqn kjaxzdn bchun jwm wnxlujbbrlrbv. ojvxdb jacrbcb, yjrwcnab, blduycxab, jwm jalqrcnlcb vjmn axvn cqn lnwcan xo cqnra jlcrerch, lanjcrwp vjbcnayrnlnb cqaxdpqxdc cqn lrch. rw 1871, axvn knljvn cqn ljyrcju xo cqn trwpmxv xo rcjuh, fqrlq, rw 1946, knljvn cqn rcjurjw anydkurl.\n",
      "rw 2019, axvn fjb cqn 14cq vxbc erbrcnm lrch rw cqn fxaum, frcq 8.6 vruurxw cxdarbcb, cqn cqram vxbc erbrcnm lrch rw cqn ndaxynjw dwrxw, jwm cqn vxbc yxyduja cxdarbc mnbcrwjcrxw rw rcjuh. rcb qrbcxarl lnwcan rb urbcnm kh dwnblx jb j fxaum qnarcjpn brcn. cqn qxbc lrch oxa cqn 1960 bdvvna xuhvyrlb, axvn rb jubx cqn bnjc xo bnenaju bynlrjurbnm jpnwlrnb xo cqn dwrcnm wjcrxwb, bdlq jb cqn oxxm jwm jparlducdan xapjwrijcrxw (ojx), cqn fxaum oxxm yaxpajvvn (foy), cqn rwcnawjcrxwju odwm oxa jparlducdaju mnenuxyvnwc (rojm) jwm cqn dw bhbcnv wncfxat xw adaju mnenuxyvnwc jwm oxxm bnldarch. cqn lrch jubx qxbcb cqn ndaxynjw dwrxw (nd) mnunpjcrxw cx cqn dwrcnm wjcrxwb (dw) jwm cqn bnlancjarjc xo cqn yjaurjvnwcjah jbbnvkuh xo cqn dwrxw oxa cqn vnmrcnaajwnjw (dov) jb fnuu jb cqn qnjmzdjacnab xo bnenaju rcjurjw vducrwjcrxwju lxvyjwrnb, bdlq jb nwr, nwnu, crv, unxwjamx, jwm kjwtb bdlq jb kwu. wdvnaxdb lxvyjwrnb jan kjbnm frcqrw axvn'b nda kdbrwnbb mrbcarlc, bdlq jb cqn udgdah ojbqrxw qxdbn onwmr uxljcnm rw cqn yjujiix mnuuj lreruco rcjurjwj. cqn yanbnwln xo anwxfwnm rwcnawjcrxwju kajwmb rw cqn lrch qjb vjmn axvn jw rvyxacjwc lnwcan xo ojbqrxw jwm mnbrpw, jwm cqn lrwnlrcco bcdmrxb qjen knnw cqn bnc xo vjwh jljmnvh jfjam–frwwrwp vxernb.\n",
      "\n",
      "Shift 10: zwum (qbitqiv ivl tibqv: zwui, xzwvwcvkml [hzwpui] ) qa bpm kixqbit kqbg wn qbitg. qb qa itaw bpm kixqbit wn bpm tihqw zmoqwv, bpm kmvbzm wn bpm umbzwxwtqbiv kqbg wn zwum kixqbit, ivl i axmkqit kwucvm (ucvqkqxitqbg) viuml kwucvm lq zwui kixqbitm. eqbp 2,860,009 zmaqlmvba qv 1,285 su2 (496.1 ay uq), zwum qa bpm kwcvbzg'a uwab xwxctibml kwucvm ivl bpm bpqzl uwab xwxctwca kqbg qv bpm mczwxmiv cvqwv jg xwxctibqwv eqbpqv kqbg tquqba. bpm umbzwxwtqbiv kqbg wn zwum, eqbp i xwxctibqwv wn 4,355,725 zmaqlmvba, qa bpm uwab xwxctwca umbzwxwtqbiv kqbg qv qbitg. qba umbzwxwtqbiv izmi qa bpm bpqzl-uwab xwxctwca eqbpqv qbitg. zwum qa twkibml qv bpm kmvbzit-emabmzv xwzbqwv wn bpm qbitqiv xmvqvacti, eqbpqv tihqw (tibqcu), itwvo bpm apwzma wn bpm bqjmz dittmg. dibqkiv kqbg (bpm auittmab kwcvbzg qv bpm ewztl ivl pmilycizbmza wn bpm ewztleqlm kibpwtqk kpczkp cvlmz bpm owdmzvivkm wn bpm pwtg amm) qa iv qvlmxmvlmvb kwcvbzg qvaqlm bpm kqbg jwcvlizqma wn zwum, bpm wvtg mfqabqvo mfiuxtm wn i kwcvbzg eqbpqv i kqbg. zwum qa wnbmv zmnmzzml bw ia bpm kqbg wn amdmv pqtta lcm bw qba omwozixpqk twkibqwv, ivl itaw ia bpm \"mbmzvit kqbg\". zwum qa omvmzittg kwvaqlmzml bw jm bpm kziltm wn emabmzv kqdqtqhibqwv ivl emabmzv kpzqabqiv kctbczm, ivl bpm kmvbzm wn bpm kibpwtqk kpczkp.\n",
      "zwum'a pqabwzg axiva 28 kmvbczqma. epqtm zwuiv ugbpwtwog libma bpm nwcvlqvo wn zwum ib izwcvl 753 jk, bpm aqbm pia jmmv qvpijqbml nwz uckp twvomz, uisqvo qb i uirwz pcuiv ambbtmumvb nwz wdmz bpzmm uqttmvvqi ivl wvm wn bpm wtlmab kwvbqvcwcatg wkkcxqml kqbqma qv mczwxm. bpm kqbg'a miztg xwxctibqwv wzqoqvibml nzwu i uqf wn tibqva, mbzcakiva, ivl aijqvma. mdmvbcittg, bpm kqbg ackkmaaqdmtg jmkium bpm kixqbit wn bpm zwuiv sqvolwu, bpm zwuiv zmxcjtqk ivl bpm zwuiv muxqzm, ivl qa zmoizlml jg uivg ia bpm nqzab-mdmz quxmzqit kqbg ivl umbzwxwtqa. qb eia nqzab kittml bpm mbmzvit kqbg (tibqv: czja imbmzvi; qbitqiv: ti kqbbn mbmzvi) jg bpm zwuiv xwmb bqjcttca qv bpm 1ab kmvbczg jk, ivl bpm mfxzmaaqwv eia itaw bismv cx jg wdql, dqzoqt, ivl tqdg. zwum qa itaw kittml kixcb ucvlq (kixqbit wn bpm ewztl).\n",
      "inbmz bpm nitt wn bpm muxqzm qv bpm emab, epqkp uizsml bpm jmoqvvqvo wn bpm uqlltm ioma, zwum atwetg nmtt cvlmz bpm xwtqbqkit kwvbzwt wn bpm xixikg, ivl qv bpm 8bp kmvbczg, qb jmkium bpm kixqbit wn bpm xixit abibma, epqkp tiabml cvbqt 1870. jmoqvvqvo eqbp bpm zmviqaaivkm, ituwab itt xwxma aqvkm vqkpwtia d (1447–1455) xczacml i kwpmzmvb izkpqbmkbczit ivl czjiv xzwoziuum wdmz nwcz pcvlzml gmiza, iquml ib uisqvo bpm kqbg bpm izbqabqk ivl kctbczit kmvbzm wn bpm ewztl. qv bpqa eig, zwum nqzab jmkium wvm wn bpm uirwz kmvbzma wn bpm zmviqaaivkm ivl bpmv jmkium bpm jqzbpxtikm wn jwbp bpm jizwycm abgtm ivl vmwktiaaqkqau. niuwca izbqaba, xiqvbmza, akctxbwza, ivl izkpqbmkba uilm zwum bpm kmvbzm wn bpmqz ikbqdqbg, kzmibqvo uiabmzxqmkma bpzwcopwcb bpm kqbg. qv 1871, zwum jmkium bpm kixqbit wn bpm sqvolwu wn qbitg, epqkp, qv 1946, jmkium bpm qbitqiv zmxcjtqk.\n",
      "qv 2019, zwum eia bpm 14bp uwab dqaqbml kqbg qv bpm ewztl, eqbp 8.6 uqttqwv bwczqaba, bpm bpqzl uwab dqaqbml kqbg qv bpm mczwxmiv cvqwv, ivl bpm uwab xwxctiz bwczqab lmabqvibqwv qv qbitg. qba pqabwzqk kmvbzm qa tqabml jg cvmakw ia i ewztl pmzqbiom aqbm. bpm pwab kqbg nwz bpm 1960 acuumz wtguxqka, zwum qa itaw bpm amib wn amdmzit axmkqitqaml iomvkqma wn bpm cvqbml vibqwva, ackp ia bpm nwwl ivl iozqkctbczm wzoivqhibqwv (niw), bpm ewztl nwwl xzwoziuum (enx), bpm qvbmzvibqwvit ncvl nwz iozqkctbczit lmdmtwxumvb (qnil) ivl bpm cv agabmu vmbewzs wv zczit lmdmtwxumvb ivl nwwl amkczqbg. bpm kqbg itaw pwaba bpm mczwxmiv cvqwv (mc) lmtmoibqwv bw bpm cvqbml vibqwva (cv) ivl bpm amkzmbizqib wn bpm xiztqiumvbizg iaamujtg wn bpm cvqwv nwz bpm umlqbmzzivmiv (cnu) ia emtt ia bpm pmilycizbmza wn amdmzit qbitqiv uctbqvibqwvit kwuxivqma, ackp ia mvq, mvmt, bqu, tmwvizlw, ivl jivsa ackp ia jvt. vcumzwca kwuxivqma izm jiaml eqbpqv zwum'a mcz jcaqvmaa lqabzqkb, ackp ia bpm tcfczg niapqwv pwcam nmvlq twkibml qv bpm xitihhw lmtti kqdqtbn qbitqivi. bpm xzmamvkm wn zmvwevml qvbmzvibqwvit jzivla qv bpm kqbg pia uilm zwum iv quxwzbivb kmvbzm wn niapqwv ivl lmaqov, ivl bpm kqvmkqbbn abclqwa pidm jmmv bpm amb wn uivg ikilmug ieizl–eqvvqvo uwdqma.\n",
      "\n",
      "Shift 11: yvtl (pahsphu huk shapu: yvth, wyvuvbujlk [gyvoth] ) pz aol jhwpahs jpaf vm pahsf. pa pz hszv aol jhwpahs vm aol shgpv ylnpvu, aol jluayl vm aol tlayvwvspahu jpaf vm yvtl jhwpahs, huk h zwljphs jvtbul (tbupjpwhspaf) uhtlk jvtbul kp yvth jhwpahsl. dpao 2,860,009 ylzpkluaz pu 1,285 rt2 (496.1 zx tp), yvtl pz aol jvbuayf'z tvza wvwbshalk jvtbul huk aol aopyk tvza wvwbsvbz jpaf pu aol lbyvwlhu bupvu if wvwbshapvu dpaopu jpaf sptpaz. aol tlayvwvspahu jpaf vm yvtl, dpao h wvwbshapvu vm 4,355,725 ylzpkluaz, pz aol tvza wvwbsvbz tlayvwvspahu jpaf pu pahsf. paz tlayvwvspahu hylh pz aol aopyk-tvza wvwbsvbz dpaopu pahsf. yvtl pz svjhalk pu aol jluayhs-dlzalyu wvyapvu vm aol pahsphu wlupuzbsh, dpaopu shgpv (shapbt), hsvun aol zovylz vm aol apily chsslf. chapjhu jpaf (aol zthsslza jvbuayf pu aol dvysk huk olhkxbhyalyz vm aol dvyskdpkl jhaovspj jobyjo bukly aol nvclyuhujl vm aol ovsf zll) pz hu puklwluklua jvbuayf puzpkl aol jpaf ivbukhyplz vm yvtl, aol vusf lepzapun lehtwsl vm h jvbuayf dpaopu h jpaf. yvtl pz vmalu ylmlyylk av hz aol jpaf vm zlclu opssz kbl av paz nlvnyhwopj svjhapvu, huk hszv hz aol \"lalyuhs jpaf\". yvtl pz nlulyhssf jvuzpklylk av il aol jyhksl vm dlzalyu jpcpspghapvu huk dlzalyu joypzaphu jbsabyl, huk aol jluayl vm aol jhaovspj jobyjo.\n",
      "yvtl'z opzavyf zwhuz 28 jluabyplz. dopsl yvthu tfaovsvnf khalz aol mvbukpun vm yvtl ha hyvbuk 753 ij, aol zpal ohz illu puohipalk mvy tbjo svunly, thrpun pa h thqvy obthu zlaasltlua mvy vcly aoyll tpssluuph huk vul vm aol vsklza jvuapubvbzsf vjjbwplk jpaplz pu lbyvwl. aol jpaf'z lhysf wvwbshapvu vypnpuhalk myvt h tpe vm shapuz, laybzjhuz, huk zhipulz. lcluabhssf, aol jpaf zbjjlzzpclsf iljhtl aol jhwpahs vm aol yvthu rpunkvt, aol yvthu ylwbispj huk aol yvthu ltwpyl, huk pz ylnhyklk if thuf hz aol mpyza-lcly ptwlyphs jpaf huk tlayvwvspz. pa dhz mpyza jhsslk aol lalyuhs jpaf (shapu: byiz hlalyuh; pahsphu: sh jpaam lalyuh) if aol yvthu wvla apibssbz pu aol 1za jluabyf ij, huk aol lewylzzpvu dhz hszv ahrlu bw if vcpk, cpynps, huk spcf. yvtl pz hszv jhsslk jhwba tbukp (jhwpahs vm aol dvysk).\n",
      "hmaly aol mhss vm aol ltwpyl pu aol dlza, dopjo thyrlk aol ilnpuupun vm aol tpkksl hnlz, yvtl zsvdsf mlss bukly aol wvspapjhs jvuayvs vm aol whwhjf, huk pu aol 8ao jluabyf, pa iljhtl aol jhwpahs vm aol whwhs zahalz, dopjo shzalk buaps 1870. ilnpuupun dpao aol yluhpzzhujl, hstvza hss wvwlz zpujl upjovshz c (1447–1455) wbyzblk h jvolylua hyjopaljabyhs huk byihu wyvnyhttl vcly mvby obukylk flhyz, hptlk ha thrpun aol jpaf aol hyapzapj huk jbsabyhs jluayl vm aol dvysk. pu aopz dhf, yvtl mpyza iljhtl vul vm aol thqvy jluaylz vm aol yluhpzzhujl huk aolu iljhtl aol ipyaowshjl vm ivao aol ihyvxbl zafsl huk ulvjshzzpjpzt. mhtvbz hyapzaz, whpualyz, zjbswavyz, huk hyjopaljaz thkl yvtl aol jluayl vm aolpy hjapcpaf, jylhapun thzalywpljlz aoyvbnovba aol jpaf. pu 1871, yvtl iljhtl aol jhwpahs vm aol rpunkvt vm pahsf, dopjo, pu 1946, iljhtl aol pahsphu ylwbispj.\n",
      "pu 2019, yvtl dhz aol 14ao tvza cpzpalk jpaf pu aol dvysk, dpao 8.6 tpsspvu avbypzaz, aol aopyk tvza cpzpalk jpaf pu aol lbyvwlhu bupvu, huk aol tvza wvwbshy avbypza klzapuhapvu pu pahsf. paz opzavypj jluayl pz spzalk if bulzjv hz h dvysk olypahnl zpal. aol ovza jpaf mvy aol 1960 zbttly vsftwpjz, yvtl pz hszv aol zlha vm zlclyhs zwljphspzlk hnlujplz vm aol bupalk uhapvuz, zbjo hz aol mvvk huk hnypjbsabyl vynhupghapvu (mhv), aol dvysk mvvk wyvnyhttl (dmw), aol pualyuhapvuhs mbuk mvy hnypjbsabyhs klclsvwtlua (pmhk) huk aol bu zfzalt uladvyr vu ybyhs klclsvwtlua huk mvvk zljbypaf. aol jpaf hszv ovzaz aol lbyvwlhu bupvu (lb) klslnhapvu av aol bupalk uhapvuz (bu) huk aol zljylahypha vm aol whysphtluahyf hzzltisf vm aol bupvu mvy aol tlkpalyyhulhu (bmt) hz dlss hz aol olhkxbhyalyz vm zlclyhs pahsphu tbsapuhapvuhs jvtwhuplz, zbjo hz lup, luls, apt, slvuhykv, huk ihurz zbjo hz ius. ubtlyvbz jvtwhuplz hyl ihzlk dpaopu yvtl'z lby ibzpulzz kpzaypja, zbjo hz aol sbebyf mhzopvu ovbzl mlukp svjhalk pu aol whshggv klssh jpcpsam pahsphuh. aol wylzlujl vm yluvdulk pualyuhapvuhs iyhukz pu aol jpaf ohz thkl yvtl hu ptwvyahua jluayl vm mhzopvu huk klzpnu, huk aol jpuljpaam zabkpvz ohcl illu aol zla vm thuf hjhkltf hdhyk–dpuupun tvcplz.\n",
      "\n",
      "Shift 12: xusk (ozgrogt gtj rgzot: xusg, vxutuatikj [fxunsg] ) oy znk igvozgr ioze ul ozgre. oz oy gryu znk igvozgr ul znk rgfou xkmout, znk iktzxk ul znk skzxuvurozgt ioze ul xusk igvozgr, gtj g yvkiogr iusatk (satoiovgroze) tgskj iusatk jo xusg igvozgrk. cozn 2,860,009 xkyojktzy ot 1,285 qs2 (496.1 yw so), xusk oy znk iuatzxe'y suyz vuvargzkj iusatk gtj znk znoxj suyz vuvaruay ioze ot znk kaxuvkgt atout he vuvargzout coznot ioze rosozy. znk skzxuvurozgt ioze ul xusk, cozn g vuvargzout ul 4,355,725 xkyojktzy, oy znk suyz vuvaruay skzxuvurozgt ioze ot ozgre. ozy skzxuvurozgt gxkg oy znk znoxj-suyz vuvaruay coznot ozgre. xusk oy ruigzkj ot znk iktzxgr-ckyzkxt vuxzout ul znk ozgrogt vktotyarg, coznot rgfou (rgzoas), grutm znk ynuxky ul znk zohkx bgrrke. bgzoigt ioze (znk ysgrrkyz iuatzxe ot znk cuxrj gtj nkgjwagxzkxy ul znk cuxrjcojk igznuroi inaxin atjkx znk mubkxtgtik ul znk nure ykk) oy gt otjkvktjktz iuatzxe otyojk znk ioze huatjgxoky ul xusk, znk utre kdoyzotm kdgsvrk ul g iuatzxe coznot g ioze. xusk oy ulzkt xklkxxkj zu gy znk ioze ul ykbkt norry jak zu ozy mkumxgvnoi ruigzout, gtj gryu gy znk \"kzkxtgr ioze\". xusk oy mktkxgrre iutyojkxkj zu hk znk ixgjrk ul ckyzkxt ioborofgzout gtj ckyzkxt inxoyzogt iarzaxk, gtj znk iktzxk ul znk igznuroi inaxin.\n",
      "xusk'y noyzuxe yvgty 28 iktzaxoky. cnork xusgt seznurume jgzky znk luatjotm ul xusk gz gxuatj 753 hi, znk yozk ngy hkkt otnghozkj lux sain rutmkx, sgqotm oz g sgpux nasgt ykzzrksktz lux ubkx znxkk sorrkttog gtj utk ul znk urjkyz iutzotauayre uiiavokj iozoky ot kaxuvk. znk ioze'y kgxre vuvargzout uxomotgzkj lxus g sod ul rgzoty, kzxayigty, gtj yghotky. kbktzagrre, znk ioze yaiikyyobkre hkigsk znk igvozgr ul znk xusgt qotmjus, znk xusgt xkvahroi gtj znk xusgt ksvoxk, gtj oy xkmgxjkj he sgte gy znk loxyz-kbkx osvkxogr ioze gtj skzxuvuroy. oz cgy loxyz igrrkj znk kzkxtgr ioze (rgzot: axhy gkzkxtg; ozgrogt: rg iozzl kzkxtg) he znk xusgt vukz zoharray ot znk 1yz iktzaxe hi, gtj znk kdvxkyyout cgy gryu zgqkt av he uboj, boxmor, gtj robe. xusk oy gryu igrrkj igvaz satjo (igvozgr ul znk cuxrj).\n",
      "glzkx znk lgrr ul znk ksvoxk ot znk ckyz, cnoin sgxqkj znk hkmottotm ul znk sojjrk gmky, xusk yrucre lkrr atjkx znk vurozoigr iutzxur ul znk vgvgie, gtj ot znk 8zn iktzaxe, oz hkigsk znk igvozgr ul znk vgvgr yzgzky, cnoin rgyzkj atzor 1870. hkmottotm cozn znk xktgoyygtik, grsuyz grr vuvky yotik toinurgy b (1447–1455) vaxyakj g iunkxktz gxinozkizaxgr gtj axhgt vxumxgssk ubkx luax natjxkj ekgxy, goskj gz sgqotm znk ioze znk gxzoyzoi gtj iarzaxgr iktzxk ul znk cuxrj. ot znoy cge, xusk loxyz hkigsk utk ul znk sgpux iktzxky ul znk xktgoyygtik gtj znkt hkigsk znk hoxznvrgik ul huzn znk hgxuwak yzerk gtj tkuirgyyoioys. lgsuay gxzoyzy, vgotzkxy, yiarvzuxy, gtj gxinozkizy sgjk xusk znk iktzxk ul znkox gizoboze, ixkgzotm sgyzkxvokiky znxuamnuaz znk ioze. ot 1871, xusk hkigsk znk igvozgr ul znk qotmjus ul ozgre, cnoin, ot 1946, hkigsk znk ozgrogt xkvahroi.\n",
      "ot 2019, xusk cgy znk 14zn suyz boyozkj ioze ot znk cuxrj, cozn 8.6 sorrout zuaxoyzy, znk znoxj suyz boyozkj ioze ot znk kaxuvkgt atout, gtj znk suyz vuvargx zuaxoyz jkyzotgzout ot ozgre. ozy noyzuxoi iktzxk oy royzkj he atkyiu gy g cuxrj nkxozgmk yozk. znk nuyz ioze lux znk 1960 yasskx uresvoiy, xusk oy gryu znk ykgz ul ykbkxgr yvkiogroykj gmktioky ul znk atozkj tgzouty, yain gy znk luuj gtj gmxoiarzaxk uxmgtofgzout (lgu), znk cuxrj luuj vxumxgssk (clv), znk otzkxtgzoutgr latj lux gmxoiarzaxgr jkbkruvsktz (olgj) gtj znk at yeyzks tkzcuxq ut xaxgr jkbkruvsktz gtj luuj ykiaxoze. znk ioze gryu nuyzy znk kaxuvkgt atout (ka) jkrkmgzout zu znk atozkj tgzouty (at) gtj znk ykixkzgxogz ul znk vgxrogsktzgxe gyykshre ul znk atout lux znk skjozkxxgtkgt (als) gy ckrr gy znk nkgjwagxzkxy ul ykbkxgr ozgrogt sarzotgzoutgr iusvgtoky, yain gy kto, ktkr, zos, rkutgxju, gtj hgtqy yain gy htr. taskxuay iusvgtoky gxk hgykj coznot xusk'y kax hayotkyy joyzxoiz, yain gy znk radaxe lgynout nuayk lktjo ruigzkj ot znk vgrgffu jkrrg ioborzl ozgrogtg. znk vxkyktik ul xktuctkj otzkxtgzoutgr hxgtjy ot znk ioze ngy sgjk xusk gt osvuxzgtz iktzxk ul lgynout gtj jkyomt, gtj znk iotkiozzl yzajouy ngbk hkkt znk ykz ul sgte gigjkse gcgxj–cottotm suboky.\n",
      "\n",
      "Shift 13: wtrj (nyfqnfs fsi qfyns: wtrf, uwtstzshji [ewtmrf] ) nx ymj hfunyfq hnyd tk nyfqd. ny nx fqxt ymj hfunyfq tk ymj qfent wjlnts, ymj hjsywj tk ymj rjywtutqnyfs hnyd tk wtrj hfunyfq, fsi f xujhnfq htrzsj (rzsnhnufqnyd) sfrji htrzsj in wtrf hfunyfqj. bnym 2,860,009 wjxnijsyx ns 1,285 pr2 (496.1 xv rn), wtrj nx ymj htzsywd'x rtxy utuzqfyji htrzsj fsi ymj ymnwi rtxy utuzqtzx hnyd ns ymj jzwtujfs zsnts gd utuzqfynts bnymns hnyd qnrnyx. ymj rjywtutqnyfs hnyd tk wtrj, bnym f utuzqfynts tk 4,355,725 wjxnijsyx, nx ymj rtxy utuzqtzx rjywtutqnyfs hnyd ns nyfqd. nyx rjywtutqnyfs fwjf nx ymj ymnwi-rtxy utuzqtzx bnymns nyfqd. wtrj nx qthfyji ns ymj hjsywfq-bjxyjws utwynts tk ymj nyfqnfs ujsnsxzqf, bnymns qfent (qfynzr), fqtsl ymj xmtwjx tk ymj yngjw afqqjd. afynhfs hnyd (ymj xrfqqjxy htzsywd ns ymj btwqi fsi mjfivzfwyjwx tk ymj btwqibnij hfymtqnh hmzwhm zsijw ymj ltajwsfshj tk ymj mtqd xjj) nx fs nsijujsijsy htzsywd nsxnij ymj hnyd gtzsifwnjx tk wtrj, ymj tsqd jcnxynsl jcfruqj tk f htzsywd bnymns f hnyd. wtrj nx tkyjs wjkjwwji yt fx ymj hnyd tk xjajs mnqqx izj yt nyx ljtlwfumnh qthfynts, fsi fqxt fx ymj \"jyjwsfq hnyd\". wtrj nx ljsjwfqqd htsxnijwji yt gj ymj hwfiqj tk bjxyjws hnanqnefynts fsi bjxyjws hmwnxynfs hzqyzwj, fsi ymj hjsywj tk ymj hfymtqnh hmzwhm.\n",
      "wtrj'x mnxytwd xufsx 28 hjsyzwnjx. bmnqj wtrfs rdymtqtld ifyjx ymj ktzsinsl tk wtrj fy fwtzsi 753 gh, ymj xnyj mfx gjjs nsmfgnyji ktw rzhm qtsljw, rfpnsl ny f rfotw mzrfs xjyyqjrjsy ktw tajw ymwjj rnqqjssnf fsi tsj tk ymj tqijxy htsynsztzxqd thhzunji hnynjx ns jzwtuj. ymj hnyd'x jfwqd utuzqfynts twnlnsfyji kwtr f rnc tk qfynsx, jywzxhfsx, fsi xfgnsjx. jajsyzfqqd, ymj hnyd xzhhjxxnajqd gjhfrj ymj hfunyfq tk ymj wtrfs pnslitr, ymj wtrfs wjuzgqnh fsi ymj wtrfs jrunwj, fsi nx wjlfwiji gd rfsd fx ymj knwxy-jajw nrujwnfq hnyd fsi rjywtutqnx. ny bfx knwxy hfqqji ymj jyjwsfq hnyd (qfyns: zwgx fjyjwsf; nyfqnfs: qf hnyyk jyjwsf) gd ymj wtrfs utjy yngzqqzx ns ymj 1xy hjsyzwd gh, fsi ymj jcuwjxxnts bfx fqxt yfpjs zu gd tani, anwlnq, fsi qnad. wtrj nx fqxt hfqqji hfuzy rzsin (hfunyfq tk ymj btwqi).\n",
      "fkyjw ymj kfqq tk ymj jrunwj ns ymj bjxy, bmnhm rfwpji ymj gjlnssnsl tk ymj rniiqj fljx, wtrj xqtbqd kjqq zsijw ymj utqnynhfq htsywtq tk ymj ufufhd, fsi ns ymj 8ym hjsyzwd, ny gjhfrj ymj hfunyfq tk ymj ufufq xyfyjx, bmnhm qfxyji zsynq 1870. gjlnssnsl bnym ymj wjsfnxxfshj, fqrtxy fqq utujx xnshj snhmtqfx a (1447–1455) uzwxzji f htmjwjsy fwhmnyjhyzwfq fsi zwgfs uwtlwfrrj tajw ktzw mzsiwji djfwx, fnrji fy rfpnsl ymj hnyd ymj fwynxynh fsi hzqyzwfq hjsywj tk ymj btwqi. ns ymnx bfd, wtrj knwxy gjhfrj tsj tk ymj rfotw hjsywjx tk ymj wjsfnxxfshj fsi ymjs gjhfrj ymj gnwymuqfhj tk gtym ymj gfwtvzj xydqj fsi sjthqfxxnhnxr. kfrtzx fwynxyx, ufnsyjwx, xhzquytwx, fsi fwhmnyjhyx rfij wtrj ymj hjsywj tk ymjnw fhynanyd, hwjfynsl rfxyjwunjhjx ymwtzlmtzy ymj hnyd. ns 1871, wtrj gjhfrj ymj hfunyfq tk ymj pnslitr tk nyfqd, bmnhm, ns 1946, gjhfrj ymj nyfqnfs wjuzgqnh.\n",
      "ns 2019, wtrj bfx ymj 14ym rtxy anxnyji hnyd ns ymj btwqi, bnym 8.6 rnqqnts ytzwnxyx, ymj ymnwi rtxy anxnyji hnyd ns ymj jzwtujfs zsnts, fsi ymj rtxy utuzqfw ytzwnxy ijxynsfynts ns nyfqd. nyx mnxytwnh hjsywj nx qnxyji gd zsjxht fx f btwqi mjwnyflj xnyj. ymj mtxy hnyd ktw ymj 1960 xzrrjw tqdrunhx, wtrj nx fqxt ymj xjfy tk xjajwfq xujhnfqnxji fljshnjx tk ymj zsnyji sfyntsx, xzhm fx ymj ktti fsi flwnhzqyzwj twlfsnefynts (kft), ymj btwqi ktti uwtlwfrrj (bku), ymj nsyjwsfyntsfq kzsi ktw flwnhzqyzwfq ijajqturjsy (nkfi) fsi ymj zs xdxyjr sjybtwp ts wzwfq ijajqturjsy fsi ktti xjhzwnyd. ymj hnyd fqxt mtxyx ymj jzwtujfs zsnts (jz) ijqjlfynts yt ymj zsnyji sfyntsx (zs) fsi ymj xjhwjyfwnfy tk ymj ufwqnfrjsyfwd fxxjrgqd tk ymj zsnts ktw ymj rjinyjwwfsjfs (zkr) fx bjqq fx ymj mjfivzfwyjwx tk xjajwfq nyfqnfs rzqynsfyntsfq htrufsnjx, xzhm fx jsn, jsjq, ynr, qjtsfwit, fsi gfspx xzhm fx gsq. szrjwtzx htrufsnjx fwj gfxji bnymns wtrj'x jzw gzxnsjxx inxywnhy, xzhm fx ymj qzczwd kfxmnts mtzxj kjsin qthfyji ns ymj ufqfeet ijqqf hnanqyk nyfqnfsf. ymj uwjxjshj tk wjstbsji nsyjwsfyntsfq gwfsix ns ymj hnyd mfx rfij wtrj fs nrutwyfsy hjsywj tk kfxmnts fsi ijxnls, fsi ymj hnsjhnyyk xyzintx mfaj gjjs ymj xjy tk rfsd fhfijrd fbfwi–bnssnsl rtanjx.\n",
      "\n",
      "Shift 14: vsqi (mxepmer erh pexmr: vsqe, tvsrsyrgih [dvslqe] ) mw xli getmxep gmxc sj mxepc. mx mw epws xli getmxep sj xli pedms vikmsr, xli girxvi sj xli qixvstspmxer gmxc sj vsqi getmxep, erh e wtigmep gsqyri (qyrmgmtepmxc) reqih gsqyri hm vsqe getmxepi. amxl 2,860,009 viwmhirxw mr 1,285 oq2 (496.1 wu qm), vsqi mw xli gsyrxvc'w qswx tstypexih gsqyri erh xli xlmvh qswx tstypsyw gmxc mr xli iyvstier yrmsr fc tstypexmsr amxlmr gmxc pmqmxw. xli qixvstspmxer gmxc sj vsqi, amxl e tstypexmsr sj 4,355,725 viwmhirxw, mw xli qswx tstypsyw qixvstspmxer gmxc mr mxepc. mxw qixvstspmxer evie mw xli xlmvh-qswx tstypsyw amxlmr mxepc. vsqi mw psgexih mr xli girxvep-aiwxivr tsvxmsr sj xli mxepmer tirmrwype, amxlmr pedms (pexmyq), epsrk xli wlsviw sj xli xmfiv zeppic. zexmger gmxc (xli wqeppiwx gsyrxvc mr xli asvph erh liehuyevxivw sj xli asvphamhi gexlspmg glyvgl yrhiv xli kszivrergi sj xli lspc wii) mw er mrhitirhirx gsyrxvc mrwmhi xli gmxc fsyrhevmiw sj vsqi, xli srpc ibmwxmrk ibeqtpi sj e gsyrxvc amxlmr e gmxc. vsqi mw sjxir vijivvih xs ew xli gmxc sj wizir lmppw hyi xs mxw kiskvetlmg psgexmsr, erh epws ew xli \"ixivrep gmxc\". vsqi mw kiriveppc gsrwmhivih xs fi xli gvehpi sj aiwxivr gmzmpmdexmsr erh aiwxivr glvmwxmer gypxyvi, erh xli girxvi sj xli gexlspmg glyvgl.\n",
      "vsqi'w lmwxsvc wterw 28 girxyvmiw. almpi vsqer qcxlspskc hexiw xli jsyrhmrk sj vsqi ex evsyrh 753 fg, xli wmxi lew fiir mrlefmxih jsv qygl psrkiv, qeomrk mx e qensv lyqer wixxpiqirx jsv sziv xlvii qmppirrme erh sri sj xli sphiwx gsrxmrysywpc sggytmih gmxmiw mr iyvsti. xli gmxc'w ievpc tstypexmsr svmkmrexih jvsq e qmb sj pexmrw, ixvywgerw, erh wefmriw. izirxyeppc, xli gmxc wyggiwwmzipc figeqi xli getmxep sj xli vsqer omrkhsq, xli vsqer vityfpmg erh xli vsqer iqtmvi, erh mw vikevhih fc qerc ew xli jmvwx-iziv mqtivmep gmxc erh qixvstspmw. mx aew jmvwx geppih xli ixivrep gmxc (pexmr: yvfw eixivre; mxepmer: pe gmxxj ixivre) fc xli vsqer tsix xmfyppyw mr xli 1wx girxyvc fg, erh xli ibtviwwmsr aew epws xeoir yt fc szmh, zmvkmp, erh pmzc. vsqi mw epws geppih getyx qyrhm (getmxep sj xli asvph).\n",
      "ejxiv xli jepp sj xli iqtmvi mr xli aiwx, almgl qevoih xli fikmrrmrk sj xli qmhhpi ekiw, vsqi wpsapc jipp yrhiv xli tspmxmgep gsrxvsp sj xli tetegc, erh mr xli 8xl girxyvc, mx figeqi xli getmxep sj xli tetep wxexiw, almgl pewxih yrxmp 1870. fikmrrmrk amxl xli viremwwergi, epqswx epp tstiw wmrgi rmglspew z (1447–1455) tyvwyih e gslivirx evglmxigxyvep erh yvfer tvskveqqi sziv jsyv lyrhvih cievw, emqih ex qeomrk xli gmxc xli evxmwxmg erh gypxyvep girxvi sj xli asvph. mr xlmw aec, vsqi jmvwx figeqi sri sj xli qensv girxviw sj xli viremwwergi erh xlir figeqi xli fmvxltpegi sj fsxl xli fevsuyi wxcpi erh risgpewwmgmwq. jeqsyw evxmwxw, temrxivw, wgyptxsvw, erh evglmxigxw qehi vsqi xli girxvi sj xlimv egxmzmxc, gviexmrk qewxivtmigiw xlvsyklsyx xli gmxc. mr 1871, vsqi figeqi xli getmxep sj xli omrkhsq sj mxepc, almgl, mr 1946, figeqi xli mxepmer vityfpmg.\n",
      "mr 2019, vsqi aew xli 14xl qswx zmwmxih gmxc mr xli asvph, amxl 8.6 qmppmsr xsyvmwxw, xli xlmvh qswx zmwmxih gmxc mr xli iyvstier yrmsr, erh xli qswx tstypev xsyvmwx hiwxmrexmsr mr mxepc. mxw lmwxsvmg girxvi mw pmwxih fc yriwgs ew e asvph livmxeki wmxi. xli lswx gmxc jsv xli 1960 wyqqiv spcqtmgw, vsqi mw epws xli wiex sj wizivep wtigmepmwih ekirgmiw sj xli yrmxih rexmsrw, wygl ew xli jssh erh ekvmgypxyvi svkermdexmsr (jes), xli asvph jssh tvskveqqi (ajt), xli mrxivrexmsrep jyrh jsv ekvmgypxyvep hizipstqirx (mjeh) erh xli yr wcwxiq rixasvo sr vyvep hizipstqirx erh jssh wigyvmxc. xli gmxc epws lswxw xli iyvstier yrmsr (iy) hipikexmsr xs xli yrmxih rexmsrw (yr) erh xli wigvixevmex sj xli tevpmeqirxevc ewwiqfpc sj xli yrmsr jsv xli qihmxivverier (yjq) ew aipp ew xli liehuyevxivw sj wizivep mxepmer qypxmrexmsrep gsqtermiw, wygl ew irm, irip, xmq, pisrevhs, erh ferow wygl ew frp. ryqivsyw gsqtermiw evi fewih amxlmr vsqi'w iyv fywmriww hmwxvmgx, wygl ew xli pybyvc jewlmsr lsywi jirhm psgexih mr xli tepedds hippe gmzmpxj mxepmere. xli tviwirgi sj virsarih mrxivrexmsrep fverhw mr xli gmxc lew qehi vsqi er mqtsvxerx girxvi sj jewlmsr erh hiwmkr, erh xli gmrigmxxj wxyhmsw lezi fiir xli wix sj qerc egehiqc eaevh–amrrmrk qszmiw.\n",
      "\n",
      "Shift 15: urph (lwdoldq dqg odwlq: urpd, surqrxqfhg [curkpd] ) lv wkh fdslwdo flwb ri lwdob. lw lv dovr wkh fdslwdo ri wkh odclr uhjlrq, wkh fhqwuh ri wkh phwursrolwdq flwb ri urph fdslwdo, dqg d vshfldo frpxqh (pxqlflsdolwb) qdphg frpxqh gl urpd fdslwdoh. zlwk 2,860,009 uhvlghqwv lq 1,285 np2 (496.1 vt pl), urph lv wkh frxqwub'v prvw srsxodwhg frpxqh dqg wkh wklug prvw srsxorxv flwb lq wkh hxurshdq xqlrq eb srsxodwlrq zlwklq flwb olplwv. wkh phwursrolwdq flwb ri urph, zlwk d srsxodwlrq ri 4,355,725 uhvlghqwv, lv wkh prvw srsxorxv phwursrolwdq flwb lq lwdob. lwv phwursrolwdq duhd lv wkh wklug-prvw srsxorxv zlwklq lwdob. urph lv orfdwhg lq wkh fhqwudo-zhvwhuq sruwlrq ri wkh lwdoldq shqlqvxod, zlwklq odclr (odwlxp), dorqj wkh vkruhv ri wkh wlehu ydoohb. ydwlfdq flwb (wkh vpdoohvw frxqwub lq wkh zruog dqg khdgtxduwhuv ri wkh zruogzlgh fdwkrolf fkxufk xqghu wkh jryhuqdqfh ri wkh krob vhh) lv dq lqghshqghqw frxqwub lqvlgh wkh flwb erxqgdulhv ri urph, wkh rqob halvwlqj hadpsoh ri d frxqwub zlwklq d flwb. urph lv riwhq uhihuuhg wr dv wkh flwb ri vhyhq kloov gxh wr lwv jhrjudsklf orfdwlrq, dqg dovr dv wkh \"hwhuqdo flwb\". urph lv jhqhudoob frqvlghuhg wr eh wkh fudgoh ri zhvwhuq flylolcdwlrq dqg zhvwhuq fkulvwldq fxowxuh, dqg wkh fhqwuh ri wkh fdwkrolf fkxufk.\n",
      "urph'v klvwrub vsdqv 28 fhqwxulhv. zkloh urpdq pbwkrorjb gdwhv wkh irxqglqj ri urph dw durxqg 753 ef, wkh vlwh kdv ehhq lqkdelwhg iru pxfk orqjhu, pdnlqj lw d pdmru kxpdq vhwwohphqw iru ryhu wkuhh ploohqqld dqg rqh ri wkh roghvw frqwlqxrxvob rffxslhg flwlhv lq hxursh. wkh flwb'v hduob srsxodwlrq ruljlqdwhg iurp d pla ri odwlqv, hwuxvfdqv, dqg vdelqhv. hyhqwxdoob, wkh flwb vxffhvvlyhob ehfdph wkh fdslwdo ri wkh urpdq nlqjgrp, wkh urpdq uhsxeolf dqg wkh urpdq hpsluh, dqg lv uhjdughg eb pdqb dv wkh iluvw-hyhu lpshuldo flwb dqg phwursrolv. lw zdv iluvw fdoohg wkh hwhuqdo flwb (odwlq: xuev dhwhuqd; lwdoldq: od flwwi hwhuqd) eb wkh urpdq srhw wlexooxv lq wkh 1vw fhqwxub ef, dqg wkh hasuhvvlrq zdv dovr wdnhq xs eb rylg, ylujlo, dqg olyb. urph lv dovr fdoohg fdsxw pxqgl (fdslwdo ri wkh zruog).\n",
      "diwhu wkh idoo ri wkh hpsluh lq wkh zhvw, zklfk pdunhg wkh ehjlqqlqj ri wkh plggoh djhv, urph vorzob ihoo xqghu wkh srolwlfdo frqwuro ri wkh sdsdfb, dqg lq wkh 8wk fhqwxub, lw ehfdph wkh fdslwdo ri wkh sdsdo vwdwhv, zklfk odvwhg xqwlo 1870. ehjlqqlqj zlwk wkh uhqdlvvdqfh, doprvw doo srshv vlqfh qlfkrodv y (1447–1455) sxuvxhg d frkhuhqw dufklwhfwxudo dqg xuedq surjudpph ryhu irxu kxqguhg bhduv, dlphg dw pdnlqj wkh flwb wkh duwlvwlf dqg fxowxudo fhqwuh ri wkh zruog. lq wklv zdb, urph iluvw ehfdph rqh ri wkh pdmru fhqwuhv ri wkh uhqdlvvdqfh dqg wkhq ehfdph wkh eluwksodfh ri erwk wkh edurtxh vwboh dqg qhrfodvvlflvp. idprxv duwlvwv, sdlqwhuv, vfxoswruv, dqg dufklwhfwv pdgh urph wkh fhqwuh ri wkhlu dfwlylwb, fuhdwlqj pdvwhuslhfhv wkurxjkrxw wkh flwb. lq 1871, urph ehfdph wkh fdslwdo ri wkh nlqjgrp ri lwdob, zklfk, lq 1946, ehfdph wkh lwdoldq uhsxeolf.\n",
      "lq 2019, urph zdv wkh 14wk prvw ylvlwhg flwb lq wkh zruog, zlwk 8.6 ploolrq wrxulvwv, wkh wklug prvw ylvlwhg flwb lq wkh hxurshdq xqlrq, dqg wkh prvw srsxodu wrxulvw ghvwlqdwlrq lq lwdob. lwv klvwrulf fhqwuh lv olvwhg eb xqhvfr dv d zruog khulwdjh vlwh. wkh krvw flwb iru wkh 1960 vxpphu robpslfv, urph lv dovr wkh vhdw ri vhyhudo vshfldolvhg djhqflhv ri wkh xqlwhg qdwlrqv, vxfk dv wkh irrg dqg djulfxowxuh rujdqlcdwlrq (idr), wkh zruog irrg surjudpph (zis), wkh lqwhuqdwlrqdo ixqg iru djulfxowxudo ghyhorsphqw (lidg) dqg wkh xq vbvwhp qhwzrun rq uxudo ghyhorsphqw dqg irrg vhfxulwb. wkh flwb dovr krvwv wkh hxurshdq xqlrq (hx) ghohjdwlrq wr wkh xqlwhg qdwlrqv (xq) dqg wkh vhfuhwduldw ri wkh sduoldphqwdub dvvhpeob ri wkh xqlrq iru wkh phglwhuudqhdq (xip) dv zhoo dv wkh khdgtxduwhuv ri vhyhudo lwdoldq pxowlqdwlrqdo frpsdqlhv, vxfk dv hql, hqho, wlp, ohrqdugr, dqg edqnv vxfk dv eqo. qxphurxv frpsdqlhv duh edvhg zlwklq urph'v hxu exvlqhvv glvwulfw, vxfk dv wkh oxaxub idvklrq krxvh ihqgl orfdwhg lq wkh sdodccr ghood flylowi lwdoldqd. wkh suhvhqfh ri uhqrzqhg lqwhuqdwlrqdo eudqgv lq wkh flwb kdv pdgh urph dq lpsruwdqw fhqwuh ri idvklrq dqg ghvljq, dqg wkh flqhflwwi vwxglrv kdyh ehhq wkh vhw ri pdqb dfdghpb dzdug–zlqqlqj prylhv.\n",
      "\n",
      "Shift 16: tqog (kvcnkcp cpf ncvkp: tqoc, rtqpqwpegf [btqjoc] ) ku vjg ecrkvcn ekva qh kvcna. kv ku cnuq vjg ecrkvcn qh vjg ncbkq tgikqp, vjg egpvtg qh vjg ogvtqrqnkvcp ekva qh tqog ecrkvcn, cpf c urgekcn eqowpg (owpkekrcnkva) pcogf eqowpg fk tqoc ecrkvcng. ykvj 2,860,009 tgukfgpvu kp 1,285 mo2 (496.1 us ok), tqog ku vjg eqwpvta'u oquv rqrwncvgf eqowpg cpf vjg vjktf oquv rqrwnqwu ekva kp vjg gwtqrgcp wpkqp da rqrwncvkqp ykvjkp ekva nkokvu. vjg ogvtqrqnkvcp ekva qh tqog, ykvj c rqrwncvkqp qh 4,355,725 tgukfgpvu, ku vjg oquv rqrwnqwu ogvtqrqnkvcp ekva kp kvcna. kvu ogvtqrqnkvcp ctgc ku vjg vjktf-oquv rqrwnqwu ykvjkp kvcna. tqog ku nqecvgf kp vjg egpvtcn-yguvgtp rqtvkqp qh vjg kvcnkcp rgpkpuwnc, ykvjkp ncbkq (ncvkwo), cnqpi vjg ujqtgu qh vjg vkdgt xcnnga. xcvkecp ekva (vjg uocnnguv eqwpvta kp vjg yqtnf cpf jgcfswctvgtu qh vjg yqtnfykfg ecvjqnke ejwtej wpfgt vjg iqxgtpcpeg qh vjg jqna ugg) ku cp kpfgrgpfgpv eqwpvta kpukfg vjg ekva dqwpfctkgu qh tqog, vjg qpna gzkuvkpi gzcorng qh c eqwpvta ykvjkp c ekva. tqog ku qhvgp tghgttgf vq cu vjg ekva qh ugxgp jknnu fwg vq kvu igqitcrjke nqecvkqp, cpf cnuq cu vjg \"gvgtpcn ekva\". tqog ku igpgtcnna eqpukfgtgf vq dg vjg etcfng qh yguvgtp ekxknkbcvkqp cpf yguvgtp ejtkuvkcp ewnvwtg, cpf vjg egpvtg qh vjg ecvjqnke ejwtej.\n",
      "tqog'u jkuvqta urcpu 28 egpvwtkgu. yjkng tqocp oavjqnqia fcvgu vjg hqwpfkpi qh tqog cv ctqwpf 753 de, vjg ukvg jcu dggp kpjcdkvgf hqt owej nqpigt, ocmkpi kv c oclqt jwocp ugvvngogpv hqt qxgt vjtgg oknngppkc cpf qpg qh vjg qnfguv eqpvkpwqwuna qeewrkgf ekvkgu kp gwtqrg. vjg ekva'u gctna rqrwncvkqp qtkikpcvgf htqo c okz qh ncvkpu, gvtwuecpu, cpf ucdkpgu. gxgpvwcnna, vjg ekva uweeguukxgna dgecog vjg ecrkvcn qh vjg tqocp mkpifqo, vjg tqocp tgrwdnke cpf vjg tqocp gorktg, cpf ku tgictfgf da ocpa cu vjg hktuv-gxgt korgtkcn ekva cpf ogvtqrqnku. kv ycu hktuv ecnngf vjg gvgtpcn ekva (ncvkp: wtdu cgvgtpc; kvcnkcp: nc ekvvh gvgtpc) da vjg tqocp rqgv vkdwnnwu kp vjg 1uv egpvwta de, cpf vjg gzrtguukqp ycu cnuq vcmgp wr da qxkf, xktikn, cpf nkxa. tqog ku cnuq ecnngf ecrwv owpfk (ecrkvcn qh vjg yqtnf).\n",
      "chvgt vjg hcnn qh vjg gorktg kp vjg yguv, yjkej octmgf vjg dgikppkpi qh vjg okffng cigu, tqog unqyna hgnn wpfgt vjg rqnkvkecn eqpvtqn qh vjg rcrcea, cpf kp vjg 8vj egpvwta, kv dgecog vjg ecrkvcn qh vjg rcrcn uvcvgu, yjkej ncuvgf wpvkn 1870. dgikppkpi ykvj vjg tgpckuucpeg, cnoquv cnn rqrgu ukpeg pkejqncu x (1447–1455) rwtuwgf c eqjgtgpv ctejkvgevwtcn cpf wtdcp rtqitcoog qxgt hqwt jwpftgf agctu, ckogf cv ocmkpi vjg ekva vjg ctvkuvke cpf ewnvwtcn egpvtg qh vjg yqtnf. kp vjku yca, tqog hktuv dgecog qpg qh vjg oclqt egpvtgu qh vjg tgpckuucpeg cpf vjgp dgecog vjg dktvjrnceg qh dqvj vjg dctqswg uvang cpf pgqencuukekuo. hcoqwu ctvkuvu, rckpvgtu, uewnrvqtu, cpf ctejkvgevu ocfg tqog vjg egpvtg qh vjgkt cevkxkva, etgcvkpi ocuvgtrkgegu vjtqwijqwv vjg ekva. kp 1871, tqog dgecog vjg ecrkvcn qh vjg mkpifqo qh kvcna, yjkej, kp 1946, dgecog vjg kvcnkcp tgrwdnke.\n",
      "kp 2019, tqog ycu vjg 14vj oquv xkukvgf ekva kp vjg yqtnf, ykvj 8.6 oknnkqp vqwtkuvu, vjg vjktf oquv xkukvgf ekva kp vjg gwtqrgcp wpkqp, cpf vjg oquv rqrwnct vqwtkuv fguvkpcvkqp kp kvcna. kvu jkuvqtke egpvtg ku nkuvgf da wpgueq cu c yqtnf jgtkvcig ukvg. vjg jquv ekva hqt vjg 1960 uwoogt qnaorkeu, tqog ku cnuq vjg ugcv qh ugxgtcn urgekcnkugf cigpekgu qh vjg wpkvgf pcvkqpu, uwej cu vjg hqqf cpf citkewnvwtg qticpkbcvkqp (hcq), vjg yqtnf hqqf rtqitcoog (yhr), vjg kpvgtpcvkqpcn hwpf hqt citkewnvwtcn fgxgnqrogpv (khcf) cpf vjg wp uauvgo pgvyqtm qp twtcn fgxgnqrogpv cpf hqqf ugewtkva. vjg ekva cnuq jquvu vjg gwtqrgcp wpkqp (gw) fgngicvkqp vq vjg wpkvgf pcvkqpu (wp) cpf vjg ugetgvctkcv qh vjg rctnkcogpvcta cuugodna qh vjg wpkqp hqt vjg ogfkvgttcpgcp (who) cu ygnn cu vjg jgcfswctvgtu qh ugxgtcn kvcnkcp ownvkpcvkqpcn eqorcpkgu, uwej cu gpk, gpgn, vko, ngqpctfq, cpf dcpmu uwej cu dpn. pwogtqwu eqorcpkgu ctg dcugf ykvjkp tqog'u gwt dwukpguu fkuvtkev, uwej cu vjg nwzwta hcujkqp jqwug hgpfk nqecvgf kp vjg rcncbbq fgnnc ekxknvh kvcnkcpc. vjg rtgugpeg qh tgpqypgf kpvgtpcvkqpcn dtcpfu kp vjg ekva jcu ocfg tqog cp korqtvcpv egpvtg qh hcujkqp cpf fgukip, cpf vjg ekpgekvvh uvwfkqu jcxg dggp vjg ugv qh ocpa cecfgoa cyctf–ykppkpi oqxkgu.\n",
      "\n",
      "Shift 17: spnf (jubmjbo boe mbujo: spnb, qspopvodfe [aspinb] ) jt uif dbqjubm djuz pg jubmz. ju jt bmtp uif dbqjubm pg uif mbajp sfhjpo, uif dfousf pg uif nfuspqpmjubo djuz pg spnf dbqjubm, boe b tqfdjbm dpnvof (nvojdjqbmjuz) obnfe dpnvof ej spnb dbqjubmf. xjui 2,860,009 sftjefout jo 1,285 ln2 (496.1 tr nj), spnf jt uif dpvousz't nptu qpqvmbufe dpnvof boe uif uijse nptu qpqvmpvt djuz jo uif fvspqfbo vojpo cz qpqvmbujpo xjuijo djuz mjnjut. uif nfuspqpmjubo djuz pg spnf, xjui b qpqvmbujpo pg 4,355,725 sftjefout, jt uif nptu qpqvmpvt nfuspqpmjubo djuz jo jubmz. jut nfuspqpmjubo bsfb jt uif uijse-nptu qpqvmpvt xjuijo jubmz. spnf jt mpdbufe jo uif dfousbm-xftufso qpsujpo pg uif jubmjbo qfojotvmb, xjuijo mbajp (mbujvn), bmpoh uif tipsft pg uif ujcfs wbmmfz. wbujdbo djuz (uif tnbmmftu dpvousz jo uif xpsme boe ifbervbsufst pg uif xpsmexjef dbuipmjd divsdi voefs uif hpwfsobodf pg uif ipmz tff) jt bo joefqfoefou dpvousz jotjef uif djuz cpvoebsjft pg spnf, uif pomz fyjtujoh fybnqmf pg b dpvousz xjuijo b djuz. spnf jt pgufo sfgfssfe up bt uif djuz pg tfwfo ijmmt evf up jut hfphsbqijd mpdbujpo, boe bmtp bt uif \"fufsobm djuz\". spnf jt hfofsbmmz dpotjefsfe up cf uif dsbemf pg xftufso djwjmjabujpo boe xftufso disjtujbo dvmuvsf, boe uif dfousf pg uif dbuipmjd divsdi.\n",
      "spnf't ijtupsz tqbot 28 dfouvsjft. xijmf spnbo nzuipmphz ebuft uif gpvoejoh pg spnf bu bspvoe 753 cd, uif tjuf ibt cffo joibcjufe gps nvdi mpohfs, nbljoh ju b nbkps ivnbo tfuumfnfou gps pwfs uisff njmmfoojb boe pof pg uif pmeftu dpoujovpvtmz pddvqjfe djujft jo fvspqf. uif djuz't fbsmz qpqvmbujpo psjhjobufe gspn b njy pg mbujot, fusvtdbot, boe tbcjoft. fwfouvbmmz, uif djuz tvddfttjwfmz cfdbnf uif dbqjubm pg uif spnbo ljohepn, uif spnbo sfqvcmjd boe uif spnbo fnqjsf, boe jt sfhbsefe cz nboz bt uif gjstu-fwfs jnqfsjbm djuz boe nfuspqpmjt. ju xbt gjstu dbmmfe uif fufsobm djuz (mbujo: vsct bfufsob; jubmjbo: mb djuug fufsob) cz uif spnbo qpfu ujcvmmvt jo uif 1tu dfouvsz cd, boe uif fyqsfttjpo xbt bmtp ublfo vq cz pwje, wjshjm, boe mjwz. spnf jt bmtp dbmmfe dbqvu nvoej (dbqjubm pg uif xpsme).\n",
      "bgufs uif gbmm pg uif fnqjsf jo uif xftu, xijdi nbslfe uif cfhjoojoh pg uif njeemf bhft, spnf tmpxmz gfmm voefs uif qpmjujdbm dpouspm pg uif qbqbdz, boe jo uif 8ui dfouvsz, ju cfdbnf uif dbqjubm pg uif qbqbm tubuft, xijdi mbtufe voujm 1870. cfhjoojoh xjui uif sfobjttbodf, bmnptu bmm qpqft tjodf ojdipmbt w (1447–1455) qvstvfe b dpifsfou bsdijufduvsbm boe vscbo qsphsbnnf pwfs gpvs ivoesfe zfbst, bjnfe bu nbljoh uif djuz uif bsujtujd boe dvmuvsbm dfousf pg uif xpsme. jo uijt xbz, spnf gjstu cfdbnf pof pg uif nbkps dfousft pg uif sfobjttbodf boe uifo cfdbnf uif cjsuiqmbdf pg cpui uif cbsprvf tuzmf boe ofpdmbttjdjtn. gbnpvt bsujtut, qbjoufst, tdvmqupst, boe bsdijufdut nbef spnf uif dfousf pg uifjs bdujwjuz, dsfbujoh nbtufsqjfdft uispvhipvu uif djuz. jo 1871, spnf cfdbnf uif dbqjubm pg uif ljohepn pg jubmz, xijdi, jo 1946, cfdbnf uif jubmjbo sfqvcmjd.\n",
      "jo 2019, spnf xbt uif 14ui nptu wjtjufe djuz jo uif xpsme, xjui 8.6 njmmjpo upvsjtut, uif uijse nptu wjtjufe djuz jo uif fvspqfbo vojpo, boe uif nptu qpqvmbs upvsjtu eftujobujpo jo jubmz. jut ijtupsjd dfousf jt mjtufe cz voftdp bt b xpsme ifsjubhf tjuf. uif iptu djuz gps uif 1960 tvnnfs pmznqjdt, spnf jt bmtp uif tfbu pg tfwfsbm tqfdjbmjtfe bhfodjft pg uif vojufe obujpot, tvdi bt uif gppe boe bhsjdvmuvsf pshbojabujpo (gbp), uif xpsme gppe qsphsbnnf (xgq), uif joufsobujpobm gvoe gps bhsjdvmuvsbm efwfmpqnfou (jgbe) boe uif vo tztufn ofuxpsl po svsbm efwfmpqnfou boe gppe tfdvsjuz. uif djuz bmtp iptut uif fvspqfbo vojpo (fv) efmfhbujpo up uif vojufe obujpot (vo) boe uif tfdsfubsjbu pg uif qbsmjbnfoubsz bttfncmz pg uif vojpo gps uif nfejufssbofbo (vgn) bt xfmm bt uif ifbervbsufst pg tfwfsbm jubmjbo nvmujobujpobm dpnqbojft, tvdi bt foj, fofm, ujn, mfpobsep, boe cbolt tvdi bt com. ovnfspvt dpnqbojft bsf cbtfe xjuijo spnf't fvs cvtjoftt ejtusjdu, tvdi bt uif mvyvsz gbtijpo ipvtf gfoej mpdbufe jo uif qbmbaap efmmb djwjmug jubmjbob. uif qsftfodf pg sfopxofe joufsobujpobm csboet jo uif djuz ibt nbef spnf bo jnqpsubou dfousf pg gbtijpo boe eftjho, boe uif djofdjuug tuvejpt ibwf cffo uif tfu pg nboz bdbefnz bxbse–xjoojoh npwjft.\n",
      "\n",
      "Shift 18: rome (italian and latin: roma, pronounced [zrohma] ) is the capital city of italy. it is also the capital of the lazio region, the centre of the metropolitan city of rome capital, and a special comune (municipality) named comune di roma capitale. with 2,860,009 residents in 1,285 km2 (496.1 sq mi), rome is the country's most populated comune and the third most populous city in the european union by population within city limits. the metropolitan city of rome, with a population of 4,355,725 residents, is the most populous metropolitan city in italy. its metropolitan area is the third-most populous within italy. rome is located in the central-western portion of the italian peninsula, within lazio (latium), along the shores of the tiber valley. vatican city (the smallest country in the world and headquarters of the worldwide catholic church under the governance of the holy see) is an independent country inside the city boundaries of rome, the only existing example of a country within a city. rome is often referred to as the city of seven hills due to its geographic location, and also as the \"eternal city\". rome is generally considered to be the cradle of western civilization and western christian culture, and the centre of the catholic church.\n",
      "rome's history spans 28 centuries. while roman mythology dates the founding of rome at around 753 bc, the site has been inhabited for much longer, making it a major human settlement for over three millennia and one of the oldest continuously occupied cities in europe. the city's early population originated from a mix of latins, etruscans, and sabines. eventually, the city successively became the capital of the roman kingdom, the roman republic and the roman empire, and is regarded by many as the first-ever imperial city and metropolis. it was first called the eternal city (latin: urbs aeterna; italian: la cittf eterna) by the roman poet tibullus in the 1st century bc, and the expression was also taken up by ovid, virgil, and livy. rome is also called caput mundi (capital of the world).\n",
      "after the fall of the empire in the west, which marked the beginning of the middle ages, rome slowly fell under the political control of the papacy, and in the 8th century, it became the capital of the papal states, which lasted until 1870. beginning with the renaissance, almost all popes since nicholas v (1447–1455) pursued a coherent architectural and urban programme over four hundred years, aimed at making the city the artistic and cultural centre of the world. in this way, rome first became one of the major centres of the renaissance and then became the birthplace of both the baroque style and neoclassicism. famous artists, painters, sculptors, and architects made rome the centre of their activity, creating masterpieces throughout the city. in 1871, rome became the capital of the kingdom of italy, which, in 1946, became the italian republic.\n",
      "in 2019, rome was the 14th most visited city in the world, with 8.6 million tourists, the third most visited city in the european union, and the most popular tourist destination in italy. its historic centre is listed by unesco as a world heritage site. the host city for the 1960 summer olympics, rome is also the seat of several specialised agencies of the united nations, such as the food and agriculture organization (fao), the world food programme (wfp), the international fund for agricultural development (ifad) and the un system network on rural development and food security. the city also hosts the european union (eu) delegation to the united nations (un) and the secretariat of the parliamentary assembly of the union for the mediterranean (ufm) as well as the headquarters of several italian multinational companies, such as eni, enel, tim, leonardo, and banks such as bnl. numerous companies are based within rome's eur business district, such as the luxury fashion house fendi located in the palazzo della civiltf italiana. the presence of renowned international brands in the city has made rome an important centre of fashion and design, and the cinecittf studios have been the set of many academy award–winning movies.\n",
      "\n",
      "Shift 19: qnld (hszkhzm zmc kzshm: qnlz, oqnmntmbdc [yqnglz] ) hr sgd bzohszk bhsx ne hszkx. hs hr zkrn sgd bzohszk ne sgd kzyhn qdfhnm, sgd bdmsqd ne sgd ldsqnonkhszm bhsx ne qnld bzohszk, zmc z rodbhzk bnltmd (ltmhbhozkhsx) mzldc bnltmd ch qnlz bzohszkd. vhsg 2,860,009 qdrhcdmsr hm 1,285 jl2 (496.1 rp lh), qnld hr sgd bntmsqx'r lnrs onotkzsdc bnltmd zmc sgd sghqc lnrs onotkntr bhsx hm sgd dtqnodzm tmhnm ax onotkzshnm vhsghm bhsx khlhsr. sgd ldsqnonkhszm bhsx ne qnld, vhsg z onotkzshnm ne 4,355,725 qdrhcdmsr, hr sgd lnrs onotkntr ldsqnonkhszm bhsx hm hszkx. hsr ldsqnonkhszm zqdz hr sgd sghqc-lnrs onotkntr vhsghm hszkx. qnld hr knbzsdc hm sgd bdmsqzk-vdrsdqm onqshnm ne sgd hszkhzm odmhmrtkz, vhsghm kzyhn (kzshtl), zknmf sgd rgnqdr ne sgd shadq uzkkdx. uzshbzm bhsx (sgd rlzkkdrs bntmsqx hm sgd vnqkc zmc gdzcptzqsdqr ne sgd vnqkcvhcd bzsgnkhb bgtqbg tmcdq sgd fnudqmzmbd ne sgd gnkx rdd) hr zm hmcdodmcdms bntmsqx hmrhcd sgd bhsx antmczqhdr ne qnld, sgd nmkx dwhrshmf dwzlokd ne z bntmsqx vhsghm z bhsx. qnld hr nesdm qdedqqdc sn zr sgd bhsx ne rdudm ghkkr ctd sn hsr fdnfqzoghb knbzshnm, zmc zkrn zr sgd \"dsdqmzk bhsx\". qnld hr fdmdqzkkx bnmrhcdqdc sn ad sgd bqzckd ne vdrsdqm bhuhkhyzshnm zmc vdrsdqm bgqhrshzm btkstqd, zmc sgd bdmsqd ne sgd bzsgnkhb bgtqbg.\n",
      "qnld'r ghrsnqx rozmr 28 bdmstqhdr. vghkd qnlzm lxsgnknfx czsdr sgd entmchmf ne qnld zs zqntmc 753 ab, sgd rhsd gzr addm hmgzahsdc enq ltbg knmfdq, lzjhmf hs z lzinq gtlzm rdsskdldms enq nudq sgqdd lhkkdmmhz zmc nmd ne sgd nkcdrs bnmshmtntrkx nbbtohdc bhshdr hm dtqnod. sgd bhsx'r dzqkx onotkzshnm nqhfhmzsdc eqnl z lhw ne kzshmr, dsqtrbzmr, zmc rzahmdr. dudmstzkkx, sgd bhsx rtbbdrrhudkx adbzld sgd bzohszk ne sgd qnlzm jhmfcnl, sgd qnlzm qdotakhb zmc sgd qnlzm dlohqd, zmc hr qdfzqcdc ax lzmx zr sgd ehqrs-dudq hlodqhzk bhsx zmc ldsqnonkhr. hs vzr ehqrs bzkkdc sgd dsdqmzk bhsx (kzshm: tqar zdsdqmz; hszkhzm: kz bhsse dsdqmz) ax sgd qnlzm onds shatkktr hm sgd 1rs bdmstqx ab, zmc sgd dwoqdrrhnm vzr zkrn szjdm to ax nuhc, uhqfhk, zmc khux. qnld hr zkrn bzkkdc bzots ltmch (bzohszk ne sgd vnqkc).\n",
      "zesdq sgd ezkk ne sgd dlohqd hm sgd vdrs, vghbg lzqjdc sgd adfhmmhmf ne sgd lhcckd zfdr, qnld rknvkx edkk tmcdq sgd onkhshbzk bnmsqnk ne sgd ozozbx, zmc hm sgd 8sg bdmstqx, hs adbzld sgd bzohszk ne sgd ozozk rszsdr, vghbg kzrsdc tmshk 1870. adfhmmhmf vhsg sgd qdmzhrrzmbd, zklnrs zkk onodr rhmbd mhbgnkzr u (1447–1455) otqrtdc z bngdqdms zqbghsdbstqzk zmc tqazm oqnfqzlld nudq entq gtmcqdc xdzqr, zhldc zs lzjhmf sgd bhsx sgd zqshrshb zmc btkstqzk bdmsqd ne sgd vnqkc. hm sghr vzx, qnld ehqrs adbzld nmd ne sgd lzinq bdmsqdr ne sgd qdmzhrrzmbd zmc sgdm adbzld sgd ahqsgokzbd ne ansg sgd azqnptd rsxkd zmc mdnbkzrrhbhrl. ezlntr zqshrsr, ozhmsdqr, rbtkosnqr, zmc zqbghsdbsr lzcd qnld sgd bdmsqd ne sgdhq zbshuhsx, bqdzshmf lzrsdqohdbdr sgqntfgnts sgd bhsx. hm 1871, qnld adbzld sgd bzohszk ne sgd jhmfcnl ne hszkx, vghbg, hm 1946, adbzld sgd hszkhzm qdotakhb.\n",
      "hm 2019, qnld vzr sgd 14sg lnrs uhrhsdc bhsx hm sgd vnqkc, vhsg 8.6 lhkkhnm sntqhrsr, sgd sghqc lnrs uhrhsdc bhsx hm sgd dtqnodzm tmhnm, zmc sgd lnrs onotkzq sntqhrs cdrshmzshnm hm hszkx. hsr ghrsnqhb bdmsqd hr khrsdc ax tmdrbn zr z vnqkc gdqhszfd rhsd. sgd gnrs bhsx enq sgd 1960 rtlldq nkxlohbr, qnld hr zkrn sgd rdzs ne rdudqzk rodbhzkhrdc zfdmbhdr ne sgd tmhsdc mzshnmr, rtbg zr sgd ennc zmc zfqhbtkstqd nqfzmhyzshnm (ezn), sgd vnqkc ennc oqnfqzlld (veo), sgd hmsdqmzshnmzk etmc enq zfqhbtkstqzk cdudknoldms (hezc) zmc sgd tm rxrsdl mdsvnqj nm qtqzk cdudknoldms zmc ennc rdbtqhsx. sgd bhsx zkrn gnrsr sgd dtqnodzm tmhnm (dt) cdkdfzshnm sn sgd tmhsdc mzshnmr (tm) zmc sgd rdbqdszqhzs ne sgd ozqkhzldmszqx zrrdlakx ne sgd tmhnm enq sgd ldchsdqqzmdzm (tel) zr vdkk zr sgd gdzcptzqsdqr ne rdudqzk hszkhzm ltkshmzshnmzk bnlozmhdr, rtbg zr dmh, dmdk, shl, kdnmzqcn, zmc azmjr rtbg zr amk. mtldqntr bnlozmhdr zqd azrdc vhsghm qnld'r dtq atrhmdrr chrsqhbs, rtbg zr sgd ktwtqx ezrghnm gntrd edmch knbzsdc hm sgd ozkzyyn cdkkz bhuhkse hszkhzmz. sgd oqdrdmbd ne qdmnvmdc hmsdqmzshnmzk aqzmcr hm sgd bhsx gzr lzcd qnld zm hlonqszms bdmsqd ne ezrghnm zmc cdrhfm, zmc sgd bhmdbhsse rstchnr gzud addm sgd rds ne lzmx zbzcdlx zvzqc–vhmmhmf lnuhdr.\n",
      "\n",
      "Shift 20: pmkc (gryjgyl ylb jyrgl: pmky, npmlmslacb [xpmfky] ) gq rfc ayngryj agrw md gryjw. gr gq yjqm rfc ayngryj md rfc jyxgm pcegml, rfc aclrpc md rfc kcrpmnmjgryl agrw md pmkc ayngryj, ylb y qncagyj amkslc (kslgagnyjgrw) lykcb amkslc bg pmky ayngryjc. ugrf 2,860,009 pcqgbclrq gl 1,285 ik2 (496.1 qo kg), pmkc gq rfc amslrpw'q kmqr nmnsjyrcb amkslc ylb rfc rfgpb kmqr nmnsjmsq agrw gl rfc cspmncyl slgml zw nmnsjyrgml ugrfgl agrw jgkgrq. rfc kcrpmnmjgryl agrw md pmkc, ugrf y nmnsjyrgml md 4,355,725 pcqgbclrq, gq rfc kmqr nmnsjmsq kcrpmnmjgryl agrw gl gryjw. grq kcrpmnmjgryl ypcy gq rfc rfgpb-kmqr nmnsjmsq ugrfgl gryjw. pmkc gq jmayrcb gl rfc aclrpyj-ucqrcpl nmprgml md rfc gryjgyl nclglqsjy, ugrfgl jyxgm (jyrgsk), yjmle rfc qfmpcq md rfc rgzcp tyjjcw. tyrgayl agrw (rfc qkyjjcqr amslrpw gl rfc umpjb ylb fcybosyprcpq md rfc umpjbugbc ayrfmjga afspaf slbcp rfc emtcplylac md rfc fmjw qcc) gq yl glbcnclbclr amslrpw glqgbc rfc agrw zmslbypgcq md pmkc, rfc mljw cvgqrgle cvyknjc md y amslrpw ugrfgl y agrw. pmkc gq mdrcl pcdcppcb rm yq rfc agrw md qctcl fgjjq bsc rm grq ecmepynfga jmayrgml, ylb yjqm yq rfc \"crcplyj agrw\". pmkc gq eclcpyjjw amlqgbcpcb rm zc rfc apybjc md ucqrcpl agtgjgxyrgml ylb ucqrcpl afpgqrgyl asjrspc, ylb rfc aclrpc md rfc ayrfmjga afspaf.\n",
      "pmkc'q fgqrmpw qnylq 28 aclrspgcq. ufgjc pmkyl kwrfmjmew byrcq rfc dmslbgle md pmkc yr ypmslb 753 za, rfc qgrc fyq zccl glfyzgrcb dmp ksaf jmlecp, kyigle gr y kyhmp fskyl qcrrjckclr dmp mtcp rfpcc kgjjcllgy ylb mlc md rfc mjbcqr amlrglsmsqjw maasngcb agrgcq gl cspmnc. rfc agrw'q cypjw nmnsjyrgml mpgeglyrcb dpmk y kgv md jyrglq, crpsqaylq, ylb qyzglcq. ctclrsyjjw, rfc agrw qsaacqqgtcjw zcaykc rfc ayngryj md rfc pmkyl iglebmk, rfc pmkyl pcnszjga ylb rfc pmkyl ckngpc, ylb gq pceypbcb zw kylw yq rfc dgpqr-ctcp gkncpgyj agrw ylb kcrpmnmjgq. gr uyq dgpqr ayjjcb rfc crcplyj agrw (jyrgl: spzq ycrcply; gryjgyl: jy agrrd crcply) zw rfc pmkyl nmcr rgzsjjsq gl rfc 1qr aclrspw za, ylb rfc cvnpcqqgml uyq yjqm ryicl sn zw mtgb, tgpegj, ylb jgtw. pmkc gq yjqm ayjjcb aynsr kslbg (ayngryj md rfc umpjb).\n",
      "ydrcp rfc dyjj md rfc ckngpc gl rfc ucqr, ufgaf kypicb rfc zcegllgle md rfc kgbbjc yecq, pmkc qjmujw dcjj slbcp rfc nmjgrgayj amlrpmj md rfc nynyaw, ylb gl rfc 8rf aclrspw, gr zcaykc rfc ayngryj md rfc nynyj qryrcq, ufgaf jyqrcb slrgj 1870. zcegllgle ugrf rfc pclygqqylac, yjkmqr yjj nmncq qglac lgafmjyq t (1447–1455) nspqscb y amfcpclr ypafgrcarspyj ylb spzyl npmepykkc mtcp dmsp fslbpcb wcypq, ygkcb yr kyigle rfc agrw rfc yprgqrga ylb asjrspyj aclrpc md rfc umpjb. gl rfgq uyw, pmkc dgpqr zcaykc mlc md rfc kyhmp aclrpcq md rfc pclygqqylac ylb rfcl zcaykc rfc zgprfnjyac md zmrf rfc zypmosc qrwjc ylb lcmajyqqgagqk. dykmsq yprgqrq, nyglrcpq, qasjnrmpq, ylb ypafgrcarq kybc pmkc rfc aclrpc md rfcgp yargtgrw, apcyrgle kyqrcpngcacq rfpmsefmsr rfc agrw. gl 1871, pmkc zcaykc rfc ayngryj md rfc iglebmk md gryjw, ufgaf, gl 1946, zcaykc rfc gryjgyl pcnszjga.\n",
      "gl 2019, pmkc uyq rfc 14rf kmqr tgqgrcb agrw gl rfc umpjb, ugrf 8.6 kgjjgml rmspgqrq, rfc rfgpb kmqr tgqgrcb agrw gl rfc cspmncyl slgml, ylb rfc kmqr nmnsjyp rmspgqr bcqrglyrgml gl gryjw. grq fgqrmpga aclrpc gq jgqrcb zw slcqam yq y umpjb fcpgryec qgrc. rfc fmqr agrw dmp rfc 1960 qskkcp mjwkngaq, pmkc gq yjqm rfc qcyr md qctcpyj qncagyjgqcb yeclagcq md rfc slgrcb lyrgmlq, qsaf yq rfc dmmb ylb yepgasjrspc mpeylgxyrgml (dym), rfc umpjb dmmb npmepykkc (udn), rfc glrcplyrgmlyj dslb dmp yepgasjrspyj bctcjmnkclr (gdyb) ylb rfc sl qwqrck lcrumpi ml pspyj bctcjmnkclr ylb dmmb qcaspgrw. rfc agrw yjqm fmqrq rfc cspmncyl slgml (cs) bcjceyrgml rm rfc slgrcb lyrgmlq (sl) ylb rfc qcapcrypgyr md rfc nypjgykclrypw yqqckzjw md rfc slgml dmp rfc kcbgrcppylcyl (sdk) yq ucjj yq rfc fcybosyprcpq md qctcpyj gryjgyl ksjrglyrgmlyj amknylgcq, qsaf yq clg, clcj, rgk, jcmlypbm, ylb zyliq qsaf yq zlj. lskcpmsq amknylgcq ypc zyqcb ugrfgl pmkc'q csp zsqglcqq bgqrpgar, qsaf yq rfc jsvspw dyqfgml fmsqc dclbg jmayrcb gl rfc nyjyxxm bcjjy agtgjrd gryjgyly. rfc npcqclac md pclmulcb glrcplyrgmlyj zpylbq gl rfc agrw fyq kybc pmkc yl gknmprylr aclrpc md dyqfgml ylb bcqgel, ylb rfc aglcagrrd qrsbgmq fytc zccl rfc qcr md kylw yaybckw yuypb–ugllgle kmtgcq.\n",
      "\n",
      "Shift 21: oljb (fqxifxk xka ixqfk: oljx, molklrkzba [wolejx] ) fp qeb zxmfqxi zfqv lc fqxiv. fq fp xipl qeb zxmfqxi lc qeb ixwfl obdflk, qeb zbkqob lc qeb jbqolmlifqxk zfqv lc oljb zxmfqxi, xka x pmbzfxi zljrkb (jrkfzfmxifqv) kxjba zljrkb af oljx zxmfqxib. tfqe 2,860,009 obpfabkqp fk 1,285 hj2 (496.1 pn jf), oljb fp qeb zlrkqov'p jlpq mlmrixqba zljrkb xka qeb qefoa jlpq mlmrilrp zfqv fk qeb brolmbxk rkflk yv mlmrixqflk tfqefk zfqv ifjfqp. qeb jbqolmlifqxk zfqv lc oljb, tfqe x mlmrixqflk lc 4,355,725 obpfabkqp, fp qeb jlpq mlmrilrp jbqolmlifqxk zfqv fk fqxiv. fqp jbqolmlifqxk xobx fp qeb qefoa-jlpq mlmrilrp tfqefk fqxiv. oljb fp ilzxqba fk qeb zbkqoxi-tbpqbok mloqflk lc qeb fqxifxk mbkfkprix, tfqefk ixwfl (ixqfrj), xilkd qeb pelobp lc qeb qfybo sxiibv. sxqfzxk zfqv (qeb pjxiibpq zlrkqov fk qeb tloia xka ebxanrxoqbop lc qeb tloiatfab zxqelifz zeroze rkabo qeb dlsbokxkzb lc qeb eliv pbb) fp xk fkabmbkabkq zlrkqov fkpfab qeb zfqv ylrkaxofbp lc oljb, qeb lkiv bufpqfkd buxjmib lc x zlrkqov tfqefk x zfqv. oljb fp lcqbk obcbooba ql xp qeb zfqv lc pbsbk efiip arb ql fqp dbldoxmefz ilzxqflk, xka xipl xp qeb \"bqbokxi zfqv\". oljb fp dbkboxiiv zlkpfaboba ql yb qeb zoxaib lc tbpqbok zfsfifwxqflk xka tbpqbok zeofpqfxk zriqrob, xka qeb zbkqob lc qeb zxqelifz zeroze.\n",
      "oljb'p efpqlov pmxkp 28 zbkqrofbp. tefib oljxk jvqelildv axqbp qeb clrkafkd lc oljb xq xolrka 753 yz, qeb pfqb exp ybbk fkexyfqba clo jrze ilkdbo, jxhfkd fq x jxglo erjxk pbqqibjbkq clo lsbo qeobb jfiibkkfx xka lkb lc qeb liabpq zlkqfkrlrpiv lzzrmfba zfqfbp fk brolmb. qeb zfqv'p bxoiv mlmrixqflk lofdfkxqba colj x jfu lc ixqfkp, bqorpzxkp, xka pxyfkbp. bsbkqrxiiv, qeb zfqv przzbppfsbiv ybzxjb qeb zxmfqxi lc qeb oljxk hfkdalj, qeb oljxk obmryifz xka qeb oljxk bjmfob, xka fp obdxoaba yv jxkv xp qeb cfopq-bsbo fjmbofxi zfqv xka jbqolmlifp. fq txp cfopq zxiiba qeb bqbokxi zfqv (ixqfk: royp xbqbokx; fqxifxk: ix zfqqc bqbokx) yv qeb oljxk mlbq qfyriirp fk qeb 1pq zbkqrov yz, xka qeb bumobppflk txp xipl qxhbk rm yv lsfa, sfodfi, xka ifsv. oljb fp xipl zxiiba zxmrq jrkaf (zxmfqxi lc qeb tloia).\n",
      "xcqbo qeb cxii lc qeb bjmfob fk qeb tbpq, tefze jxohba qeb ybdfkkfkd lc qeb jfaaib xdbp, oljb piltiv cbii rkabo qeb mlifqfzxi zlkqoli lc qeb mxmxzv, xka fk qeb 8qe zbkqrov, fq ybzxjb qeb zxmfqxi lc qeb mxmxi pqxqbp, tefze ixpqba rkqfi 1870. ybdfkkfkd tfqe qeb obkxfppxkzb, xijlpq xii mlmbp pfkzb kfzelixp s (1447–1455) mroprba x zlebobkq xozefqbzqroxi xka royxk moldoxjjb lsbo clro erkaoba vbxop, xfjba xq jxhfkd qeb zfqv qeb xoqfpqfz xka zriqroxi zbkqob lc qeb tloia. fk qefp txv, oljb cfopq ybzxjb lkb lc qeb jxglo zbkqobp lc qeb obkxfppxkzb xka qebk ybzxjb qeb yfoqemixzb lc ylqe qeb yxolnrb pqvib xka kblzixppfzfpj. cxjlrp xoqfpqp, mxfkqbop, pzrimqlop, xka xozefqbzqp jxab oljb qeb zbkqob lc qebfo xzqfsfqv, zobxqfkd jxpqbomfbzbp qeolrdelrq qeb zfqv. fk 1871, oljb ybzxjb qeb zxmfqxi lc qeb hfkdalj lc fqxiv, tefze, fk 1946, ybzxjb qeb fqxifxk obmryifz.\n",
      "fk 2019, oljb txp qeb 14qe jlpq sfpfqba zfqv fk qeb tloia, tfqe 8.6 jfiiflk qlrofpqp, qeb qefoa jlpq sfpfqba zfqv fk qeb brolmbxk rkflk, xka qeb jlpq mlmrixo qlrofpq abpqfkxqflk fk fqxiv. fqp efpqlofz zbkqob fp ifpqba yv rkbpzl xp x tloia ebofqxdb pfqb. qeb elpq zfqv clo qeb 1960 prjjbo livjmfzp, oljb fp xipl qeb pbxq lc pbsboxi pmbzfxifpba xdbkzfbp lc qeb rkfqba kxqflkp, prze xp qeb clla xka xdofzriqrob lodxkfwxqflk (cxl), qeb tloia clla moldoxjjb (tcm), qeb fkqbokxqflkxi crka clo xdofzriqroxi absbilmjbkq (fcxa) xka qeb rk pvpqbj kbqtloh lk oroxi absbilmjbkq xka clla pbzrofqv. qeb zfqv xipl elpqp qeb brolmbxk rkflk (br) abibdxqflk ql qeb rkfqba kxqflkp (rk) xka qeb pbzobqxofxq lc qeb mxoifxjbkqxov xppbjyiv lc qeb rkflk clo qeb jbafqbooxkbxk (rcj) xp tbii xp qeb ebxanrxoqbop lc pbsboxi fqxifxk jriqfkxqflkxi zljmxkfbp, prze xp bkf, bkbi, qfj, iblkxoal, xka yxkhp prze xp yki. krjbolrp zljmxkfbp xob yxpba tfqefk oljb'p bro yrpfkbpp afpqofzq, prze xp qeb irurov cxpeflk elrpb cbkaf ilzxqba fk qeb mxixwwl abiix zfsfiqc fqxifxkx. qeb mobpbkzb lc obkltkba fkqbokxqflkxi yoxkap fk qeb zfqv exp jxab oljb xk fjmloqxkq zbkqob lc cxpeflk xka abpfdk, xka qeb zfkbzfqqc pqraflp exsb ybbk qeb pbq lc jxkv xzxabjv xtxoa–tfkkfkd jlsfbp.\n",
      "\n",
      "Shift 22: nkia (epwhewj wjz hwpej: nkiw, lnkjkqjyaz [vnkdiw] ) eo pda ywlepwh yepu kb epwhu. ep eo whok pda ywlepwh kb pda hwvek nacekj, pda yajpna kb pda iapnklkhepwj yepu kb nkia ywlepwh, wjz w olayewh ykiqja (iqjeyelwhepu) jwiaz ykiqja ze nkiw ywlepwha. sepd 2,860,009 naoezajpo ej 1,285 gi2 (496.1 om ie), nkia eo pda ykqjpnu'o ikop lklqhwpaz ykiqja wjz pda pdenz ikop lklqhkqo yepu ej pda aqnklawj qjekj xu lklqhwpekj sepdej yepu heiepo. pda iapnklkhepwj yepu kb nkia, sepd w lklqhwpekj kb 4,355,725 naoezajpo, eo pda ikop lklqhkqo iapnklkhepwj yepu ej epwhu. epo iapnklkhepwj wnaw eo pda pdenz-ikop lklqhkqo sepdej epwhu. nkia eo hkywpaz ej pda yajpnwh-saopanj lknpekj kb pda epwhewj lajejoqhw, sepdej hwvek (hwpeqi), whkjc pda odknao kb pda pexan rwhhau. rwpeywj yepu (pda oiwhhaop ykqjpnu ej pda sknhz wjz dawzmqwnpano kb pda sknhzseza ywpdkhey ydqnyd qjzan pda ckranjwjya kb pda dkhu oaa) eo wj ejzalajzajp ykqjpnu ejoeza pda yepu xkqjzwneao kb nkia, pda kjhu ateopejc atwilha kb w ykqjpnu sepdej w yepu. nkia eo kbpaj nabannaz pk wo pda yepu kb oaraj dehho zqa pk epo cakcnwldey hkywpekj, wjz whok wo pda \"apanjwh yepu\". nkia eo cajanwhhu ykjoezanaz pk xa pda ynwzha kb saopanj yerehevwpekj wjz saopanj ydneopewj yqhpqna, wjz pda yajpna kb pda ywpdkhey ydqnyd.\n",
      "nkia'o deopknu olwjo 28 yajpqneao. sdeha nkiwj iupdkhkcu zwpao pda bkqjzejc kb nkia wp wnkqjz 753 xy, pda oepa dwo xaaj ejdwxepaz bkn iqyd hkjcan, iwgejc ep w iwfkn dqiwj oapphaiajp bkn kran pdnaa iehhajjew wjz kja kb pda khzaop ykjpejqkqohu kyyqleaz yepeao ej aqnkla. pda yepu'o awnhu lklqhwpekj knecejwpaz bnki w iet kb hwpejo, apnqoywjo, wjz owxejao. arajpqwhhu, pda yepu oqyyaooerahu xaywia pda ywlepwh kb pda nkiwj gejczki, pda nkiwj nalqxhey wjz pda nkiwj ailena, wjz eo nacwnzaz xu iwju wo pda benop-aran eilanewh yepu wjz iapnklkheo. ep swo benop ywhhaz pda apanjwh yepu (hwpej: qnxo wapanjw; epwhewj: hw yeppb apanjw) xu pda nkiwj lkap pexqhhqo ej pda 1op yajpqnu xy, wjz pda atlnaooekj swo whok pwgaj ql xu krez, renceh, wjz heru. nkia eo whok ywhhaz ywlqp iqjze (ywlepwh kb pda sknhz).\n",
      "wbpan pda bwhh kb pda ailena ej pda saop, sdeyd iwngaz pda xacejjejc kb pda iezzha wcao, nkia ohkshu bahh qjzan pda lkhepeywh ykjpnkh kb pda lwlwyu, wjz ej pda 8pd yajpqnu, ep xaywia pda ywlepwh kb pda lwlwh opwpao, sdeyd hwopaz qjpeh 1870. xacejjejc sepd pda najweoowjya, whikop whh lklao oejya jeydkhwo r (1447–1455) lqnoqaz w ykdanajp wnydepaypqnwh wjz qnxwj lnkcnwiia kran bkqn dqjznaz uawno, weiaz wp iwgejc pda yepu pda wnpeopey wjz yqhpqnwh yajpna kb pda sknhz. ej pdeo swu, nkia benop xaywia kja kb pda iwfkn yajpnao kb pda najweoowjya wjz pdaj xaywia pda xenpdlhwya kb xkpd pda xwnkmqa opuha wjz jakyhwooeyeoi. bwikqo wnpeopo, lwejpano, oyqhlpkno, wjz wnydepaypo iwza nkia pda yajpna kb pdaen wyperepu, ynawpejc iwopanleayao pdnkqcdkqp pda yepu. ej 1871, nkia xaywia pda ywlepwh kb pda gejczki kb epwhu, sdeyd, ej 1946, xaywia pda epwhewj nalqxhey.\n",
      "ej 2019, nkia swo pda 14pd ikop reoepaz yepu ej pda sknhz, sepd 8.6 iehhekj pkqneopo, pda pdenz ikop reoepaz yepu ej pda aqnklawj qjekj, wjz pda ikop lklqhwn pkqneop zaopejwpekj ej epwhu. epo deopkney yajpna eo heopaz xu qjaoyk wo w sknhz danepwca oepa. pda dkop yepu bkn pda 1960 oqiian khuileyo, nkia eo whok pda oawp kb oaranwh olayewheoaz wcajyeao kb pda qjepaz jwpekjo, oqyd wo pda bkkz wjz wcneyqhpqna kncwjevwpekj (bwk), pda sknhz bkkz lnkcnwiia (sbl), pda ejpanjwpekjwh bqjz bkn wcneyqhpqnwh zarahkliajp (ebwz) wjz pda qj ouopai japskng kj nqnwh zarahkliajp wjz bkkz oayqnepu. pda yepu whok dkopo pda aqnklawj qjekj (aq) zahacwpekj pk pda qjepaz jwpekjo (qj) wjz pda oaynapwnewp kb pda lwnhewiajpwnu wooaixhu kb pda qjekj bkn pda iazepannwjawj (qbi) wo sahh wo pda dawzmqwnpano kb oaranwh epwhewj iqhpejwpekjwh ykilwjeao, oqyd wo aje, ajah, pei, hakjwnzk, wjz xwjgo oqyd wo xjh. jqiankqo ykilwjeao wna xwoaz sepdej nkia'o aqn xqoejaoo zeopneyp, oqyd wo pda hqtqnu bwodekj dkqoa bajze hkywpaz ej pda lwhwvvk zahhw yerehpb epwhewjw. pda lnaoajya kb najksjaz ejpanjwpekjwh xnwjzo ej pda yepu dwo iwza nkia wj eilknpwjp yajpna kb bwodekj wjz zaoecj, wjz pda yejayeppb opqzeko dwra xaaj pda oap kb iwju wywzaiu wswnz–sejjejc ikreao.\n",
      "\n",
      "Shift 23: mjhz (dovgdvi viy gvodi: mjhv, kmjijpixzy [umjchv] ) dn ocz xvkdovg xdot ja dovgt. do dn vgnj ocz xvkdovg ja ocz gvudj mzbdji, ocz xziomz ja ocz hzomjkjgdovi xdot ja mjhz xvkdovg, viy v nkzxdvg xjhpiz (hpidxdkvgdot) ivhzy xjhpiz yd mjhv xvkdovgz. rdoc 2,860,009 mzndyzion di 1,285 fh2 (496.1 nl hd), mjhz dn ocz xjpiomt'n hjno kjkpgvozy xjhpiz viy ocz ocdmy hjno kjkpgjpn xdot di ocz zpmjkzvi pidji wt kjkpgvodji rdocdi xdot gdhdon. ocz hzomjkjgdovi xdot ja mjhz, rdoc v kjkpgvodji ja 4,355,725 mzndyzion, dn ocz hjno kjkpgjpn hzomjkjgdovi xdot di dovgt. don hzomjkjgdovi vmzv dn ocz ocdmy-hjno kjkpgjpn rdocdi dovgt. mjhz dn gjxvozy di ocz xziomvg-rznozmi kjmodji ja ocz dovgdvi kzidinpgv, rdocdi gvudj (gvodph), vgjib ocz ncjmzn ja ocz odwzm qvggzt. qvodxvi xdot (ocz nhvggzno xjpiomt di ocz rjmgy viy czvylpvmozmn ja ocz rjmgyrdyz xvocjgdx xcpmxc piyzm ocz bjqzmivixz ja ocz cjgt nzz) dn vi diyzkziyzio xjpiomt dindyz ocz xdot wjpiyvmdzn ja mjhz, ocz jigt zsdnodib zsvhkgz ja v xjpiomt rdocdi v xdot. mjhz dn jaozi mzazmmzy oj vn ocz xdot ja nzqzi cdggn ypz oj don bzjbmvkcdx gjxvodji, viy vgnj vn ocz \"zozmivg xdot\". mjhz dn bzizmvggt xjindyzmzy oj wz ocz xmvygz ja rznozmi xdqdgduvodji viy rznozmi xcmdnodvi xpgopmz, viy ocz xziomz ja ocz xvocjgdx xcpmxc.\n",
      "mjhz'n cdnojmt nkvin 28 xziopmdzn. rcdgz mjhvi htocjgjbt yvozn ocz ajpiydib ja mjhz vo vmjpiy 753 wx, ocz ndoz cvn wzzi dicvwdozy ajm hpxc gjibzm, hvfdib do v hvejm cphvi nzoogzhzio ajm jqzm ocmzz hdggziidv viy jiz ja ocz jgyzno xjiodipjpngt jxxpkdzy xdodzn di zpmjkz. ocz xdot'n zvmgt kjkpgvodji jmdbdivozy amjh v hds ja gvodin, zompnxvin, viy nvwdizn. zqziopvggt, ocz xdot npxxznndqzgt wzxvhz ocz xvkdovg ja ocz mjhvi fdibyjh, ocz mjhvi mzkpwgdx viy ocz mjhvi zhkdmz, viy dn mzbvmyzy wt hvit vn ocz admno-zqzm dhkzmdvg xdot viy hzomjkjgdn. do rvn admno xvggzy ocz zozmivg xdot (gvodi: pmwn vzozmiv; dovgdvi: gv xdooa zozmiv) wt ocz mjhvi kjzo odwpggpn di ocz 1no xziopmt wx, viy ocz zskmznndji rvn vgnj ovfzi pk wt jqdy, qdmbdg, viy gdqt. mjhz dn vgnj xvggzy xvkpo hpiyd (xvkdovg ja ocz rjmgy).\n",
      "vaozm ocz avgg ja ocz zhkdmz di ocz rzno, rcdxc hvmfzy ocz wzbdiidib ja ocz hdyygz vbzn, mjhz ngjrgt azgg piyzm ocz kjgdodxvg xjiomjg ja ocz kvkvxt, viy di ocz 8oc xziopmt, do wzxvhz ocz xvkdovg ja ocz kvkvg novozn, rcdxc gvnozy piodg 1870. wzbdiidib rdoc ocz mzivdnnvixz, vghjno vgg kjkzn ndixz idxcjgvn q (1447–1455) kpmnpzy v xjczmzio vmxcdozxopmvg viy pmwvi kmjbmvhhz jqzm ajpm cpiymzy tzvmn, vdhzy vo hvfdib ocz xdot ocz vmodnodx viy xpgopmvg xziomz ja ocz rjmgy. di ocdn rvt, mjhz admno wzxvhz jiz ja ocz hvejm xziomzn ja ocz mzivdnnvixz viy oczi wzxvhz ocz wdmockgvxz ja wjoc ocz wvmjlpz notgz viy izjxgvnndxdnh. avhjpn vmodnon, kvdiozmn, nxpgkojmn, viy vmxcdozxon hvyz mjhz ocz xziomz ja oczdm vxodqdot, xmzvodib hvnozmkdzxzn ocmjpbcjpo ocz xdot. di 1871, mjhz wzxvhz ocz xvkdovg ja ocz fdibyjh ja dovgt, rcdxc, di 1946, wzxvhz ocz dovgdvi mzkpwgdx.\n",
      "di 2019, mjhz rvn ocz 14oc hjno qdndozy xdot di ocz rjmgy, rdoc 8.6 hdggdji ojpmdnon, ocz ocdmy hjno qdndozy xdot di ocz zpmjkzvi pidji, viy ocz hjno kjkpgvm ojpmdno yznodivodji di dovgt. don cdnojmdx xziomz dn gdnozy wt piznxj vn v rjmgy czmdovbz ndoz. ocz cjno xdot ajm ocz 1960 nphhzm jgthkdxn, mjhz dn vgnj ocz nzvo ja nzqzmvg nkzxdvgdnzy vbzixdzn ja ocz pidozy ivodjin, npxc vn ocz ajjy viy vbmdxpgopmz jmbviduvodji (avj), ocz rjmgy ajjy kmjbmvhhz (rak), ocz diozmivodjivg apiy ajm vbmdxpgopmvg yzqzgjkhzio (davy) viy ocz pi ntnozh izorjmf ji mpmvg yzqzgjkhzio viy ajjy nzxpmdot. ocz xdot vgnj cjnon ocz zpmjkzvi pidji (zp) yzgzbvodji oj ocz pidozy ivodjin (pi) viy ocz nzxmzovmdvo ja ocz kvmgdvhziovmt vnnzhwgt ja ocz pidji ajm ocz hzydozmmvizvi (pah) vn rzgg vn ocz czvylpvmozmn ja nzqzmvg dovgdvi hpgodivodjivg xjhkvidzn, npxc vn zid, zizg, odh, gzjivmyj, viy wvifn npxc vn wig. iphzmjpn xjhkvidzn vmz wvnzy rdocdi mjhz'n zpm wpndiznn ydnomdxo, npxc vn ocz gpspmt avncdji cjpnz aziyd gjxvozy di ocz kvgvuuj yzggv xdqdgoa dovgdviv. ocz kmznzixz ja mzijrizy diozmivodjivg wmviyn di ocz xdot cvn hvyz mjhz vi dhkjmovio xziomz ja avncdji viy yzndbi, viy ocz xdizxdooa nopydjn cvqz wzzi ocz nzo ja hvit vxvyzht vrvmy–rdiidib hjqdzn.\n",
      "\n",
      "Shift 24: ligy (cnufcuh uhx funch: ligu, jlihiohwyx [tlibgu] ) cm nby wujcnuf wcns iz cnufs. cn cm ufmi nby wujcnuf iz nby futci lyacih, nby wyhnly iz nby gynlijifcnuh wcns iz ligy wujcnuf, uhx u mjywcuf wigohy (gohcwcjufcns) hugyx wigohy xc ligu wujcnufy. qcnb 2,860,009 lymcxyhnm ch 1,285 eg2 (496.1 mk gc), ligy cm nby wiohnls'm gimn jijofunyx wigohy uhx nby nbclx gimn jijofiom wcns ch nby yolijyuh ohcih vs jijofuncih qcnbch wcns fcgcnm. nby gynlijifcnuh wcns iz ligy, qcnb u jijofuncih iz 4,355,725 lymcxyhnm, cm nby gimn jijofiom gynlijifcnuh wcns ch cnufs. cnm gynlijifcnuh ulyu cm nby nbclx-gimn jijofiom qcnbch cnufs. ligy cm fiwunyx ch nby wyhnluf-qymnylh jilncih iz nby cnufcuh jyhchmofu, qcnbch futci (funcog), ufiha nby mbilym iz nby ncvyl puffys. puncwuh wcns (nby mguffymn wiohnls ch nby qilfx uhx byuxkoulnylm iz nby qilfxqcxy wunbifcw wbolwb ohxyl nby aipylhuhwy iz nby bifs myy) cm uh chxyjyhxyhn wiohnls chmcxy nby wcns viohxulcym iz ligy, nby ihfs yrcmncha yrugjfy iz u wiohnls qcnbch u wcns. ligy cm iznyh lyzyllyx ni um nby wcns iz mypyh bcffm xoy ni cnm ayialujbcw fiwuncih, uhx ufmi um nby \"ynylhuf wcns\". ligy cm ayhyluffs wihmcxylyx ni vy nby wluxfy iz qymnylh wcpcfctuncih uhx qymnylh wblcmncuh wofnoly, uhx nby wyhnly iz nby wunbifcw wbolwb.\n",
      "ligy'm bcmnils mjuhm 28 wyhnolcym. qbcfy liguh gsnbifias xunym nby ziohxcha iz ligy un uliohx 753 vw, nby mcny bum vyyh chbuvcnyx zil gowb fihayl, guecha cn u gudil boguh mynnfygyhn zil ipyl nblyy gcffyhhcu uhx ihy iz nby ifxymn wihnchoiomfs iwwojcyx wcncym ch yolijy. nby wcns'm yulfs jijofuncih ilcachunyx zlig u gcr iz funchm, ynlomwuhm, uhx muvchym. ypyhnouffs, nby wcns mowwymmcpyfs vywugy nby wujcnuf iz nby liguh echaxig, nby liguh lyjovfcw uhx nby liguh ygjcly, uhx cm lyaulxyx vs guhs um nby zclmn-ypyl cgjylcuf wcns uhx gynlijifcm. cn qum zclmn wuffyx nby ynylhuf wcns (funch: olvm uynylhu; cnufcuh: fu wcnnz ynylhu) vs nby liguh jiyn ncvoffom ch nby 1mn wyhnols vw, uhx nby yrjlymmcih qum ufmi nueyh oj vs ipcx, pclacf, uhx fcps. ligy cm ufmi wuffyx wujon gohxc (wujcnuf iz nby qilfx).\n",
      "uznyl nby zuff iz nby ygjcly ch nby qymn, qbcwb guleyx nby vyachhcha iz nby gcxxfy uaym, ligy mfiqfs zyff ohxyl nby jifcncwuf wihnlif iz nby jujuws, uhx ch nby 8nb wyhnols, cn vywugy nby wujcnuf iz nby jujuf mnunym, qbcwb fumnyx ohncf 1870. vyachhcha qcnb nby lyhucmmuhwy, ufgimn uff jijym mchwy hcwbifum p (1447–1455) jolmoyx u wibylyhn ulwbcnywnoluf uhx olvuh jlialuggy ipyl ziol bohxlyx syulm, ucgyx un guecha nby wcns nby ulncmncw uhx wofnoluf wyhnly iz nby qilfx. ch nbcm qus, ligy zclmn vywugy ihy iz nby gudil wyhnlym iz nby lyhucmmuhwy uhx nbyh vywugy nby vclnbjfuwy iz vinb nby vulikoy mnsfy uhx hyiwfummcwcmg. zugiom ulncmnm, juchnylm, mwofjnilm, uhx ulwbcnywnm guxy ligy nby wyhnly iz nbycl uwncpcns, wlyuncha gumnyljcywym nblioabion nby wcns. ch 1871, ligy vywugy nby wujcnuf iz nby echaxig iz cnufs, qbcwb, ch 1946, vywugy nby cnufcuh lyjovfcw.\n",
      "ch 2019, ligy qum nby 14nb gimn pcmcnyx wcns ch nby qilfx, qcnb 8.6 gcffcih niolcmnm, nby nbclx gimn pcmcnyx wcns ch nby yolijyuh ohcih, uhx nby gimn jijoful niolcmn xymnchuncih ch cnufs. cnm bcmnilcw wyhnly cm fcmnyx vs ohymwi um u qilfx bylcnuay mcny. nby bimn wcns zil nby 1960 moggyl ifsgjcwm, ligy cm ufmi nby myun iz mypyluf mjywcufcmyx uayhwcym iz nby ohcnyx huncihm, mowb um nby ziix uhx ualcwofnoly ilauhctuncih (zui), nby qilfx ziix jlialuggy (qzj), nby chnylhuncihuf zohx zil ualcwofnoluf xypyfijgyhn (czux) uhx nby oh msmnyg hynqile ih loluf xypyfijgyhn uhx ziix mywolcns. nby wcns ufmi bimnm nby yolijyuh ohcih (yo) xyfyauncih ni nby ohcnyx huncihm (oh) uhx nby mywlynulcun iz nby julfcugyhnuls ummygvfs iz nby ohcih zil nby gyxcnylluhyuh (ozg) um qyff um nby byuxkoulnylm iz mypyluf cnufcuh gofnchuncihuf wigjuhcym, mowb um yhc, yhyf, ncg, fyihulxi, uhx vuhem mowb um vhf. hogyliom wigjuhcym uly vumyx qcnbch ligy'm yol vomchymm xcmnlcwn, mowb um nby forols zumbcih biomy zyhxc fiwunyx ch nby jufutti xyffu wcpcfnz cnufcuhu. nby jlymyhwy iz lyhiqhyx chnylhuncihuf vluhxm ch nby wcns bum guxy ligy uh cgjilnuhn wyhnly iz zumbcih uhx xymcah, uhx nby wchywcnnz mnoxcim bupy vyyh nby myn iz guhs uwuxygs uqulx–qchhcha gipcym.\n",
      "\n",
      "Shift 25: khfx (bmtebtg tgw etmbg: khft, ikhghngvxw [skhaft] ) bl max vtibmte vbmr hy bmter. bm bl telh max vtibmte hy max etsbh kxzbhg, max vxgmkx hy max fxmkhihebmtg vbmr hy khfx vtibmte, tgw t lixvbte vhfngx (fngbvbitebmr) gtfxw vhfngx wb khft vtibmtex. pbma 2,860,009 kxlbwxgml bg 1,285 df2 (496.1 lj fb), khfx bl max vhngmkr'l fhlm ihinetmxw vhfngx tgw max mabkw fhlm ihinehnl vbmr bg max xnkhixtg ngbhg ur ihinetmbhg pbmabg vbmr ebfbml. max fxmkhihebmtg vbmr hy khfx, pbma t ihinetmbhg hy 4,355,725 kxlbwxgml, bl max fhlm ihinehnl fxmkhihebmtg vbmr bg bmter. bml fxmkhihebmtg tkxt bl max mabkw-fhlm ihinehnl pbmabg bmter. khfx bl ehvtmxw bg max vxgmkte-pxlmxkg ihkmbhg hy max bmtebtg ixgbglnet, pbmabg etsbh (etmbnf), tehgz max lahkxl hy max mbuxk oteexr. otmbvtg vbmr (max lfteexlm vhngmkr bg max phkew tgw axtwjntkmxkl hy max phkewpbwx vtmahebv vankva ngwxk max zhoxkgtgvx hy max aher lxx) bl tg bgwxixgwxgm vhngmkr bglbwx max vbmr uhngwtkbxl hy khfx, max hger xqblmbgz xqtfiex hy t vhngmkr pbmabg t vbmr. khfx bl hymxg kxyxkkxw mh tl max vbmr hy lxoxg abeel wnx mh bml zxhzktiabv ehvtmbhg, tgw telh tl max \"xmxkgte vbmr\". khfx bl zxgxkteer vhglbwxkxw mh ux max vktwex hy pxlmxkg vbobebstmbhg tgw pxlmxkg vakblmbtg vnemnkx, tgw max vxgmkx hy max vtmahebv vankva.\n",
      "khfx'l ablmhkr litgl 28 vxgmnkbxl. pabex khftg frmahehzr wtmxl max yhngwbgz hy khfx tm tkhngw 753 uv, max lbmx atl uxxg bgatubmxw yhk fnva ehgzxk, ftdbgz bm t ftchk anftg lxmmexfxgm yhk hoxk makxx fbeexggbt tgw hgx hy max hewxlm vhgmbgnhnler hvvnibxw vbmbxl bg xnkhix. max vbmr'l xtker ihinetmbhg hkbzbgtmxw ykhf t fbq hy etmbgl, xmknlvtgl, tgw ltubgxl. xoxgmnteer, max vbmr lnvvxllboxer uxvtfx max vtibmte hy max khftg dbgzwhf, max khftg kxinuebv tgw max khftg xfibkx, tgw bl kxztkwxw ur ftgr tl max ybklm-xoxk bfixkbte vbmr tgw fxmkhihebl. bm ptl ybklm vteexw max xmxkgte vbmr (etmbg: nkul txmxkgt; bmtebtg: et vbmmy xmxkgt) ur max khftg ihxm mbuneenl bg max 1lm vxgmnkr uv, tgw max xqikxllbhg ptl telh mtdxg ni ur hobw, obkzbe, tgw ebor. khfx bl telh vteexw vtinm fngwb (vtibmte hy max phkew).\n",
      "tymxk max ytee hy max xfibkx bg max pxlm, pabva ftkdxw max uxzbggbgz hy max fbwwex tzxl, khfx lehper yxee ngwxk max ihebmbvte vhgmkhe hy max ititvr, tgw bg max 8ma vxgmnkr, bm uxvtfx max vtibmte hy max itite lmtmxl, pabva etlmxw ngmbe 1870. uxzbggbgz pbma max kxgtblltgvx, tefhlm tee ihixl lbgvx gbvahetl o (1447–1455) inklnxw t vhaxkxgm tkvabmxvmnkte tgw nkutg ikhzktffx hoxk yhnk angwkxw rxtkl, tbfxw tm ftdbgz max vbmr max tkmblmbv tgw vnemnkte vxgmkx hy max phkew. bg mabl ptr, khfx ybklm uxvtfx hgx hy max ftchk vxgmkxl hy max kxgtblltgvx tgw maxg uxvtfx max ubkmaietvx hy uhma max utkhjnx lmrex tgw gxhvetllbvblf. ytfhnl tkmblml, itbgmxkl, lvneimhkl, tgw tkvabmxvml ftwx khfx max vxgmkx hy maxbk tvmbobmr, vkxtmbgz ftlmxkibxvxl makhnzahnm max vbmr. bg 1871, khfx uxvtfx max vtibmte hy max dbgzwhf hy bmter, pabva, bg 1946, uxvtfx max bmtebtg kxinuebv.\n",
      "bg 2019, khfx ptl max 14ma fhlm oblbmxw vbmr bg max phkew, pbma 8.6 fbeebhg mhnkblml, max mabkw fhlm oblbmxw vbmr bg max xnkhixtg ngbhg, tgw max fhlm ihinetk mhnkblm wxlmbgtmbhg bg bmter. bml ablmhkbv vxgmkx bl eblmxw ur ngxlvh tl t phkew axkbmtzx lbmx. max ahlm vbmr yhk max 1960 lnffxk herfibvl, khfx bl telh max lxtm hy lxoxkte lixvbteblxw tzxgvbxl hy max ngbmxw gtmbhgl, lnva tl max yhhw tgw tzkbvnemnkx hkztgbstmbhg (yth), max phkew yhhw ikhzktffx (pyi), max bgmxkgtmbhgte yngw yhk tzkbvnemnkte wxoxehifxgm (bytw) tgw max ng lrlmxf gxmphkd hg knkte wxoxehifxgm tgw yhhw lxvnkbmr. max vbmr telh ahlml max xnkhixtg ngbhg (xn) wxexztmbhg mh max ngbmxw gtmbhgl (ng) tgw max lxvkxmtkbtm hy max itkebtfxgmtkr tllxfuer hy max ngbhg yhk max fxwbmxkktgxtg (nyf) tl pxee tl max axtwjntkmxkl hy lxoxkte bmtebtg fnembgtmbhgte vhfitgbxl, lnva tl xgb, xgxe, mbf, exhgtkwh, tgw utgdl lnva tl uge. gnfxkhnl vhfitgbxl tkx utlxw pbmabg khfx'l xnk unlbgxll wblmkbvm, lnva tl max enqnkr ytlabhg ahnlx yxgwb ehvtmxw bg max itetssh wxeet vbobemy bmtebtgt. max ikxlxgvx hy kxghpgxw bgmxkgtmbhgte uktgwl bg max vbmr atl ftwx khfx tg bfihkmtgm vxgmkx hy ytlabhg tgw wxlbzg, tgw max vbgxvbmmy lmnwbhl atox uxxg max lxm hy ftgr tvtwxfr tptkw–pbggbgz fhobxl.\n",
      "\n"
     ]
    }
   ],
   "source": [
    "# code here the procedure that allows you to infer the shift value\n",
    "\n",
    "def caesar_decrypt(ciphertext, shift):\n",
    "    decrypted_text = \"\"\n",
    "    for char in ciphertext:\n",
    "        if char.isalpha():\n",
    "            shift_base = ord('A') if char.isupper() else ord('a')\n",
    "            decrypted_text += chr((ord(char) - shift_base - shift) % 26 + shift_base)\n",
    "        else:\n",
    "            decrypted_text += char  \n",
    "    return decrypted_text\n",
    "\n",
    "for shift in range(1, 26):\n",
    "    print(f\"Shift {shift}: {caesar_decrypt(txt, shift)}\\n\")\n"
   ]
  },
  {
   "cell_type": "code",
   "execution_count": 63,
   "id": "aeeb5386-91a3-405a-81c8-7a106a44f12c",
   "metadata": {},
   "outputs": [
    {
     "name": "stdout",
     "output_type": "stream",
     "text": [
      "Decrypted Message: \n",
      "rome (italian and latin: roma, pronounced [zrohma] ) is the capital city of italy. it is also the capital of the lazio region, the centre of the metropolitan city of rome capital, and a special comune (municipality) named comune di roma capitale. with 2,860,009 residents in 1,285 km2 (496.1 sq mi), rome is the country's most populated comune and the third most populous city in the european union by population within city limits. the metropolitan city of rome, with a population of 4,355,725 residents, is the most populous metropolitan city in italy. its metropolitan area is the third-most populous within italy. rome is located in the central-western portion of the italian peninsula, within lazio (latium), along the shores of the tiber valley. vatican city (the smallest country in the world and headquarters of the worldwide catholic church under the governance of the holy see) is an independent country inside the city boundaries of rome, the only existing example of a country within a city. rome is often referred to as the city of seven hills due to its geographic location, and also as the \"eternal city\". rome is generally considered to be the cradle of western civilization and western christian culture, and the centre of the catholic church.\n",
      "rome's history spans 28 centuries. while roman mythology dates the founding of rome at around 753 bc, the site has been inhabited for much longer, making it a major human settlement for over three millennia and one of the oldest continuously occupied cities in europe. the city's early population originated from a mix of latins, etruscans, and sabines. eventually, the city successively became the capital of the roman kingdom, the roman republic and the roman empire, and is regarded by many as the first-ever imperial city and metropolis. it was first called the eternal city (latin: urbs aeterna; italian: la cittf eterna) by the roman poet tibullus in the 1st century bc, and the expression was also taken up by ovid, virgil, and livy. rome is also called caput mundi (capital of the world).\n",
      "after the fall of the empire in the west, which marked the beginning of the middle ages, rome slowly fell under the political control of the papacy, and in the 8th century, it became the capital of the papal states, which lasted until 1870. beginning with the renaissance, almost all popes since nicholas v (1447–1455) pursued a coherent architectural and urban programme over four hundred years, aimed at making the city the artistic and cultural centre of the world. in this way, rome first became one of the major centres of the renaissance and then became the birthplace of both the baroque style and neoclassicism. famous artists, painters, sculptors, and architects made rome the centre of their activity, creating masterpieces throughout the city. in 1871, rome became the capital of the kingdom of italy, which, in 1946, became the italian republic.\n",
      "in 2019, rome was the 14th most visited city in the world, with 8.6 million tourists, the third most visited city in the european union, and the most popular tourist destination in italy. its historic centre is listed by unesco as a world heritage site. the host city for the 1960 summer olympics, rome is also the seat of several specialised agencies of the united nations, such as the food and agriculture organization (fao), the world food programme (wfp), the international fund for agricultural development (ifad) and the un system network on rural development and food security. the city also hosts the european union (eu) delegation to the united nations (un) and the secretariat of the parliamentary assembly of the union for the mediterranean (ufm) as well as the headquarters of several italian multinational companies, such as eni, enel, tim, leonardo, and banks such as bnl. numerous companies are based within rome's eur business district, such as the luxury fashion house fendi located in the palazzo della civiltf italiana. the presence of renowned international brands in the city has made rome an important centre of fashion and design, and the cinecittf studios have been the set of many academy award–winning movies.\n"
     ]
    }
   ],
   "source": [
    "# select the right shift and print the decrypted ciphertext\n",
    "\n",
    "correct_shift =18\n",
    "\n",
    "decrypted_message = caesar_decrypt(txt, correct_shift)\n",
    "print(f\"Decrypted Message: \\n{decrypted_message}\")\n"
   ]
  },
  {
   "cell_type": "markdown",
   "id": "9503d65c",
   "metadata": {},
   "source": [
    "## Simple Substitution Cipher"
   ]
  },
  {
   "cell_type": "markdown",
   "id": "1142538f-3869-4cde-b822-e75b386169ad",
   "metadata": {},
   "source": [
    "Brief explanation of a Simple Substitution Cipher  \n",
    "  \n",
    "A **Simple Substituion cipher** are the one in which the plaintext character is replaced with a different cipher text symbol or by some shift value. The receivers deciphers the text by performing the inverse substituion.  \n",
    "\n",
    "**Examples:**  \n",
    "1. **Caesar Cipher** – Shifts letters by a fixed amount (e.g., A → D for shift 3).  \n",
    "2. **Atbash Cipher** – Reverses the alphabet (e.g., A → Z, B → Y).  \n",
    "\n",
    "**Weaknesses:**  \n",
    "- **Brute force attacks** (especially for Caesar, only 25 shifts).  \n",
    "- **Frequency analysis** reveals patterns since letter frequencies remain unchanged.  "
   ]
  },
  {
   "cell_type": "markdown",
   "id": "1b6cc83d-e26d-49cc-8475-0789d2425df0",
   "metadata": {},
   "source": [
    "### Encryption"
   ]
  },
  {
   "cell_type": "code",
   "execution_count": 64,
   "id": "dd72620a-d955-4fba-872f-ebcd005d484d",
   "metadata": {},
   "outputs": [],
   "source": [
    "def substitution_encrypt(plaintext, mapping):\n",
    "    ''' Encrypt `ciphertext` (str) as a simple substitution cipher with a given \n",
    "        `mapping` (??) from plaintext letters to ciphertext letters '''\n",
    "    # code here\n",
    "    ciphertext = ''\n",
    "    for char in plaintext:\n",
    "        if char in mapping:\n",
    "            ciphertext += mapping[char]\n",
    "        else:\n",
    "            ciphertext += char\n",
    "    return ciphertext"
   ]
  },
  {
   "cell_type": "code",
   "execution_count": 65,
   "id": "177d186b-bc0a-4dca-a1b4-b1244cfb7bb1",
   "metadata": {},
   "outputs": [
    {
     "name": "stdout",
     "output_type": "stream",
     "text": [
      "hello! -> apwwq!\n"
     ]
    }
   ],
   "source": [
    "# code snippet to test the implementation of the encryption function\n",
    "plaintext = 'hello!'\n",
    "mapping = {'h': 'a', 'e': 'p', 'l': 'w', 'o': 'q'} \n",
    "\n",
    "ciphertext = substitution_encrypt(plaintext, mapping)\n",
    "\n",
    "print(plaintext, '->', ciphertext) # expected output 'hello! -> apwwq!'"
   ]
  },
  {
   "cell_type": "markdown",
   "id": "cd574022-82e0-4163-807a-aabb6bd4b86d",
   "metadata": {},
   "source": [
    "### Decryption"
   ]
  },
  {
   "cell_type": "code",
   "execution_count": null,
   "id": "adb6fd3b",
   "metadata": {},
   "outputs": [],
   "source": [
    "def substitution_decrypt(ciphertext, mapping):\n",
    "    ''' Decrypt `ciphertext` (str) as a simple substitution cipher with a given \n",
    "       `mapping` (dict) from plaintext letters to ciphertext letters '''\n",
    "    # code here\n",
    "    reverse_mapping = {v: k for k, v in mapping.items()}\n",
    "    plaintext = ''\n",
    "    for char in ciphertext:\n",
    "        if char in reverse_mapping:\n",
    "            plaintext += reverse_mapping[char]\n",
    "        else:\n",
    "            plaintext +=char\n",
    "    return plaintext"
   ]
  },
  {
   "cell_type": "code",
   "execution_count": 67,
   "id": "33b9b1e0-9132-4147-8d14-5b036f7a0658",
   "metadata": {},
   "outputs": [
    {
     "name": "stdout",
     "output_type": "stream",
     "text": [
      "apwwq! -> hello!\n"
     ]
    }
   ],
   "source": [
    "# code snippet to test the implementation of the decryption function\n",
    "mapping = {'h': 'a', 'e': 'p', 'l': 'w', 'o': 'q'}  # previous mapping \n",
    "ciphertext = 'apwwq!'\n",
    "\n",
    "plaintext = substitution_decrypt(ciphertext, mapping)\n",
    "\n",
    "print(ciphertext, '->', plaintext)  # expected output 'apwwq! -> hello!'"
   ]
  },
  {
   "cell_type": "markdown",
   "id": "a0a843fd-8f7d-4189-8a7c-d7015d9c2897",
   "metadata": {},
   "source": [
    "### Ciphertext"
   ]
  },
  {
   "cell_type": "code",
   "execution_count": 68,
   "id": "8d8aa5ee-a119-48c0-a9e8-3b4b8a3cb034",
   "metadata": {},
   "outputs": [],
   "source": [
    "# Load ciphertext\n",
    "with open(file='ciphertext_simple.txt', encoding='utf-8') as f:\n",
    "    txt = f.read()"
   ]
  },
  {
   "cell_type": "markdown",
   "id": "17025077-c0a2-4a1c-add8-a79897c1d4a0",
   "metadata": {},
   "source": [
    "### Frequency Analysis Attack"
   ]
  },
  {
   "cell_type": "markdown",
   "id": "abda6491-1fb9-4442-b3bc-69c403bfc413",
   "metadata": {},
   "source": [
    "Describe the procedure to break a Simple Substitution Cipher  \n",
    "**Frequency Analysis Attack on a Simple Substitution Cipher**  \n",
    "1. Collect Ciphertext: Gather a long enough ciphertext for analysis.  \n",
    "2. Analyze Frequencies: Count how often each letter appears.  \n",
    "3. Compare with Language: Match ciphertext frequencies to common letter frequencies in the target language (e.g., E, T, A in English).  \n",
    "4. Guess Mappings: Assign the most frequent ciphertext letters to common plaintext letters (e.g., E, T).  \n",
    "5. Identify Patterns: Look for common words (e.g., \"the\") to confirm guesses.  \n",
    "6. Decrypt: Use the mappings to decrypt the ciphertext.  \n",
    "7. Verify: Adjust mappings if the decrypted text doesn’t make sense."
   ]
  },
  {
   "cell_type": "markdown",
   "id": "59434d7e-a0c1-4d03-8c84-a1f9c948f935",
   "metadata": {},
   "source": [
    "#### English Letters Distribution"
   ]
  },
  {
   "cell_type": "code",
   "execution_count": null,
   "id": "4e9a0d70-5652-4a5e-bb57-84ed8282b3da",
   "metadata": {},
   "outputs": [],
   "source": [
    "# function to infer the letter distribution from a text\n",
    "def letter_distribution(text):\n",
    "    ''' Return the `distribution` (??) of the letters in `text` (str) '''\n",
    "    # code here\n",
    "    text = ''.join([char.lower() for char in text if char.isalpha()])\n",
    "    total_letters =len(text)\n",
    "    distribution =  {}\n",
    "    for char in text:\n",
    "        if char in distribution:\n",
    "            distribution[char] += 1\n",
    "        else:\n",
    "            distribution[char] = 1\n",
    "    \n",
    "    for char in distribution:\n",
    "        distribution[char] = distribution[char] / total_letters\n",
    "    return distribution   "
   ]
  },
  {
   "cell_type": "code",
   "execution_count": 70,
   "id": "b7131445-b0b8-44c7-8918-9fad5cb7475a",
   "metadata": {},
   "outputs": [
    {
     "data": {
      "text/plain": [
       "{'h': 0.1, 'e': 0.1, 'l': 0.3, 'o': 0.2, 'w': 0.1, 'r': 0.1, 'd': 0.1}"
      ]
     },
     "execution_count": 70,
     "metadata": {},
     "output_type": "execute_result"
    }
   ],
   "source": [
    "# code snippet to test the implementation of `letter_distribution`\n",
    "text = 'hello world!'\n",
    "\n",
    "letter_distribution(text)\n",
    "# expected ouput: \n",
    "# {'d': 0.1, 'e': 0.1, 'h': 0.1, 'l': 0.3, 'o': 0.2, 'r': 0.1, 'w': 0.1, ...}"
   ]
  },
  {
   "cell_type": "code",
   "execution_count": 71,
   "id": "0052ab81-e261-4660-ab34-f86582601c67",
   "metadata": {},
   "outputs": [],
   "source": [
    "# load text\n",
    "# Load ciphertext\n",
    "with open(file='wikipedia_cybersecurity.txt', encoding='utf-8') as f:\n",
    "    wiki_txt = f.read()"
   ]
  },
  {
   "cell_type": "code",
   "execution_count": 72,
   "id": "eeae9160-8631-4d25-bbb9-79aac9547d23",
   "metadata": {},
   "outputs": [
    {
     "data": {
      "text/plain": [
       "{'c': 0.049220181770580095,\n",
       " 'o': 0.07128698058869731,\n",
       " 'm': 0.026729500941267408,\n",
       " 'p': 0.02296443131241351,\n",
       " 'u': 0.02767700190746905,\n",
       " 't': 0.09365299023824662,\n",
       " 'e': 0.12123025520190497,\n",
       " 'r': 0.06936704442034135,\n",
       " 's': 0.07490244480183517,\n",
       " 'i': 0.07760780940270037,\n",
       " 'y': 0.01921182880153595,\n",
       " 'a': 0.08335515078979193,\n",
       " 'l': 0.03511987133934248,\n",
       " 'b': 0.014137711785166623,\n",
       " 'd': 0.034820660507910384,\n",
       " 'g': 0.01828926207128698,\n",
       " 'n': 0.0730199099874082,\n",
       " 'f': 0.020134395531784918,\n",
       " 'h': 0.031479472890251964,\n",
       " 'w': 0.011370011594419718,\n",
       " 'k': 0.008315567690217053,\n",
       " 'z': 0.0014711199212078144,\n",
       " 'v': 0.011482215656206754,\n",
       " 'x': 0.0015957911009711885,\n",
       " 'q': 0.0006233558988168705,\n",
       " 'j': 0.0008726982583436187,\n",
       " 'ó': 3.740135392901223e-05,\n",
       " 'à': 1.246711797633741e-05,\n",
       " 'ś': 1.246711797633741e-05}"
      ]
     },
     "execution_count": 72,
     "metadata": {},
     "output_type": "execute_result"
    }
   ],
   "source": [
    "# estimate the English letters distribution \n",
    "letter_distribution(wiki_txt)"
   ]
  },
  {
   "cell_type": "code",
   "execution_count": null,
   "id": "266c71cd-20c3-4a53-9050-f380aef8eff4",
   "metadata": {},
   "outputs": [
    {
     "data": {
      "image/png": "[encoded data removed]",
      "text/plain": [
       "<Figure size 1000x600 with 1 Axes>"
      ]
     },
     "metadata": {},
     "output_type": "display_data"
    }
   ],
   "source": [
    "# plot the English letter distribution\n",
    "import matplotlib.pyplot as plt\n",
    "\n",
    "dist = letter_distribution(wiki_txt)\n",
    "letters = sorted(dist.keys())\n",
    "frequencies = [dist[letter] for letter in letters]\n",
    "\n",
    "plt.figure(figsize=(10, 6))\n",
    "plt.bar(letters, frequencies, color='blue')\n",
    "plt.xlabel('Letters')\n",
    "plt.ylabel('Frequency')\n",
    "plt.title('Letter Distribution in wikipedia Cybersecurity text')\n",
    "plt.show()"
   ]
  },
  {
   "cell_type": "code",
   "execution_count": 74,
   "id": "862cf0c3-d828-4e1c-a10c-485d7f7c5a5d",
   "metadata": {},
   "outputs": [],
   "source": [
    "# store the distribution as a pickle file\n",
    "import pickle\n",
    "with open('English_letter_distribution.pkl', 'wb') as f:\n",
    "    pickle.dump(dist, f)"
   ]
  },
  {
   "cell_type": "markdown",
   "id": "843e03cd",
   "metadata": {},
   "source": [
    "#### Perform attack"
   ]
  },
  {
   "cell_type": "code",
   "execution_count": null,
   "id": "af14a82e-0202-4d9f-abb3-e1feba2c439c",
   "metadata": {},
   "outputs": [
    {
     "name": "stdout",
     "output_type": "stream",
     "text": [
      "\n",
      "Updated Mapping of Ciphertext Letters to Plaintext Letters:\n",
      "m -> e\n",
      "g -> t\n",
      "b -> a\n",
      "v -> i\n",
      "l -> s\n",
      "f -> n\n",
      "s -> r\n",
      "d -> o\n",
      "c -> h\n",
      "w -> l\n",
      "p -> c\n",
      "j -> d\n",
      "y -> p\n",
      "x -> u\n",
      "k -> m\n",
      "o -> b\n",
      "r -> f\n",
      "e -> y\n",
      "t -> g\n",
      "u -> w\n",
      "a -> v\n",
      "q -> k\n",
      "n -> x\n",
      "h -> q\n",
      "i -> z\n",
      "è -> q\n",
      "z -> ò\n",
      "é -> à\n",
      "ñ -> ś\n"
     ]
    }
   ],
   "source": [
    "# perform Frequency analysis attack\n",
    "from collections import defaultdict\n",
    "\n",
    "# Load ciphertext\n",
    "with open(file='ciphertext_simple.txt', encoding='utf-8') as f:\n",
    "    ciphertext = f.read()\n",
    "\n",
    "cipher_dist = letter_distribution(ciphertext)\n",
    "with open('English_letter_distribution.pkl', 'rb') as f:\n",
    "    english_dist = pickle.load(f)\n",
    "sorted_cipher = sorted(cipher_dist.items(), key=lambda x: x[1], reverse=True)\n",
    "sorted_english = sorted(english_dist.items(), key=lambda x: x[1], reverse=True)\n",
    "mapping = {}\n",
    "for (cipher_char, _), (english_char, _) in zip(sorted_cipher, sorted_english):\n",
    "    mapping[cipher_char] = english_char\n",
    "mapping['m'] = 'e'  \n",
    "mapping['x'] = 'u' \n",
    "mapping['g'] = 't'  \n",
    "mapping['b'] = 'a'  \n",
    "mapping['v'] = 'i'  \n",
    "mapping['l'] = 's'  \n",
    "mapping['f'] = 'n'  \n",
    "mapping['s'] = 'r'  \n",
    "mapping['d'] = 'o'\n",
    "mapping['c'] = 'h'\n",
    "mapping['j'] = 'd' \n",
    "mapping['w'] = 'l'  \n",
    "mapping['u'] = 'w' \n",
    "mapping['a'] = 'v' \n",
    "mapping['p'] = 'c' \n",
    "mapping['y'] = 'p'\n",
    "mapping['k'] = 'm'\n",
    "mapping['o'] = 'b'\n",
    "mapping['t'] = 'g'\n",
    "mapping['r'] = 'f'  \n",
    "mapping['e'] = 'y'\n",
    "mapping['n'] = 'x'  \n",
    "mapping['h'] = 'q'  \n",
    "mapping['i'] = 'z'  \n",
    "mapping['è'] = 'q'  \n",
    "mapping['z'] = 'ò'  \n",
    "mapping['é'] = 'à'  \n",
    "mapping['ñ'] = 'ś'   \n",
    "# Print the updated mapping\n",
    "print(\"\\nUpdated Mapping of Ciphertext Letters to Plaintext Letters:\")\n",
    "for cipher_char, english_char in mapping.items():\n",
    "    print(f\"{cipher_char} -> {english_char}\")\n",
    "decrypted_text = []\n",
    "for char in ciphertext:\n",
    "    if char.lower() in mapping:\n",
    "        decrypted_text.append(mapping[char.lower()])\n",
    "    else:\n",
    "        decrypted_text.append(char) \n",
    "\n",
    "decrypted_text = ''.join(decrypted_text)\n"
   ]
  },
  {
   "cell_type": "code",
   "execution_count": null,
   "id": "bd3d17c5-49f3-4dfc-8a55-f854c5168eb7",
   "metadata": {},
   "outputs": [
    {
     "name": "stdout",
     "output_type": "stream",
     "text": [
      "Mapping of ciphertext letters to plaintext letters:\n",
      "m -> e\n",
      "g -> t\n",
      "b -> a\n",
      "v -> i\n",
      "l -> s\n",
      "f -> n\n",
      "s -> r\n",
      "d -> o\n",
      "c -> h\n",
      "w -> l\n",
      "p -> c\n",
      "j -> d\n",
      "y -> p\n",
      "x -> u\n",
      "k -> m\n",
      "o -> b\n",
      "r -> f\n",
      "e -> y\n",
      "t -> g\n",
      "u -> w\n",
      "a -> v\n",
      "q -> k\n",
      "n -> x\n",
      "h -> q\n",
      "i -> z\n",
      "è -> q\n",
      "z -> ò\n",
      "é -> à\n",
      "ñ -> ś\n"
     ]
    }
   ],
   "source": [
    "# print mapping\n",
    "print(\"Mapping of ciphertext letters to plaintext letters:\")\n",
    "for cipher_char, english_char in mapping.items():\n",
    "    print(f\"{cipher_char} -> {english_char}\")\n",
    "decrypted_text = []\n",
    "for char in ciphertext:\n",
    "    if char.lower() in mapping:\n",
    "        decrypted_text.append(mapping[char.lower()])\n",
    "    else:\n",
    "        decrypted_text.append(char)\n",
    "\n",
    "decrypted_text = ''.join(decrypted_text)"
   ]
  },
  {
   "cell_type": "code",
   "execution_count": 77,
   "id": "deb76657-5fce-4f72-9fee-9b4295f62c07",
   "metadata": {},
   "outputs": [
    {
     "name": "stdout",
     "output_type": "stream",
     "text": [
      "\n",
      "Decrypted Plaintext:\n",
      "in cryptography, a substitution cipher is a method of encrypting in which units of plaintext are replaced with the ciphertext, in a defined manner, with the help of a key; the \"units\" may be single letters (the most common), pairs of letters, triplets of letters, mixtures of the above, and so forth. the receiver deciphers the text by performing the inverse substitution process to extract the original message.\n",
      "substitution ciphers can be compared with transposition ciphers. in a transposition cipher, the units of the plaintext are rearranged in a different and usually quite complex order, but the units themselves are left unchanged. by contrast, in a substitution cipher, the units of the plaintext are retained in the same sequence in the ciphertext, but the units themselves are altered.\n",
      "there are a number of different types of substitution cipher. if the cipher operates on single letters, it is termed a simple substitution cipher; a cipher that operates on larger groups of letters is termed polygraphic. a monoalphabetic cipher uses fixed substitution over the entire message, whereas a polyalphabetic cipher uses a number of substitutions at different positions in the message, where a unit from the plaintext is mapped to one of several possibilities in the ciphertext and vice versa.\n",
      "the first ever published description of how to crack simple substitution ciphers was given by al-kindi in a manuscript on deciphering cryptographic messages written around 850 ce. the method he described is now known as frequency analysis.\n",
      "\n",
      "\n",
      "== types ==\n",
      "\n",
      "\n",
      "=== simple ===\n",
      "\n",
      "the simplest substitution ciphers are the caesar cipher and atbash cipher. here single letters are substituted (referred to as simple substitution). it can be demonstrated by writing out the alphabet twice, once in regular order and again with the letters shifted by some number of steps or reversed to represent the ciphertext alphabet (or substitution alphabet).\n",
      "the substitution alphabet could also be scrambled in a more complex fashion, in which case it is called a mixed alphabet or deranged alphabet. traditionally, mixed alphabets may be created by first writing out a keyword, removing repeated letters in it, then writing all the remaining letters in the alphabet in the usual order.\n",
      "using this system, the keyword \"zebras\" gives us the following alphabets:\n",
      "\n",
      "a message \n",
      "\n",
      "flee at once. we are discovered!\n",
      "\n",
      "enciphers to\n",
      "\n",
      "siaa zq lkba. va zoa rfpbluaoar!\n",
      "\n",
      "and the keyword \"grandmother\" gives us the following alphabets:\n",
      "\n",
      "the same message \n",
      "\n",
      "flee at once. we are discovered!\n",
      "\n",
      "enciphers to\n",
      "\n",
      "mcdd gs òiad. wd gpd nhqaòvdpdn!\n",
      "\n",
      "usually the ciphertext is written out in blocks of fixed length, omitting punctuation and spaces; this is done to disguise word boundaries from the plaintext and to help avoid transmission errors. these blocks are called \"groups\", and sometimes a \"group count\" (i.e. the number of groups) is given as an additional check. five-letter groups are often used, dating from when messages used to be transmitted by telegraph:\n",
      "\n",
      "siaaz qlkba vazoa rfpbl uaoar\n",
      "\n",
      "if the length of the message happens not to be divisible by five, it may be padded at the end with \"nulls\". these can be any characters that decrypt to obvious nonsense, so that the receiver can easily spot them and discard them.\n",
      "the ciphertext alphabet is sometimes different from the plaintext alphabet; for example, in the pigpen cipher, the ciphertext consists of a set of symbols derived from a grid. for example:\n",
      "\n",
      "such features make little difference to the security of a scheme, however – at the very least, any set of strange symbols can be transcribed back into an a-z alphabet and dealt with as normal.\n",
      "in lists and catalogues for salespeople, a very simple encryption is sometimes used to replace numeric digits by letters.\n",
      "\n",
      "examples: mat would be used to represent 120, papr would be used for 5256, and oftk would be used for 7803.\n",
      "\n",
      "\n",
      "==== security ====\n",
      "although the traditional keyword method for creating a mixed substitution alphabet is simple, a serious disadvantage is that the last letters of the alphabet (which are mostly low frequency) tend to stay at the end. a stronger way of constructing a mixed alphabet is to generate the substitution alphabet completely randomly.\n",
      "although the number of possible substitution alphabets is very large (26! ≈ 288.4, or about 88 bits), this cipher is not very strong, and is easily broken. provided the message is of reasonable length (see below), the cryptanalyst can deduce the probable meaning of the most common symbols by analyzing the frequency distribution of the ciphertext. this allows formation of partial words, which can be tentatively filled in, progressively expanding the (partial) solution (see frequency analysis for a demonstration of this). in some cases, underlying words can also be determined from the pattern of their letters; for example, the english words tater, ninth, and paper all have the pattern abacd. many people solve such ciphers for recreation, as with cryptogram puzzles in the newspaper.\n",
      "according to the unicity distance of english, 27.6 letters of ciphertext are required to crack a mixed alphabet simple substitution. in practice, typically about 50 letters are needed, although some messages can be broken with fewer if unusual patterns are found. in other cases, the plaintext can be contrived to have a nearly flat frequency distribution, and much longer plaintexts will then be required by the cryptanalyst.\n",
      "\n",
      "\n",
      "=== nomenclator ===\n",
      "\n",
      "one once-common variant of the substitution cipher is the nomenclator. named after the public official who announced the titles of visiting dignitaries, this cipher uses a small code sheet containing letter, syllable and word substitution tables, sometimes homophonic, that typically converted symbols into numbers. originally the code portion was restricted to the names of important people, hence the name of the cipher; in later years, it covered many common words and place names as well. the symbols for whole words (codewords in modern parlance) and letters (cipher in modern parlance) were not distinguished in the ciphertext. the rossignols' great cipher used by louis xiv of france was one.\n",
      "nomenclators were the standard fare of diplomatic correspondence, espionage, and advanced political conspiracy from the early fifteenth century to the late eighteenth century; most conspirators were and have remained less cryptographically sophisticated. although government intelligence cryptanalysts were systematically breaking nomenclators by the mid-sixteenth century, and superior systems had been available since 1467, the usual response to cryptanalysis was simply to make the tables larger. by the late eighteenth century, when the system was beginning to die out, some nomenclators had 50,000 symbols.\n",
      "nevertheless, not all nomenclators were broken; today, cryptanalysis of archived ciphertexts remains a fruitful area of historical research.\n",
      "\n",
      "\n",
      "=== homophonic ===\n",
      "an early attempt to increase the difficulty of frequency analysis attacks on substitution ciphers was to disguise plaintext letter frequencies by homophony. in these ciphers, plaintext letters map to more than one ciphertext symbol. usually, the highest-frequency plaintext symbols are given more equivalents than lower frequency letters. in this way, the frequency distribution is flattened, making analysis more difficult.\n",
      "since more than 26 characters will be required in the ciphertext alphabet, various solutions are employed to invent larger alphabets. perhaps the simplest is to use a numeric substitution 'alphabet'. another method consists of simple variations on the existing alphabet; uppercase, lowercase, upside down, etc. more artistically, though not necessarily more securely, some homophonic ciphers employed wholly invented alphabets of fanciful symbols.\n",
      "the book cipher is a type of homophonic cipher, one example being the beale ciphers. this is a story of buried treasure that was described in 1819–21 by use of a ciphered text that was keyed to the declaration of independence. here each ciphertext character was represented by a number.  the number was determined by taking the plaintext character and finding a word in the declaration of independence that started with that character and using the numerical position of that word in the declaration of independence as the encrypted form of that letter.  since many words in the declaration of independence start with the same letter, the encryption of that character could be any of the numbers associated with the words in the declaration of independence that start with that letter. deciphering the encrypted text character x (which is a number) is as simple as looking up the xth word of the declaration of independence and using the first letter of that word as the decrypted character.\n",
      "another homophonic cipher was described by stahl and was one of the first attempts to provide for computer security of data systems in computers through encryption. stahl constructed the cipher in such a way that the number of homophones for a given character was in proportion to the frequency of the character, thus making frequency analysis much more difficult.\n",
      "francesco i gonzaga, duke of mantua, used the earliest known example of a homophonic substitution cipher in 1401 for correspondence with one simone de crema.\n",
      "mary, queen of scots, while imprisoned by elizabeth i, during the years from 1578 to 1584 used homophonic ciphers with additional encryption using a nomenclator for frequent prefixes, suffixes, and proper names while communicating with her allies including michel de castelnau.\n",
      "\n",
      "\n",
      "=== polyalphabetic ===\n",
      "\n",
      "the work of al-qalqashandi (1355-1418), based on the earlier work of ibn al-durayhim (1312–1359), contained the first published discussion of the substitution and transposition of ciphers, as well as the first description of a polyalphabetic cipher, in which each plaintext letter is assigned more than one substitute. polyalphabetic substitution ciphers were later described in 1467 by leone battista alberti in the form of disks. òohannes trithemius, in his book steganographia (ancient greek for \"hidden writing\") introduced the now more standard form of a tableau (see below; ca. 1500 but not published until much later). a more sophisticated version using mixed alphabets was described in 1563 by giovanni battista della porta in his book, de furtivis literarum notis (latin for \"on concealed characters in writing\").\n",
      "in a polyalphabetic cipher, multiple cipher alphabets are used. to facilitate encryption, all the alphabets are usually written out in a large table, traditionally called a tableau. the tableau is usually 26×26, so that 26 full ciphertext alphabets are available. the method of filling the tableau, and of choosing which alphabet to use next, defines the particular polyalphabetic cipher. all such ciphers are easier to break than once believed, as substitution alphabets are repeated for sufficiently large plaintexts.\n",
      "one of the most popular was that of blaise de vigenqre. first published in 1585, it was considered unbreakable until 1863, and indeed was commonly called le chiffre indàchiffrable (french for \"indecipherable cipher\").\n",
      "in the vigenqre cipher, the first row of the tableau is filled out with a copy of the plaintext alphabet, and successive rows are simply shifted one place to the left. (such a simple tableau is called a tabula recta, and mathematically corresponds to adding the plaintext and key letters, modulo 26.) a keyword is then used to choose which ciphertext alphabet to use. each letter of the keyword is used in turn, and then they are repeated again from the beginning. so if the keyword is 'cat', the first letter of plaintext is enciphered under alphabet 'c', the second under 'a', the third under 't', the fourth under 'c' again, and so on, or if the keyword is 'rise', the first letter of plaintext is enciphered under alphabet 'r', the second under 'i', the third under 's', the fourth under 'e', and so on. in practice, vigenqre keys were often phrases several words long.\n",
      "in 1863, friedrich kasiski published a method (probably discovered secretly and independently before the crimean war by charles babbage) which enabled the calculation of the length of the keyword in a vigenqre ciphered message. once this was done, ciphertext letters that had been enciphered under the same alphabet could be picked out and attacked separately as a number of semi-independent simple substitutions - complicated by the fact that within one alphabet letters were separated and did not form complete words, but simplified by the fact that usually a tabula recta had been employed.\n",
      "as such, even today a vigenqre type cipher should theoretically be difficult to break if mixed alphabets are used in the tableau, if the keyword is random, and if the total length of ciphertext is less than 27.67 times the length of the keyword. these requirements are rarely understood in practice, and so vigenqre enciphered message security is usually less than might have been.\n",
      "other notable polyalphabetics include:\n",
      "\n",
      "the gronsfeld cipher. this is identical to the vigenqre except that only 10 alphabets are used, and so the \"keyword\" is numerical.\n",
      "the beaufort cipher. this is practically the same as the vigenqre, except the tabula recta is replaced by a backwards one, mathematically equivalent to ciphertext = key - plaintext. this operation is self-inverse, whereby the same table is used for both encryption and decryption.\n",
      "the autokey cipher, which mixes plaintext with a key to avoid periodicity.\n",
      "the running key cipher, where the key is made very long by using a passage from a book or similar text.\n",
      "modern stream ciphers can also be seen, from a sufficiently abstract perspective, to be a form of polyalphabetic cipher in which all the effort has gone into making the keystream as long and unpredictable as possible.\n",
      "\n",
      "\n",
      "=== polygraphic ===\n",
      "in a polygraphic substitution cipher, plaintext letters are substituted in larger groups, instead of substituting letters individually. the first advantage is that the frequency distribution is much flatter than that of individual letters (though not actually flat in real languages; for example, 'os' is much more common than 'rś' in spanish). second, the larger number of symbols requires correspondingly more ciphertext to productively analyze letter frequencies.\n",
      "to substitute pairs of letters would take a substitution alphabet 676 symbols long (\n",
      "  \n",
      "    \n",
      "      \n",
      "        \n",
      "          26\n",
      "          \n",
      "            2\n",
      "          \n",
      "        \n",
      "      \n",
      "    \n",
      "    {\\displaystyle 26^{2}}\n",
      "  \n",
      "). in the same de furtivis literarum notis mentioned above, della porta actually proposed such a system, with a 20 x 20 tableau (for the 20 letters of the italian/latin alphabet he was using) filled with 400 unique glyphs. however the system was impractical and probably never actually used.\n",
      "the earliest practical digraphic cipher (pairwise substitution), was the so-called playfair cipher, invented by sir charles wheatstone in 1854. in this cipher, a 5 x 5 grid is filled with the letters of a mixed alphabet (two letters, usually i and ò, are combined). a digraphic substitution is then simulated by taking pairs of letters as two corners of a rectangle, and using the other two corners as the ciphertext (see the playfair cipher main article for a diagram). special rules handle double letters and pairs falling in the same row or column. playfair was in military use from the boer war through world war ii.\n",
      "several other practical polygraphics were introduced in 1901 by felix delastelle, including the bifid and four-square ciphers (both digraphic) and the trifid cipher (probably the first practical trigraphic).\n",
      "the hill cipher, invented in 1929 by lester s. hill, is a polygraphic substitution which can combine much larger groups of letters simultaneously using linear algebra. each letter is treated as a digit in base 26: a = 0, b =1, and so on. (in a variation, 3 extra symbols are added to make the basis prime.) a block of n letters is then considered as a vector of n dimensions, and multiplied by a n x n matrix, modulo 26. the components of the matrix are the key, and should be random provided that the matrix is invertible in \n",
      "  \n",
      "    \n",
      "      \n",
      "        \n",
      "          \n",
      "            z\n",
      "          \n",
      "          \n",
      "            26\n",
      "          \n",
      "          \n",
      "            n\n",
      "          \n",
      "        \n",
      "      \n",
      "    \n",
      "    {\\displaystyle \\mathbb {z} _{26}^{n}}\n",
      "  \n",
      " (to ensure decryption is possible). a mechanical version of the hill cipher of dimension 6 was patented in 1929.\n",
      "the hill cipher is vulnerable to a known-plaintext attack because it is completely linear, so it must be combined with some non-linear step to defeat this attack. the combination of wider and wider weak, linear diffusive steps like a hill cipher, with non-linear substitution steps, ultimately leads to a substitution–permutation network (e.g. a feistel cipher), so it is possible – from this extreme perspective – to consider modern block ciphers as a type of polygraphic substitution.\n",
      "\n",
      "\n",
      "=== mechanical ===\n",
      "\n",
      "between around world war i and the widespread availability of computers (for some governments this was approximately the 1950s or 1960s; for other organizations it was a decade or more later; for individuals it was no earlier than 1975), mechanical implementations of polyalphabetic substitution ciphers were widely used. several inventors had similar ideas about the same time, and rotor cipher machines were patented four times in 1919. the most important of the resulting machines was the enigma, especially in the versions used by the german military from approximately 1930. the allies also developed and used rotor machines (e.g., sigaba and typex).\n",
      "all of these were similar in that the substituted letter was chosen electrically from amongst the huge number of possible combinations resulting from the rotation of several letter disks. since one or more of the disks rotated mechanically with each plaintext letter enciphered, the number of alphabets used was astronomical. early versions of these machine were, nevertheless, breakable. william f. friedman of the us army's sis early found vulnerabilities in hebern's rotor machine, and gc&cs's dillwyn knox solved versions of the enigma machine (those without the \"plugboard\") well before wwii began. traffic protected by essentially all of the german military enigmas was broken by allied cryptanalysts, most notably those at bletchley park, beginning with the german army variant used in the early 1930s. this version was broken by inspired mathematical insight by marian reòewski in poland.\n",
      "as far as is publicly known, no messages protected by the sigaba and typex machines were ever broken during or near the time when these systems were in service.\n",
      "\n",
      "\n",
      "=== one-time pad ===\n",
      "\n",
      "one type of substitution cipher, the one-time pad, is unique. it was invented near the end of world war i by gilbert vernam and òoseph mauborgne in the us. it was mathematically proven unbreakable by claude shannon, probably during world war ii; his work was first published in the late 1940s. in its most common implementation, the one-time pad can be called a substitution cipher only from an unusual perspective; typically, the plaintext letter is combined (not substituted) in some manner (e.g., xor) with the key material character at that position.\n",
      "the one-time pad is, in most cases, impractical as it requires that the key material be as long as the plaintext, actually random, used once and only once, and kept entirely secret from all except the sender and intended receiver. when these conditions are violated, even marginally, the one-time pad is no longer unbreakable. soviet one-time pad messages sent from the us for a brief time during world war ii used non-random key material. us cryptanalysts, beginning in the late 40s, were able to, entirely or partially, break a few thousand messages out of several hundred thousand. (see venona proòect)\n",
      "in a mechanical implementation, rather like the rockex equipment, the one-time pad was used for messages sent on the moscow-washington hot line established after the cuban missile crisis.\n",
      "\n",
      "\n",
      "== in modern cryptography ==\n",
      "substitution ciphers as discussed above, especially the older pencil-and-paper hand ciphers, are no longer in serious use. however, the cryptographic concept of substitution carries on even today. from an abstract perspective, modern bit-oriented block ciphers (e.g., des, or aes) can be viewed as substitution ciphers on a large binary alphabet. in addition, block ciphers often include smaller substitution tables called s-boxes. see also substitution–permutation network.\n",
      "\n",
      "\n",
      "== in popular culture ==\n",
      "sherlock holmes breaks a substitution cipher in \"the adventure of the dancing men\". there, the cipher remained undeciphered for years if not decades; not due to its difficulty, but because no one suspected it to be a code, instead considering it childish scribblings.\n",
      "the  standard galactic alphabet, the writing system in the commander keen video games and in minecraft.\n",
      "the al bhed language in final fantasy x is actually a substitution cipher, although it is pronounced phonetically (i.e. \"you\" in english is translated to \"oui\" in al bhed, but is pronounced the same way that \"oui\" is pronounced in french).\n",
      "the minbari's alphabet from the babylon 5 series is a substitution cipher from english.\n",
      "the language in starfox adventures: dinosaur planet spoken by native saurians and krystal is also a substitution cipher of the english alphabet.\n",
      "the television program futurama contained a substitution cipher in which all 26 letters were replaced by symbols and called \"alien language\" archived 2022-12-25 at the wayback machine. this was deciphered rather quickly by the die hard viewers by showing a \"slurm\" ad with the word \"drink\" in both plain english and the alien language thus giving the key. later, the producers created a second alien language that used a combination of replacement and mathematical ciphers. once the english letter of the alien language is deciphered, then the numerical value of that letter (0 for \"a\" through 25 for \"z\" respectively) is then added (modulo 26) to the value of the previous letter showing the actual intended letter. these messages can be seen throughout every episode of the series and the subsequent movies.\n",
      "at the end of every season 1 episode of the cartoon series gravity falls, during the credit roll, there is one of three simple substitution ciphers: a -3 caesar cipher (hinted by \"3 letters back\" at the end of the opening sequence), an atbash cipher, or a letter-to-number simple substitution cipher. the season 1 finale encodes a message with all three. in the second season, vigenqre ciphers are used in place of the various monoalphabetic ciphers, each using a key hidden within its episode.\n",
      "in the artemis fowl series by eoin colfer there are three substitution ciphers; gnommish, centaurean and eternean, which run along the bottom of the pages or are somewhere else within the books.\n",
      "in bitterblue, the third novel by kristin cashore, substitution ciphers serve as an important form of coded communication.\n",
      "in the 2013 video game bioshock infinite, there are substitution ciphers hidden throughout the game in which the player must find code books to help decipher them and gain access to a surplus of supplies.\n",
      "in the anime adaptation of the devil is a part-timer!, the language of ente isla, called entean, uses a substitution cipher with the ciphertext alphabet azyxewvtisrlpnomqkòhugfdcb, leaving only a, e, i, o, u, l, n, and q in their original positions.\n",
      "\n",
      "\n",
      "== see also ==\n",
      "ban (unit) with centiban table\n",
      "copiale cipher\n",
      "dictionary coder – lossless data compression algorithms which operate by looking for matches between the text to be compressed and a set of strings (“dictionary”) maintained by the encoder; such a match is substituted by a reference to the string’s position in the setpages displaying wikidata descriptions as a fallback\n",
      "leet\n",
      "vigenqre cipher\n",
      "topics in cryptography\n",
      "musical substitution ciphers\n",
      "\n",
      "\n",
      "== references ==\n",
      "\n",
      "\n",
      "== external links ==\n",
      "monoalphabetic substitution breaking a monoalphabetic encryption system using a known plaintext attack\n"
     ]
    }
   ],
   "source": [
    "# print decrypted plaintext\n",
    "print(\"\\nDecrypted Plaintext:\")\n",
    "print(decrypted_text)"
   ]
  },
  {
   "cell_type": "markdown",
   "id": "04ca2b25-4875-4c46-8c53-700a2cf9b658",
   "metadata": {},
   "source": [
    "## Conclusion"
   ]
  },
  {
   "cell_type": "markdown",
   "id": "a0b88e69-52b0-42d2-bcdd-8a53c94307e1",
   "metadata": {},
   "source": [
    "This assignment serves as a comprehensive introduction to classical cryptography, combining theoretical knowledge with practical application. It is particularly valuable for beginners, offering a structured yet challenging pathway to understanding encryption, decryption, and cryptographic analysis.  \n",
    "**Conclusive Remark:** While substitution ciphers are relatively straightforward to decrypt using frequency analysis, the process often requires a trial-and-error approach to accurately map ciphertext letters to their corresponding plaintext letters. This iterative process highlights the importance of pattern recognition, critical thinking, and manual intervention in cryptographic analysis, even for seemingly simple encryption methods."
   ]
  }
 ],
 "metadata": {
  "kernelspec": {
   "display_name": "Python 3",
   "language": "python",
   "name": "python3"
  },
  "language_info": {
   "codemirror_mode": {
    "name": "ipython",
    "version": 3
   },
   "file_extension": ".py",
   "mimetype": "text/x-python",
   "name": "python",
   "nbconvert_exporter": "python",
   "pygments_lexer": "ipython3",
   "version": "3.11.11"
  }
 },
 "nbformat": 4,
 "nbformat_minor": 5
}
